{
 "cells": [
  {
   "cell_type": "code",
   "execution_count": 1,
   "metadata": {},
   "outputs": [],
   "source": [
    "from google.cloud import bigquery\n",
    "\n",
    "client = bigquery.Client()"
   ]
  },
  {
   "cell_type": "code",
   "execution_count": 2,
   "metadata": {},
   "outputs": [
    {
     "data": {
      "text/html": [
       "<div>\n",
       "<style scoped>\n",
       "    .dataframe tbody tr th:only-of-type {\n",
       "        vertical-align: middle;\n",
       "    }\n",
       "\n",
       "    .dataframe tbody tr th {\n",
       "        vertical-align: top;\n",
       "    }\n",
       "\n",
       "    .dataframe thead th {\n",
       "        text-align: right;\n",
       "    }\n",
       "</style>\n",
       "<table border=\"1\" class=\"dataframe\">\n",
       "  <thead>\n",
       "    <tr style=\"text-align: right;\">\n",
       "      <th></th>\n",
       "      <th>SOC</th>\n",
       "      <th>url</th>\n",
       "      <th>plate_num</th>\n",
       "      <th>provider_id</th>\n",
       "      <th>provider_verify_digit</th>\n",
       "      <th>provider_name</th>\n",
       "      <th>driver_id</th>\n",
       "      <th>driver_verify_digit</th>\n",
       "      <th>driver_name</th>\n",
       "      <th>driver_last_name</th>\n",
       "      <th>event_crte_tmst</th>\n",
       "      <th>dfl_crte_tmst</th>\n",
       "    </tr>\n",
       "  </thead>\n",
       "  <tbody>\n",
       "    <tr>\n",
       "      <th>0</th>\n",
       "      <td>149075015382</td>\n",
       "      <td>https://prdadessacorptrl.blob.core.windows.net...</td>\n",
       "      <td>GXCH37</td>\n",
       "      <td>J4c9jzi306BuqwRWcqHtDQ==</td>\n",
       "      <td>7RWrtWFTFbftYaOZyoKs+A==</td>\n",
       "      <td>MOTOPARTNER</td>\n",
       "      <td>eMuIwheFR6wSoAfHk6bb8g==</td>\n",
       "      <td>LPxnWw1T7cmJqe00ZI4cBg==</td>\n",
       "      <td>nKMuGPwAtWUzy7WFwgQkm1ltn9mx9Jnhr6qkkTyR808=</td>\n",
       "      <td>ABA6auDjt3k/k3+ApZuXYQ==</td>\n",
       "      <td>2022-09-26 09:31:57</td>\n",
       "      <td>2022-09-26 12:31:57.396000+00:00</td>\n",
       "    </tr>\n",
       "    <tr>\n",
       "      <th>1</th>\n",
       "      <td>149075015382</td>\n",
       "      <td>https://prdadessacorptrl.blob.core.windows.net...</td>\n",
       "      <td>GXCH37</td>\n",
       "      <td>J4c9jzi306BuqwRWcqHtDQ==</td>\n",
       "      <td>7RWrtWFTFbftYaOZyoKs+A==</td>\n",
       "      <td>MOTOPARTNER</td>\n",
       "      <td>eMuIwheFR6wSoAfHk6bb8g==</td>\n",
       "      <td>LPxnWw1T7cmJqe00ZI4cBg==</td>\n",
       "      <td>nKMuGPwAtWUzy7WFwgQkm1ltn9mx9Jnhr6qkkTyR808=</td>\n",
       "      <td>ABA6auDjt3k/k3+ApZuXYQ==</td>\n",
       "      <td>2022-09-26 09:31:57</td>\n",
       "      <td>2022-09-26 12:31:57.396000+00:00</td>\n",
       "    </tr>\n",
       "    <tr>\n",
       "      <th>2</th>\n",
       "      <td>149074991253</td>\n",
       "      <td>https://prdadessacorptrl.blob.core.windows.net...</td>\n",
       "      <td>PPWH25</td>\n",
       "      <td>J4c9jzi306BuqwRWcqHtDQ==</td>\n",
       "      <td>7RWrtWFTFbftYaOZyoKs+A==</td>\n",
       "      <td>MOTOPARTNER</td>\n",
       "      <td>JfUTfqLmDRI4cX7l6y9MvQ==</td>\n",
       "      <td>rJIR5AOMlL2ZSnKczYh9vw==</td>\n",
       "      <td>C9KA4iCruf4BVsVIrF18Aw==</td>\n",
       "      <td>72gyIgcVjLfOMwTgwxjDqQ==</td>\n",
       "      <td>2022-09-26 15:28:07</td>\n",
       "      <td>2022-09-26 18:28:08.317000+00:00</td>\n",
       "    </tr>\n",
       "    <tr>\n",
       "      <th>3</th>\n",
       "      <td>149074991253</td>\n",
       "      <td>https://prdadessacorptrl.blob.core.windows.net...</td>\n",
       "      <td>PPWH25</td>\n",
       "      <td>J4c9jzi306BuqwRWcqHtDQ==</td>\n",
       "      <td>7RWrtWFTFbftYaOZyoKs+A==</td>\n",
       "      <td>MOTOPARTNER</td>\n",
       "      <td>JfUTfqLmDRI4cX7l6y9MvQ==</td>\n",
       "      <td>rJIR5AOMlL2ZSnKczYh9vw==</td>\n",
       "      <td>C9KA4iCruf4BVsVIrF18Aw==</td>\n",
       "      <td>72gyIgcVjLfOMwTgwxjDqQ==</td>\n",
       "      <td>2022-09-26 15:28:07</td>\n",
       "      <td>2022-09-26 18:28:08.317000+00:00</td>\n",
       "    </tr>\n",
       "    <tr>\n",
       "      <th>4</th>\n",
       "      <td>149075001055</td>\n",
       "      <td>https://prdadessacorptrl.blob.core.windows.net...</td>\n",
       "      <td>RRKK75</td>\n",
       "      <td>8BGwtiLh7CI3NWIkWUNhGA==</td>\n",
       "      <td>VP1bw9pIU6/icWj/nzyfDQ==</td>\n",
       "      <td>Lollevo - Transvip</td>\n",
       "      <td>qc44lI9ayPIoMGkR0H6NiQ==</td>\n",
       "      <td>Np2HCSmY/XPkFepdIy02HA==</td>\n",
       "      <td>Ra/o6IGsJvfuyctSlSAQ6w==</td>\n",
       "      <td>None</td>\n",
       "      <td>2022-09-26 19:01:00</td>\n",
       "      <td>2022-09-26 22:01:01.174000+00:00</td>\n",
       "    </tr>\n",
       "  </tbody>\n",
       "</table>\n",
       "</div>"
      ],
      "text/plain": [
       "            SOC                                                url plate_num  \\\n",
       "0  149075015382  https://prdadessacorptrl.blob.core.windows.net...    GXCH37   \n",
       "1  149075015382  https://prdadessacorptrl.blob.core.windows.net...    GXCH37   \n",
       "2  149074991253  https://prdadessacorptrl.blob.core.windows.net...    PPWH25   \n",
       "3  149074991253  https://prdadessacorptrl.blob.core.windows.net...    PPWH25   \n",
       "4  149075001055  https://prdadessacorptrl.blob.core.windows.net...    RRKK75   \n",
       "\n",
       "                provider_id     provider_verify_digit       provider_name  \\\n",
       "0  J4c9jzi306BuqwRWcqHtDQ==  7RWrtWFTFbftYaOZyoKs+A==         MOTOPARTNER   \n",
       "1  J4c9jzi306BuqwRWcqHtDQ==  7RWrtWFTFbftYaOZyoKs+A==         MOTOPARTNER   \n",
       "2  J4c9jzi306BuqwRWcqHtDQ==  7RWrtWFTFbftYaOZyoKs+A==         MOTOPARTNER   \n",
       "3  J4c9jzi306BuqwRWcqHtDQ==  7RWrtWFTFbftYaOZyoKs+A==         MOTOPARTNER   \n",
       "4  8BGwtiLh7CI3NWIkWUNhGA==  VP1bw9pIU6/icWj/nzyfDQ==  Lollevo - Transvip   \n",
       "\n",
       "                  driver_id       driver_verify_digit  \\\n",
       "0  eMuIwheFR6wSoAfHk6bb8g==  LPxnWw1T7cmJqe00ZI4cBg==   \n",
       "1  eMuIwheFR6wSoAfHk6bb8g==  LPxnWw1T7cmJqe00ZI4cBg==   \n",
       "2  JfUTfqLmDRI4cX7l6y9MvQ==  rJIR5AOMlL2ZSnKczYh9vw==   \n",
       "3  JfUTfqLmDRI4cX7l6y9MvQ==  rJIR5AOMlL2ZSnKczYh9vw==   \n",
       "4  qc44lI9ayPIoMGkR0H6NiQ==  Np2HCSmY/XPkFepdIy02HA==   \n",
       "\n",
       "                                    driver_name          driver_last_name  \\\n",
       "0  nKMuGPwAtWUzy7WFwgQkm1ltn9mx9Jnhr6qkkTyR808=  ABA6auDjt3k/k3+ApZuXYQ==   \n",
       "1  nKMuGPwAtWUzy7WFwgQkm1ltn9mx9Jnhr6qkkTyR808=  ABA6auDjt3k/k3+ApZuXYQ==   \n",
       "2                      C9KA4iCruf4BVsVIrF18Aw==  72gyIgcVjLfOMwTgwxjDqQ==   \n",
       "3                      C9KA4iCruf4BVsVIrF18Aw==  72gyIgcVjLfOMwTgwxjDqQ==   \n",
       "4                      Ra/o6IGsJvfuyctSlSAQ6w==                      None   \n",
       "\n",
       "      event_crte_tmst                    dfl_crte_tmst  \n",
       "0 2022-09-26 09:31:57 2022-09-26 12:31:57.396000+00:00  \n",
       "1 2022-09-26 09:31:57 2022-09-26 12:31:57.396000+00:00  \n",
       "2 2022-09-26 15:28:07 2022-09-26 18:28:08.317000+00:00  \n",
       "3 2022-09-26 15:28:07 2022-09-26 18:28:08.317000+00:00  \n",
       "4 2022-09-26 19:01:00 2022-09-26 22:01:01.174000+00:00  "
      ]
     },
     "execution_count": 2,
     "metadata": {},
     "output_type": "execute_result"
    }
   ],
   "source": [
    "# Query para obtener la data de 3 días antes, considerando que el enlace de la foto, \n",
    "# el nombre del transportista y su rut, no sean nulos\n",
    "\n",
    "sql = \"\"\"\n",
    "SELECT transport_ord_id as SOC, i.url as url, shipment.plate_num as plate_num, \n",
    "provider.doc_id as provider_id, \n",
    "provider.doc_verify_digit as provider_verify_digit,\n",
    "provider.name as provider_name, driver.doc_id as driver_id, \n",
    "driver.doc_verify_digit as driver_verify_digit,\n",
    "driver.name as driver_name, driver.last_name as driver_last_name,\n",
    "DATETIME(event_crte_tmst, 'America/Santiago') as event_crte_tmst, dfl_crte_tmst\n",
    "FROM \n",
    "`tc-sc-bi-bigdata-corp-tsod-dev.image_recognition.btd_scha_fal_trmg_api_transport_order_temp`,\n",
    "unnest(image) as i\n",
    "\n",
    "WHERE\n",
    "  i.url is not null\n",
    "  and provider.name is not null\n",
    "  and provider.doc_id is not null\n",
    "  and DATE(event_crte_tmst, 'America/Santiago') = current_date() - 3\n",
    "\n",
    "\"\"\"\n",
    "\n",
    "df_images = client.query(sql).to_dataframe()\n",
    "\n",
    "df_images.head(5)"
   ]
  },
  {
   "cell_type": "code",
   "execution_count": 3,
   "metadata": {},
   "outputs": [],
   "source": [
    "# prueba\n",
    "#sql = \"\"\"\n",
    "#SELECT transport_ord_id as SOC, i.url as url, shipment.plate_num as plate_num, \n",
    "#provider.doc_id as provider_id, \n",
    "#provider.doc_verify_digit as provider_verify_digit,\n",
    "#provider.name as provider_name, driver.doc_id as driver_id, \n",
    "#driver.doc_verify_digit as driver_verify_digit,\n",
    "#driver.name as driver_name, driver.last_name as driver_last_name,\n",
    "#event_crte_tmst, dfl_crte_tmst\n",
    "#FROM \n",
    "#`tc-sc-bi-bigdata-corp-tsod-dev.image_recognition.btd_scha_fal_trmg_api_transport_order`,\n",
    "#unnest(image) as i\n",
    "#\n",
    "#LIMIT 500\n",
    "#\"\"\"\n",
    "#\n",
    "#df_images = client.query(sql).to_dataframe()\n",
    "#\n",
    "#df_images.head()"
   ]
  },
  {
   "cell_type": "code",
   "execution_count": 4,
   "metadata": {},
   "outputs": [],
   "source": [
    "df = df_images.copy()"
   ]
  },
  {
   "cell_type": "code",
   "execution_count": 5,
   "metadata": {},
   "outputs": [
    {
     "data": {
      "text/plain": [
       "SOC                      False\n",
       "url                      False\n",
       "plate_num                False\n",
       "provider_id              False\n",
       "provider_verify_digit     True\n",
       "provider_name            False\n",
       "driver_id                 True\n",
       "driver_verify_digit       True\n",
       "driver_name               True\n",
       "driver_last_name          True\n",
       "event_crte_tmst          False\n",
       "dfl_crte_tmst            False\n",
       "dtype: bool"
      ]
     },
     "execution_count": 5,
     "metadata": {},
     "output_type": "execute_result"
    }
   ],
   "source": [
    "df.isnull().any()"
   ]
  },
  {
   "cell_type": "code",
   "execution_count": 6,
   "metadata": {
    "colab": {
     "base_uri": "https://localhost:8080/"
    },
    "id": "ZKOThTSiRQbs",
    "outputId": "170aad89-9ea4-41b3-a710-ba6e506d30ed"
   },
   "outputs": [],
   "source": [
    "#!pip install ipython-autotime"
   ]
  },
  {
   "cell_type": "code",
   "execution_count": 7,
   "metadata": {
    "colab": {
     "base_uri": "https://localhost:8080/"
    },
    "id": "OYMyRHDpRVHp",
    "outputId": "6bb75a20-bd90-48f1-9b77-ca410522352f"
   },
   "outputs": [
    {
     "name": "stdout",
     "output_type": "stream",
     "text": [
      "time: 172 µs (started: 2022-09-29 13:10:43 +00:00)\n"
     ]
    }
   ],
   "source": [
    "%load_ext autotime"
   ]
  },
  {
   "cell_type": "markdown",
   "metadata": {
    "id": "oUSQ0_cQZ_EG"
   },
   "source": [
    "# Cargar modelos"
   ]
  },
  {
   "cell_type": "code",
   "execution_count": 8,
   "metadata": {
    "colab": {
     "base_uri": "https://localhost:8080/"
    },
    "id": "OGcgcEAQgM91",
    "outputId": "463e3ad7-5913-402e-a97e-a4a412f4a3c7"
   },
   "outputs": [
    {
     "name": "stdout",
     "output_type": "stream",
     "text": [
      "time: 201 µs (started: 2022-09-29 13:10:43 +00:00)\n"
     ]
    }
   ],
   "source": [
    "#!pip install pytorch-ignite"
   ]
  },
  {
   "cell_type": "code",
   "execution_count": 9,
   "metadata": {
    "colab": {
     "base_uri": "https://localhost:8080/"
    },
    "id": "6_vxYx-kqWM9",
    "outputId": "fd719451-d280-48be-c9e8-0dbe14216e67"
   },
   "outputs": [
    {
     "name": "stdout",
     "output_type": "stream",
     "text": [
      "time: 601 µs (started: 2022-09-29 13:10:43 +00:00)\n"
     ]
    }
   ],
   "source": [
    "# Install dependencies\n",
    "\n",
    "#!pip install albumentations\n",
    "#!pip install pycocotools --quiet\n",
    "\n",
    "# Clone TorchVision repo and copy helper files\n",
    "#!git clone https://github.com/pytorch/vision.git\n",
    "#%cd vision\n",
    "#!git checkout v0.3.0\n",
    "#%cd ..\n",
    "#!cp vision/references/detection/utils.py ./\n",
    "#!cp vision/references/detection/transforms.py ./\n",
    "#!cp vision/references/detection/coco_eval.py ./\n",
    "#!cp vision/references/detection/engine.py ./\n",
    "#!cp vision/references/detection/coco_utils.py ./"
   ]
  },
  {
   "cell_type": "code",
   "execution_count": 10,
   "metadata": {
    "colab": {
     "base_uri": "https://localhost:8080/"
    },
    "id": "JP5zwN_ef-pS",
    "outputId": "a724ab1d-31ea-4a13-c90b-5dc4b797a470"
   },
   "outputs": [
    {
     "name": "stderr",
     "output_type": "stream",
     "text": [
      "/opt/conda/lib/python3.7/site-packages/tqdm/auto.py:22: TqdmWarning: IProgress not found. Please update jupyter and ipywidgets. See https://ipywidgets.readthedocs.io/en/stable/user_install.html\n",
      "  from .autonotebook import tqdm as notebook_tqdm\n"
     ]
    },
    {
     "data": {
      "text/plain": [
       "<matplotlib.pyplot._IonContext at 0x7fe984625fd0>"
      ]
     },
     "execution_count": 10,
     "metadata": {},
     "output_type": "execute_result"
    },
    {
     "name": "stdout",
     "output_type": "stream",
     "text": [
      "time: 1.3 s (started: 2022-09-29 13:10:43 +00:00)\n"
     ]
    }
   ],
   "source": [
    "# imporar librerias\n",
    "from __future__ import print_function, division\n",
    "import os\n",
    "import torch\n",
    "import pandas as pd\n",
    "from skimage import io, transform\n",
    "import numpy as np\n",
    "import matplotlib.pyplot as plt\n",
    "from torch.utils.data import Dataset, DataLoader\n",
    "import torch.utils.data as data\n",
    "from torchvision import transforms \n",
    "from torch import nn, optim\n",
    "import torch.optim as optim\n",
    "from torchvision.models import resnet101\n",
    "import urllib.request\n",
    "import cv2\n",
    "\n",
    "from ignite.metrics import ClassificationReport\n",
    "from ignite.engine import *\n",
    "from ignite.handlers import *\n",
    "from ignite.metrics import *\n",
    "from ignite.utils import *\n",
    "from ignite.contrib.metrics.regression import *\n",
    "from ignite.contrib.metrics import *\n",
    "\n",
    "from genericpath import exists\n",
    "\n",
    "# Ignore warnings\n",
    "import warnings\n",
    "warnings.filterwarnings(\"ignore\")\n",
    "\n",
    "plt.ion()   # interactive mode"
   ]
  },
  {
   "cell_type": "code",
   "execution_count": 11,
   "metadata": {
    "colab": {
     "base_uri": "https://localhost:8080/"
    },
    "id": "_wZHSTyIqRrv",
    "outputId": "62f2acc8-5c73-417e-8e57-497223d12ec5"
   },
   "outputs": [
    {
     "name": "stdout",
     "output_type": "stream",
     "text": [
      "time: 121 ms (started: 2022-09-29 13:10:45 +00:00)\n"
     ]
    }
   ],
   "source": [
    "# basic python and ML Libraries\n",
    "import os\n",
    "import random\n",
    "import numpy as np\n",
    "import pandas as pd\n",
    "\n",
    "# for ignoring warnings\n",
    "import warnings\n",
    "warnings.filterwarnings('ignore')\n",
    "\n",
    "# We will be reading images using OpenCV\n",
    "import cv2\n",
    "\n",
    "# matplotlib for visualization\n",
    "import matplotlib.pyplot as plt\n",
    "import matplotlib.patches as patches\n",
    "\n",
    "# torchvision libraries\n",
    "import torch\n",
    "import torchvision\n",
    "from torchvision import transforms as torchtrans  \n",
    "from torchvision.models.detection.faster_rcnn import FastRCNNPredictor\n",
    "\n",
    "# helper libraries\n",
    "from engine import train_one_epoch, evaluate\n",
    "import utils\n",
    "import transforms as T\n",
    "\n",
    "# for image augmentations\n",
    "import albumentations as A\n",
    "from albumentations.pytorch.transforms import ToTensorV2\n"
   ]
  },
  {
   "cell_type": "code",
   "execution_count": 12,
   "metadata": {
    "colab": {
     "base_uri": "https://localhost:8080/",
     "height": 104,
     "referenced_widgets": [
      "a4d602abedbf472ba8443b587b7172a5",
      "e369973d094144a583efe831a749932e",
      "f185edec20214d4f9174944db636ce7b",
      "05887b1a958f4535938c3a9208b4ebaf",
      "a23ac5b3ea2d4bd9950f901288642e51",
      "d482f72576e946f59c20fea52f2973c3",
      "a0c5367310094e45baa5e4f21daa819a",
      "f3c586b991004e839c47ee46163195e8",
      "78b8a851199c421694811a3d2b09d77a",
      "9597f48902e54c7a9989484bcf6a239d",
      "4a4aad02b8d24bffa799e6a5fdd4e006"
     ]
    },
    "id": "HJ34_CvLZ1Ev",
    "outputId": "5405e17e-d28e-4ce8-db14-fa922c63a3c1"
   },
   "outputs": [
    {
     "name": "stdout",
     "output_type": "stream",
     "text": [
      "time: 2.76 s (started: 2022-09-29 13:10:45 +00:00)\n"
     ]
    }
   ],
   "source": [
    "from torchvision.models import resnext101_32x8d\n",
    "resnext1 = resnext101_32x8d(pretrained=True)\n",
    "resnext2 = resnext101_32x8d(pretrained=True)"
   ]
  },
  {
   "cell_type": "code",
   "execution_count": 13,
   "metadata": {
    "colab": {
     "base_uri": "https://localhost:8080/"
    },
    "id": "R92bFuyRgJyX",
    "outputId": "450b4d59-64ec-47cc-ceb8-aa6f601d110e"
   },
   "outputs": [
    {
     "name": "stdout",
     "output_type": "stream",
     "text": [
      "time: 907 µs (started: 2022-09-29 13:10:48 +00:00)\n"
     ]
    }
   ],
   "source": [
    "# Cargar backbone resnet y resnext\n",
    "class MultilabelClassifier1(nn.Module):\n",
    "    def __init__(self, n_classes, pretrain_model):\n",
    "        super().__init__()\n",
    "        self.pretrain_model = pretrain_model\n",
    "        self.model_wo_fc = nn.Sequential(*(list(self.pretrain_model.children())[:-1]))\n",
    "\n",
    "        self.classes = nn.Sequential(\n",
    "            nn.Dropout(p=0.2),\n",
    "            nn.Linear(in_features=2048, out_features=n_classes)\n",
    "        )\n",
    "\n",
    "    def forward(self, x):\n",
    "        x = self.model_wo_fc(x)\n",
    "        x = torch.flatten(x, 1)\n",
    "\n",
    "        return {\n",
    "            'label': self.classes(x)\n",
    "        }"
   ]
  },
  {
   "cell_type": "code",
   "execution_count": 14,
   "metadata": {
    "colab": {
     "base_uri": "https://localhost:8080/"
    },
    "id": "OS4Uf4A_gVOc",
    "outputId": "8845efa9-ce21-4a88-e9d8-6c92c50464df"
   },
   "outputs": [
    {
     "data": {
      "text/plain": [
       "<All keys matched successfully>"
      ]
     },
     "execution_count": 14,
     "metadata": {},
     "output_type": "execute_result"
    },
    {
     "name": "stdout",
     "output_type": "stream",
     "text": [
      "time: 3.5 s (started: 2022-09-29 13:10:48 +00:00)\n"
     ]
    }
   ],
   "source": [
    "# cargar modelo para cara y n° domicilio\n",
    "device = 'cuda'\n",
    "#device = 'cpu'\n",
    "PATH_1 =  '/home/jupyter/Score/Modelos/mlc_model_4.pth'\n",
    "ml_model_1 = MultilabelClassifier1(3, resnext1).to(device)\n",
    "ml_model_dict_1 = torch.load(PATH_1, map_location=torch.device(device))\n",
    "ml_model_1.load_state_dict(ml_model_dict_1['model_state_dict'])\n",
    "#ml_model_1.eval()"
   ]
  },
  {
   "cell_type": "code",
   "execution_count": 15,
   "metadata": {
    "id": "mu9LDubjFYMP"
   },
   "outputs": [
    {
     "data": {
      "text/plain": [
       "2.648120448645789"
      ]
     },
     "execution_count": 15,
     "metadata": {},
     "output_type": "execute_result"
    },
    {
     "name": "stdout",
     "output_type": "stream",
     "text": [
      "time: 2.61 ms (started: 2022-09-29 13:10:51 +00:00)\n"
     ]
    }
   ],
   "source": [
    "ml_model_dict_1['validation loss']"
   ]
  },
  {
   "cell_type": "code",
   "execution_count": 16,
   "metadata": {
    "colab": {
     "base_uri": "https://localhost:8080/"
    },
    "id": "VkSUyeTFFa-a",
    "outputId": "5c9f2b62-3e24-4cda-dbca-2fd21f2da7f2"
   },
   "outputs": [
    {
     "name": "stdout",
     "output_type": "stream",
     "text": [
      "6\n",
      "time: 1.02 ms (started: 2022-09-29 13:10:51 +00:00)\n"
     ]
    }
   ],
   "source": [
    "# obtener epoca óptima\n",
    "optimal_epoch = ml_model_dict_1['epoch']\n",
    "print(optimal_epoch)"
   ]
  },
  {
   "cell_type": "code",
   "execution_count": 17,
   "metadata": {
    "colab": {
     "base_uri": "https://localhost:8080/"
    },
    "id": "Tm-CvmiBXT3w",
    "outputId": "28e32eb8-7a55-4b9c-d1cd-d929864babc5"
   },
   "outputs": [
    {
     "name": "stdout",
     "output_type": "stream",
     "text": [
      "time: 1.47 ms (started: 2022-09-29 13:10:51 +00:00)\n"
     ]
    }
   ],
   "source": [
    "# Cargar backbone -> para modelo 'mlc_model_baseline_data_revisada_1_2.pth'\n",
    "class MultilabelClassifier2(nn.Module):\n",
    "    def __init__(self, n_classes, pretrain_model):\n",
    "        super().__init__()\n",
    "        self.pretrain_model = pretrain_model\n",
    "        self.model_wo_fc = nn.Sequential(*(list(self.pretrain_model.children())[:-1]))\n",
    "\n",
    "        self.classes = nn.Sequential(\n",
    "            nn.Dropout(p=0.2),\n",
    "            nn.Linear(in_features=2048, out_features=3)\n",
    "        )\n",
    "\n",
    "    def forward(self, x):\n",
    "        x = self.model_wo_fc(x)\n",
    "        x = torch.flatten(x, 1)\n",
    "\n",
    "        return {\n",
    "            'label': self.classes(x)\n",
    "        }"
   ]
  },
  {
   "cell_type": "code",
   "execution_count": 18,
   "metadata": {
    "colab": {
     "base_uri": "https://localhost:8080/"
    },
    "id": "Fm-CYGI1XCXP",
    "outputId": "162dbb7e-6eaa-4013-ea2b-70341e55a973"
   },
   "outputs": [
    {
     "data": {
      "text/plain": [
       "<All keys matched successfully>"
      ]
     },
     "execution_count": 18,
     "metadata": {},
     "output_type": "execute_result"
    },
    {
     "name": "stdout",
     "output_type": "stream",
     "text": [
      "time: 893 ms (started: 2022-09-29 13:10:51 +00:00)\n"
     ]
    }
   ],
   "source": [
    "# cargar modelo para etiqueta del producto\n",
    "device = 'cuda'\n",
    "#device = 'cpu'\n",
    "PATH_2 = '/home/jupyter/Score/Modelos/mlc_model_baseline_data_revisada_1_2.pth'\n",
    "ml_model_2 = MultilabelClassifier2(3, resnext2).to(device)\n",
    "ml_model_dict_2 = torch.load(PATH_2, map_location=torch.device(device))\n",
    "ml_model_2.load_state_dict(ml_model_dict_2['model_state_dict'])\n",
    "#ml_model_2.eval()"
   ]
  },
  {
   "cell_type": "code",
   "execution_count": 19,
   "metadata": {
    "colab": {
     "base_uri": "https://localhost:8080/"
    },
    "id": "Mh0l415kFkk6",
    "outputId": "8b0071e5-bb2e-4505-cdb6-9e9ee43be2d5"
   },
   "outputs": [
    {
     "data": {
      "text/plain": [
       "2.0754197467943256"
      ]
     },
     "execution_count": 19,
     "metadata": {},
     "output_type": "execute_result"
    },
    {
     "name": "stdout",
     "output_type": "stream",
     "text": [
      "time: 2.55 ms (started: 2022-09-29 13:10:52 +00:00)\n"
     ]
    }
   ],
   "source": [
    "ml_model_dict_2['validation loss']"
   ]
  },
  {
   "cell_type": "code",
   "execution_count": 20,
   "metadata": {
    "colab": {
     "base_uri": "https://localhost:8080/"
    },
    "id": "KMKYd-uWFm9-",
    "outputId": "d8ce9498-5983-4cf8-ad6c-04727ed08573"
   },
   "outputs": [
    {
     "name": "stdout",
     "output_type": "stream",
     "text": [
      "10\n",
      "time: 748 µs (started: 2022-09-29 13:10:52 +00:00)\n"
     ]
    }
   ],
   "source": [
    "# obtener epoca óptima\n",
    "optimal_epoch = ml_model_dict_2['epoch']\n",
    "print(optimal_epoch)"
   ]
  },
  {
   "cell_type": "code",
   "execution_count": 21,
   "metadata": {
    "colab": {
     "base_uri": "https://localhost:8080/"
    },
    "id": "rt2NjM5_p-Ag",
    "outputId": "a776eb5c-2e02-4842-b2bd-da49c11d646c"
   },
   "outputs": [
    {
     "name": "stdout",
     "output_type": "stream",
     "text": [
      "time: 1.6 ms (started: 2022-09-29 13:10:52 +00:00)\n"
     ]
    }
   ],
   "source": [
    "# REFERENCIAR!\n",
    "# función de ayuda para cargar modelo\n",
    "def get_object_detection_model(num_classes):\n",
    "  # load a model pre-trained on COCO\n",
    "  model = torchvision.models.detection.fasterrcnn_resnet50_fpn(pretrained=True)\n",
    "  # get number of input features for the classifier\n",
    "  in_features = model.roi_heads.box_predictor.cls_score.in_features\n",
    "  # replace the pre-trained head with a new one\n",
    "  model.roi_heads.box_predictor = FastRCNNPredictor(in_features, num_classes) \n",
    "  return model"
   ]
  },
  {
   "cell_type": "code",
   "execution_count": 22,
   "metadata": {
    "colab": {
     "base_uri": "https://localhost:8080/",
     "height": 104,
     "referenced_widgets": [
      "32a0c7587cf74eeb98287fdf4767f938",
      "e932cf1b4e484520a4dc4dd6672a7f17",
      "e6dd759dedd84fe3afde7fafadbdc5e6",
      "074323727f34416c895035b6d28e3738",
      "43204103508c4482921d3f6bd45fe366",
      "4271f826e55c4fee959a8097d9695e36",
      "97e08226970849feaea2b8c4a2c59162",
      "23c9ac6aff0448a2a69bf53e98c1b64a",
      "1d7e20161e9248e6a41c541517122a17",
      "a272d658182140b29fe755334af326c0",
      "758e0c34b07e4c168617e8857e09b8fa"
     ]
    },
    "id": "tvizBRhSpzyU",
    "outputId": "0246a34e-d5ce-4134-abf5-74e7a890bbf3"
   },
   "outputs": [
    {
     "data": {
      "text/plain": [
       "<All keys matched successfully>"
      ]
     },
     "execution_count": 22,
     "metadata": {},
     "output_type": "execute_result"
    },
    {
     "name": "stdout",
     "output_type": "stream",
     "text": [
      "time: 805 ms (started: 2022-09-29 13:10:52 +00:00)\n"
     ]
    }
   ],
   "source": [
    "# cargar modelo detector de objetos\n",
    "device = 'cuda'\n",
    "#device = 'cpu'\n",
    "model_path = '/home/jupyter/Score/Modelos/model_cf_12y3_1.pth'\n",
    "num_classes = 2\n",
    "od_model = get_object_detection_model(num_classes)\n",
    "od_model_dict = torch.load(model_path, map_location=torch.device(device))\n",
    "od_model.load_state_dict(od_model_dict['model_state_dict'])"
   ]
  },
  {
   "cell_type": "markdown",
   "metadata": {
    "id": "9vcMJ6vYakwP"
   },
   "source": [
    "# Función de score"
   ]
  },
  {
   "cell_type": "code",
   "execution_count": 23,
   "metadata": {
    "colab": {
     "base_uri": "https://localhost:8080/"
    },
    "id": "JS5mOP-lff98",
    "outputId": "7be3675c-e1b8-4944-8864-97d723323d4e"
   },
   "outputs": [
    {
     "name": "stdout",
     "output_type": "stream",
     "text": [
      "time: 679 µs (started: 2022-09-29 13:10:53 +00:00)\n"
     ]
    }
   ],
   "source": [
    "# Librerias\n",
    "import pandas as pd\n",
    "import numpy as np\n",
    "import os\n",
    "import io\n",
    "import cv2\n",
    "import urllib\n",
    "import math\n",
    "import urllib.request"
   ]
  },
  {
   "cell_type": "code",
   "execution_count": 24,
   "metadata": {
    "colab": {
     "base_uri": "https://localhost:8080/"
    },
    "id": "xAPuxMfOZuSW",
    "outputId": "725adb2b-f909-4ff3-f731-a4fdf0f62188"
   },
   "outputs": [
    {
     "name": "stdout",
     "output_type": "stream",
     "text": [
      "time: 5.53 ms (started: 2022-09-29 13:10:53 +00:00)\n"
     ]
    }
   ],
   "source": [
    "import itertools\n",
    "#from google.colab.patches import cv2_imshow\n",
    "import cv2\n",
    "# supuesto: tabla con enlaces a cada fotografía\n",
    "\n",
    "def score(url, classificator_1, classificator_2, detector, pesos = {'w_prod': 0.4, 'w_notface': 0.1,\n",
    "                                                 'w_label': 0.3, 'w_num': 0.1, 'w_contx': 0.2},\n",
    "          thresholds = {'t_prod': 0.5, 't_face': 0.5, 't_label': 0.5, 't_num': 0.5, 't_ctx_down': 0.2, \n",
    "                        't_ctx_up': 0.65}, device = 'cuda'):\n",
    "  \"\"\"\n",
    "  Args:\n",
    "      url (str): url donde se encuentra la imagen\n",
    "      classificator_1 (modelo): clasificador multi-etiqueta para detectar la etiqueta del paquete\n",
    "      classificator_2 (modelo): clasificador multi-etiqueta para detectar la cara y el domicilio\n",
    "      detector (modelo): detector de objetos para identificar el paquete y su bbox respectivo\n",
    "      pesos (dict): diccionario con valores para cada peso, es decir,\n",
    "      w_prod (product), w_notface (without face), w_label (product label), \n",
    "      w_num (address number) y w_contx (context)\n",
    "      thresholds = diccionario con valores de umbral para cada criterio, es decir,\n",
    "      t_prod (product), t_face (face detector), t_label (product label) y \n",
    "      t_num (address number)\n",
    "      \n",
    "  Obs: los pesos deben sumar 1 para todos los criterios menos el del numero de domicilio. Este\n",
    "       ultimo corresponde a un beneficio de +0.1 si es que aparece en la fotografía.\n",
    "\n",
    "  Returns:\n",
    "      result_data (dataFrame): cada una de las columnas del dataFrame corresponde a la predicción\n",
    "      de cada criterio sobre cierto umbral, los scores (confianza del modelo) de cada criterio y \n",
    "      la nota de la foto (score).\n",
    "      t_img_0 (tensor): imagen procesada\n",
    "      b (array): bounding boxes de la imagen  \n",
    "  \"\"\"\n",
    "  # evaluar con gpu o cpu \n",
    "  device = torch.device(device)\n",
    "\n",
    "  classificator_1.to(device)\n",
    "  classificator_1.eval()  \n",
    "  classificator_2.to(device)\n",
    "  classificator_2.eval()           \n",
    "  detector.to(device)\n",
    "  detector.eval()\n",
    "  # transformación para clasificador\n",
    "  transformations = transforms.Compose([transforms.ToPILImage(),\n",
    "                                                 transforms.Resize((224, 224)),\n",
    "                                                 transforms.ToTensor(),\n",
    "                                                 transforms.Normalize(mean=[0.485, 0.456, 0.406], \n",
    "                                                                      std=[0.229, 0.224, 0.225]),\n",
    "                                                 ])\n",
    "  with torch.no_grad():\n",
    "    # Obtener imagen\n",
    "    try:\n",
    "        url_open = urllib.request.urlopen(url)\n",
    "        image_cv = np.asarray(bytearray(url_open.read()), dtype=\"uint8\")\n",
    "        image = cv2.imdecode(image_cv, cv2.IMREAD_COLOR)\n",
    "        image = cv2.cvtColor(image, cv2.COLOR_BGR2RGB)\n",
    "        #-----------------------------------------------------------------------------\n",
    "        # CLASIFICADOR MULTI-ETIQUETA\n",
    "        # transformación para aplicar clasificador\n",
    "        t_img = transformations(image)\n",
    "        img = t_img.unsqueeze(dim = 0)\n",
    "        # obtener clasificación\n",
    "        #---------------------------clasificador 1--------------------------------\n",
    "        label_base = classificator_1(img.to(device))\n",
    "        #---------------------------clasificador 2--------------------------------\n",
    "        label_etiqueta = classificator_2(img.to(device))\n",
    "        # obtener score\n",
    "        score = torch.sigmoid(label_base['label']).squeeze()\n",
    "        score_etiqueta = torch.sigmoid(label_etiqueta['label']).squeeze()\n",
    "        # analizar score para 'etiqueta'\n",
    "        s_etiqueta = score_etiqueta[0].item()\n",
    "        if s_etiqueta >= thresholds['t_label']:\n",
    "          etiqueta = 1\n",
    "        else:\n",
    "          etiqueta = 0\n",
    "        # analizar score para 'n° domicilio'\n",
    "        s_domicilio = score[1].item()\n",
    "        if s_domicilio >= thresholds['t_num']:\n",
    "          domicilio = 1\n",
    "        else:\n",
    "          domicilio = 0\n",
    "        # analizar score para 'cara'\n",
    "        s_cara = score[2].item()\n",
    "        s_no_cara = 1-s_cara\n",
    "        if s_cara >= thresholds['t_face']:\n",
    "          no_cara = 0\n",
    "        else:\n",
    "          no_cara = 1\n",
    "        #-----------------------------------------------------------------------------\n",
    "        # DETECTOR DE OBJETOS\n",
    "        # transformación para aplicar detector\n",
    "        t_img_0 = transform.resize(image, (480, 480))\n",
    "        # obtener area de la imagen\n",
    "        area_img = t_img_0.shape[0]*t_img_0.shape[1]\n",
    "        t_img = torch.Tensor(t_img_0).permute(2,0,1).to(device)\n",
    "        od_prediction = od_model([t_img])\n",
    "        \n",
    "        # analizar score para 'paquete'\n",
    "        s_paquete = max(od_prediction[0]['scores']).item()\n",
    "        if od_prediction[0]['labels'].shape[0] > 0 and \\\n",
    "        s_paquete >= thresholds['t_prod']:\n",
    "          paquete = 1\n",
    "        else:\n",
    "          paquete = 0 \n",
    "        # determinar unión de todos los bbox que encierren a un paquete (score >= t_prod) \n",
    "        boxes = od_prediction[0]['boxes'].to(device)\n",
    "        scores = od_prediction[0]['scores'].to(device)\n",
    "        scores = torch.where(scores >= thresholds['t_prod'], 1, 0)\n",
    "        scores = torch.unsqueeze(scores, dim=0)\n",
    "        scores_t = torch.transpose(scores, 0, 1)\n",
    "        mult = torch.mul(boxes, scores_t)\n",
    "        b = mult[mult.sum(dim=1) != 0] # eliminar filas con puros ceros\n",
    "        l =list(range(b.size()[0]))\n",
    "        # recorrer cajas y calcular inter-area para cada combinación\n",
    "        indice = 0\n",
    "        interArea = 0\n",
    "        for i in itertools.combinations(l, r=2):\n",
    "          # obtener coordenadas de la inter-area\n",
    "          x0 = max(b[i[0]][0], b[i[1]][0])\n",
    "          y0 = max(b[i[0]][1], b[i[1]][1])\n",
    "          x1 = min(b[i[0]][2], b[i[1]][2])\n",
    "          y1 = min(b[i[0]][3], b[i[1]][3])\n",
    "    \n",
    "          # calcular inter-area\n",
    "          dif_x = x0-x1\n",
    "          dif_y = y0-y1\n",
    "          # se verifica que las esquinas de la interArea esten bien ubicadas \n",
    "          if dif_x < 0 and dif_y < 0:\n",
    "            interArea += dif_x*dif_y\n",
    "          ##interArea += abs(x0-x1)*abs(y0-y1)\n",
    "      \n",
    "        # sumar areas de cada bbox\n",
    "        area_total_bbox = 0\n",
    "        for box in b:\n",
    "          # calcular area de cada bbox\n",
    "          area_bbox = abs(box[0]-box[2])*abs(box[1]-box[3])\n",
    "          # calcular area total de bbox\n",
    "          area_total_bbox += area_bbox\n",
    "    \n",
    "        # calcular la union de las areas de cada bbox\n",
    "        union = area_total_bbox - interArea\n",
    "    \n",
    "        # calcular contexto\n",
    "        if torch.is_tensor(union):\n",
    "          contexto = union.item()/area_img\n",
    "      \n",
    "        else:\n",
    "          contexto = union/area_img\n",
    "        \n",
    "        # analizar contexto \n",
    "        if (contexto >= thresholds['t_ctx_down']) and (contexto <= thresholds['t_ctx_up']):\n",
    "          ctx_value = 1\n",
    "    \n",
    "        else:\n",
    "          ctx_value = 0\n",
    "      \n",
    "        # calcular score\n",
    "        score = pesos['w_prod']*paquete + pesos['w_label']*etiqueta + \\\n",
    "        pesos['w_notface']*no_cara + pesos['w_num']*domicilio + pesos['w_contx']*ctx_value\n",
    "        \n",
    "        enlace = 'correcto'\n",
    "    \n",
    "    except:\n",
    "        paquete = None\n",
    "        s_paquete = None\n",
    "        etiqueta = None\n",
    "        s_etiqueta = None\n",
    "        no_cara = None\n",
    "        s_no_cara = None\n",
    "        domicilio = None\n",
    "        s_domicilio = None\n",
    "        contexto = None\n",
    "        ctx_value = None\n",
    "        score = None\n",
    "        t_img_0 = None\n",
    "        b = None\n",
    "        enlace = 'incorrecto'\n",
    "        \n",
    "    # Vector de salida (fila) Prob. Etiqueta producto, Etiqueta producto, Prob. Numero domicilio, Numero domicilio\n",
    "    ##result = np.array([paquete, etiqueta, no_cara, domicilio, contexto, ctx_value, score])\n",
    "    result = np.array([paquete, s_paquete, etiqueta, s_etiqueta, no_cara, s_no_cara, domicilio,\\\n",
    "                       s_domicilio, contexto, ctx_value, score, enlace])\n",
    "    # Se hace un dataframe\n",
    "    ##result_data = pd.DataFrame([result], [0], columns=['paquete', 'etiqueta_producto', 'sin_rostro',\\\n",
    "    ##                                              'numero_domicilio', 'contexto', 'ctx_value', 'score'])\n",
    "    result_data = pd.DataFrame([result], [0], columns=['paquete', 's_paquete', 'etiqueta_producto', \\\n",
    "                                                       's_etiqueta_producto', 'sin_rostro', 's_sin_rostro',\\\n",
    "                                                       'numero_domicilio', 's_numero_domicilio', 'contexto',\\\n",
    "                                                       'ctx_value', 'score', 'enlace'])\n",
    "    \n",
    "    return result_data, t_img_0, b"
   ]
  },
  {
   "cell_type": "code",
   "execution_count": 25,
   "metadata": {},
   "outputs": [
    {
     "data": {
      "text/plain": [
       "Index(['SOC', 'url', 'plate_num', 'provider_id', 'provider_verify_digit',\n",
       "       'provider_name', 'driver_id', 'driver_verify_digit', 'driver_name',\n",
       "       'driver_last_name', 'event_crte_tmst', 'dfl_crte_tmst'],\n",
       "      dtype='object')"
      ]
     },
     "execution_count": 25,
     "metadata": {},
     "output_type": "execute_result"
    },
    {
     "name": "stdout",
     "output_type": "stream",
     "text": [
      "time: 3.82 ms (started: 2022-09-29 13:10:53 +00:00)\n"
     ]
    }
   ],
   "source": [
    "df_images.columns"
   ]
  },
  {
   "cell_type": "code",
   "execution_count": 25,
   "metadata": {
    "colab": {
     "base_uri": "https://localhost:8080/"
    },
    "collapsed": true,
    "id": "tHv8kjD9sX37",
    "jupyter": {
     "outputs_hidden": true
    },
    "outputId": "15a4ef8f-2644-4007-cecc-13cf85bb7635",
    "tags": []
   },
   "outputs": [
    {
     "name": "stdout",
     "output_type": "stream",
     "text": [
      "75409\n",
      "0 fotografías procesadas\n",
      "100 fotografías procesadas\n",
      "200 fotografías procesadas\n",
      "300 fotografías procesadas\n",
      "400 fotografías procesadas\n",
      "500 fotografías procesadas\n",
      "600 fotografías procesadas\n",
      "700 fotografías procesadas\n",
      "800 fotografías procesadas\n",
      "900 fotografías procesadas\n",
      "1000 fotografías procesadas\n",
      "1100 fotografías procesadas\n",
      "1200 fotografías procesadas\n",
      "1300 fotografías procesadas\n",
      "1400 fotografías procesadas\n",
      "1500 fotografías procesadas\n",
      "1600 fotografías procesadas\n",
      "1700 fotografías procesadas\n",
      "1800 fotografías procesadas\n",
      "1900 fotografías procesadas\n",
      "2000 fotografías procesadas\n",
      "2100 fotografías procesadas\n",
      "2300 fotografías procesadas\n",
      "2400 fotografías procesadas\n",
      "2500 fotografías procesadas\n",
      "2600 fotografías procesadas\n",
      "2700 fotografías procesadas\n",
      "2800 fotografías procesadas\n",
      "2900 fotografías procesadas\n",
      "3000 fotografías procesadas\n",
      "3100 fotografías procesadas\n",
      "3200 fotografías procesadas\n",
      "3300 fotografías procesadas\n",
      "3400 fotografías procesadas\n",
      "3500 fotografías procesadas\n",
      "3600 fotografías procesadas\n",
      "3700 fotografías procesadas\n",
      "3800 fotografías procesadas\n",
      "3900 fotografías procesadas\n",
      "4000 fotografías procesadas\n",
      "4100 fotografías procesadas\n",
      "4200 fotografías procesadas\n",
      "4300 fotografías procesadas\n",
      "4400 fotografías procesadas\n",
      "4500 fotografías procesadas\n",
      "4600 fotografías procesadas\n",
      "4700 fotografías procesadas\n",
      "4800 fotografías procesadas\n",
      "4900 fotografías procesadas\n",
      "5000 fotografías procesadas\n",
      "5100 fotografías procesadas\n",
      "5200 fotografías procesadas\n",
      "5300 fotografías procesadas\n",
      "5400 fotografías procesadas\n",
      "5500 fotografías procesadas\n",
      "5600 fotografías procesadas\n",
      "5700 fotografías procesadas\n",
      "5800 fotografías procesadas\n",
      "5900 fotografías procesadas\n",
      "6000 fotografías procesadas\n",
      "6100 fotografías procesadas\n",
      "6200 fotografías procesadas\n",
      "6300 fotografías procesadas\n",
      "6400 fotografías procesadas\n",
      "6500 fotografías procesadas\n",
      "6600 fotografías procesadas\n",
      "6700 fotografías procesadas\n",
      "6800 fotografías procesadas\n",
      "6900 fotografías procesadas\n",
      "7000 fotografías procesadas\n",
      "7100 fotografías procesadas\n",
      "7200 fotografías procesadas\n",
      "7300 fotografías procesadas\n",
      "7400 fotografías procesadas\n",
      "7500 fotografías procesadas\n",
      "7600 fotografías procesadas\n",
      "7700 fotografías procesadas\n",
      "7800 fotografías procesadas\n",
      "7900 fotografías procesadas\n",
      "8000 fotografías procesadas\n",
      "8100 fotografías procesadas\n",
      "8200 fotografías procesadas\n",
      "8300 fotografías procesadas\n",
      "8400 fotografías procesadas\n",
      "8500 fotografías procesadas\n",
      "8600 fotografías procesadas\n",
      "8700 fotografías procesadas\n",
      "8800 fotografías procesadas\n",
      "8900 fotografías procesadas\n",
      "9000 fotografías procesadas\n",
      "9100 fotografías procesadas\n",
      "9200 fotografías procesadas\n",
      "9300 fotografías procesadas\n",
      "9400 fotografías procesadas\n",
      "9500 fotografías procesadas\n",
      "9600 fotografías procesadas\n",
      "9700 fotografías procesadas\n",
      "9800 fotografías procesadas\n",
      "9900 fotografías procesadas\n",
      "10000 fotografías procesadas\n",
      "10100 fotografías procesadas\n",
      "10200 fotografías procesadas\n",
      "10300 fotografías procesadas\n",
      "10400 fotografías procesadas\n",
      "10500 fotografías procesadas\n",
      "10600 fotografías procesadas\n",
      "10700 fotografías procesadas\n",
      "10800 fotografías procesadas\n",
      "10900 fotografías procesadas\n",
      "11000 fotografías procesadas\n",
      "11100 fotografías procesadas\n",
      "11200 fotografías procesadas\n",
      "11300 fotografías procesadas\n",
      "11400 fotografías procesadas\n",
      "11500 fotografías procesadas\n",
      "11600 fotografías procesadas\n",
      "11700 fotografías procesadas\n",
      "11800 fotografías procesadas\n",
      "11900 fotografías procesadas\n",
      "12000 fotografías procesadas\n",
      "12100 fotografías procesadas\n",
      "12200 fotografías procesadas\n",
      "12300 fotografías procesadas\n",
      "12400 fotografías procesadas\n",
      "12500 fotografías procesadas\n",
      "12600 fotografías procesadas\n",
      "12700 fotografías procesadas\n",
      "12800 fotografías procesadas\n",
      "12900 fotografías procesadas\n",
      "13000 fotografías procesadas\n",
      "13100 fotografías procesadas\n",
      "13200 fotografías procesadas\n",
      "13300 fotografías procesadas\n",
      "13400 fotografías procesadas\n",
      "13500 fotografías procesadas\n",
      "13600 fotografías procesadas\n",
      "13700 fotografías procesadas\n",
      "13800 fotografías procesadas\n",
      "13900 fotografías procesadas\n",
      "14000 fotografías procesadas\n",
      "14100 fotografías procesadas\n",
      "14200 fotografías procesadas\n",
      "14300 fotografías procesadas\n",
      "14400 fotografías procesadas\n",
      "14500 fotografías procesadas\n",
      "14600 fotografías procesadas\n",
      "14700 fotografías procesadas\n",
      "14800 fotografías procesadas\n",
      "14900 fotografías procesadas\n",
      "15000 fotografías procesadas\n",
      "15100 fotografías procesadas\n",
      "15200 fotografías procesadas\n",
      "15300 fotografías procesadas\n",
      "15400 fotografías procesadas\n",
      "15500 fotografías procesadas\n",
      "15600 fotografías procesadas\n",
      "15700 fotografías procesadas\n",
      "15800 fotografías procesadas\n",
      "15900 fotografías procesadas\n",
      "16000 fotografías procesadas\n",
      "16100 fotografías procesadas\n",
      "16200 fotografías procesadas\n",
      "16300 fotografías procesadas\n",
      "16400 fotografías procesadas\n",
      "16500 fotografías procesadas\n",
      "16600 fotografías procesadas\n",
      "16700 fotografías procesadas\n",
      "16800 fotografías procesadas\n",
      "16900 fotografías procesadas\n",
      "17000 fotografías procesadas\n",
      "17100 fotografías procesadas\n",
      "17200 fotografías procesadas\n",
      "17300 fotografías procesadas\n",
      "17400 fotografías procesadas\n",
      "17500 fotografías procesadas\n",
      "17600 fotografías procesadas\n",
      "17700 fotografías procesadas\n",
      "17800 fotografías procesadas\n",
      "17900 fotografías procesadas\n",
      "18000 fotografías procesadas\n",
      "18100 fotografías procesadas\n",
      "18200 fotografías procesadas\n",
      "18300 fotografías procesadas\n",
      "18400 fotografías procesadas\n",
      "18500 fotografías procesadas\n",
      "18600 fotografías procesadas\n",
      "18700 fotografías procesadas\n",
      "18800 fotografías procesadas\n",
      "18900 fotografías procesadas\n",
      "19000 fotografías procesadas\n",
      "19100 fotografías procesadas\n",
      "19200 fotografías procesadas\n",
      "19300 fotografías procesadas\n",
      "19400 fotografías procesadas\n",
      "19500 fotografías procesadas\n",
      "19600 fotografías procesadas\n",
      "19700 fotografías procesadas\n",
      "19800 fotografías procesadas\n",
      "19900 fotografías procesadas\n",
      "20000 fotografías procesadas\n",
      "20100 fotografías procesadas\n",
      "20200 fotografías procesadas\n",
      "20300 fotografías procesadas\n",
      "20400 fotografías procesadas\n",
      "20500 fotografías procesadas\n"
     ]
    },
    {
     "name": "stderr",
     "output_type": "stream",
     "text": [
      "ERROR:root:Internal Python error in the inspect module.\n",
      "Below is the traceback from this internal error.\n",
      "\n",
      "ERROR:root:Internal Python error in the inspect module.\n",
      "Below is the traceback from this internal error.\n",
      "\n"
     ]
    },
    {
     "name": "stdout",
     "output_type": "stream",
     "text": [
      "Traceback (most recent call last):\n",
      "  File \"/opt/conda/lib/python3.7/site-packages/IPython/core/interactiveshell.py\", line 3552, in run_code\n",
      "    exec(code_obj, self.user_global_ns, self.user_ns)\n",
      "  File \"/tmp/ipykernel_20257/3063356771.py\", line 19, in <module>\n",
      "    df1 = df_images.loc[[i]].reset_index()\n",
      "  File \"/opt/conda/lib/python3.7/site-packages/pandas/core/indexing.py\", line 931, in __getitem__\n",
      "    return self._getitem_axis(maybe_callable, axis=axis)\n",
      "  File \"/opt/conda/lib/python3.7/site-packages/pandas/core/indexing.py\", line 1153, in _getitem_axis\n",
      "    return self._getitem_iterable(key, axis=axis)\n",
      "  File \"/opt/conda/lib/python3.7/site-packages/pandas/core/indexing.py\", line 1095, in _getitem_iterable\n",
      "    {axis: [keyarr, indexer]}, copy=True, allow_dups=True\n",
      "  File \"/opt/conda/lib/python3.7/site-packages/pandas/core/generic.py\", line 4889, in _reindex_with_indexers\n",
      "    copy=copy,\n",
      "  File \"/opt/conda/lib/python3.7/site-packages/pandas/core/internals/managers.py\", line 688, in reindex_indexer\n",
      "    for blk in self.blocks\n",
      "  File \"/opt/conda/lib/python3.7/site-packages/pandas/core/internals/managers.py\", line 688, in <listcomp>\n",
      "    for blk in self.blocks\n",
      "  File \"/opt/conda/lib/python3.7/site-packages/pandas/core/internals/blocks.py\", line 1145, in take_nd\n",
      "    values, indexer, axis=axis, allow_fill=allow_fill, fill_value=fill_value\n",
      "  File \"/opt/conda/lib/python3.7/site-packages/pandas/core/array_algos/take.py\", line 102, in take_nd\n",
      "    indexer, fill_value=fill_value, allow_fill=allow_fill, axis=axis\n",
      "  File \"/opt/conda/lib/python3.7/site-packages/pandas/core/arrays/_mixins.py\", line 106, in take\n",
      "    axis=axis,\n",
      "  File \"/opt/conda/lib/python3.7/site-packages/pandas/core/algorithms.py\", line 1512, in take\n",
      "    arr, indices, axis=axis, allow_fill=True, fill_value=fill_value\n",
      "  File \"/opt/conda/lib/python3.7/site-packages/pandas/core/array_algos/take.py\", line 108, in take_nd\n",
      "    return _take_nd_ndarray(arr, indexer, axis, fill_value, allow_fill)\n",
      "  File \"/opt/conda/lib/python3.7/site-packages/pandas/core/array_algos/take.py\", line 154, in _take_nd_ndarray\n",
      "    func(arr, indexer, out, fill_value)\n",
      "  File \"/opt/conda/lib/python3.7/site-packages/pandas/core/array_algos/take.py\", line 333, in wrapper\n",
      "    fill_value = fill_wrap(fill_value)\n",
      "KeyboardInterrupt\n",
      "\n",
      "During handling of the above exception, another exception occurred:\n",
      "\n",
      "Traceback (most recent call last):\n",
      "  File \"/opt/conda/lib/python3.7/site-packages/IPython/core/interactiveshell.py\", line 2098, in showtraceback\n",
      "    stb = value._render_traceback_()\n",
      "AttributeError: 'KeyboardInterrupt' object has no attribute '_render_traceback_'\n",
      "\n",
      "During handling of the above exception, another exception occurred:\n",
      "\n",
      "Traceback (most recent call last):\n",
      "  File \"/opt/conda/lib/python3.7/site-packages/IPython/core/ultratb.py\", line 1101, in get_records\n",
      "    return _fixed_getinnerframes(etb, number_of_lines_of_context, tb_offset)\n",
      "  File \"/opt/conda/lib/python3.7/site-packages/IPython/core/ultratb.py\", line 248, in wrapped\n",
      "    return f(*args, **kwargs)\n",
      "  File \"/opt/conda/lib/python3.7/site-packages/IPython/core/ultratb.py\", line 281, in _fixed_getinnerframes\n",
      "    records = fix_frame_records_filenames(inspect.getinnerframes(etb, context))\n",
      "  File \"/opt/conda/lib/python3.7/inspect.py\", line 1502, in getinnerframes\n",
      "    frameinfo = (tb.tb_frame,) + getframeinfo(tb, context)\n",
      "  File \"/opt/conda/lib/python3.7/inspect.py\", line 1460, in getframeinfo\n",
      "    filename = getsourcefile(frame) or getfile(frame)\n",
      "  File \"/opt/conda/lib/python3.7/inspect.py\", line 696, in getsourcefile\n",
      "    if getattr(getmodule(object, filename), '__loader__', None) is not None:\n",
      "  File \"/opt/conda/lib/python3.7/inspect.py\", line 742, in getmodule\n",
      "    os.path.realpath(f)] = module.__name__\n",
      "  File \"/opt/conda/lib/python3.7/posixpath.py\", line 395, in realpath\n",
      "    path, ok = _joinrealpath(filename[:0], filename, {})\n",
      "  File \"/opt/conda/lib/python3.7/posixpath.py\", line 429, in _joinrealpath\n",
      "    if not islink(newpath):\n",
      "  File \"/opt/conda/lib/python3.7/posixpath.py\", line 171, in islink\n",
      "    st = os.lstat(path)\n",
      "KeyboardInterrupt\n",
      "Traceback (most recent call last):\n",
      "  File \"/opt/conda/lib/python3.7/site-packages/IPython/core/interactiveshell.py\", line 3552, in run_code\n",
      "    exec(code_obj, self.user_global_ns, self.user_ns)\n",
      "  File \"/tmp/ipykernel_20257/3063356771.py\", line 19, in <module>\n",
      "    df1 = df_images.loc[[i]].reset_index()\n",
      "  File \"/opt/conda/lib/python3.7/site-packages/pandas/core/indexing.py\", line 931, in __getitem__\n",
      "    return self._getitem_axis(maybe_callable, axis=axis)\n",
      "  File \"/opt/conda/lib/python3.7/site-packages/pandas/core/indexing.py\", line 1153, in _getitem_axis\n",
      "    return self._getitem_iterable(key, axis=axis)\n",
      "  File \"/opt/conda/lib/python3.7/site-packages/pandas/core/indexing.py\", line 1095, in _getitem_iterable\n",
      "    {axis: [keyarr, indexer]}, copy=True, allow_dups=True\n",
      "  File \"/opt/conda/lib/python3.7/site-packages/pandas/core/generic.py\", line 4889, in _reindex_with_indexers\n",
      "    copy=copy,\n",
      "  File \"/opt/conda/lib/python3.7/site-packages/pandas/core/internals/managers.py\", line 688, in reindex_indexer\n",
      "    for blk in self.blocks\n",
      "  File \"/opt/conda/lib/python3.7/site-packages/pandas/core/internals/managers.py\", line 688, in <listcomp>\n",
      "    for blk in self.blocks\n",
      "  File \"/opt/conda/lib/python3.7/site-packages/pandas/core/internals/blocks.py\", line 1145, in take_nd\n",
      "    values, indexer, axis=axis, allow_fill=allow_fill, fill_value=fill_value\n",
      "  File \"/opt/conda/lib/python3.7/site-packages/pandas/core/array_algos/take.py\", line 102, in take_nd\n",
      "    indexer, fill_value=fill_value, allow_fill=allow_fill, axis=axis\n",
      "  File \"/opt/conda/lib/python3.7/site-packages/pandas/core/arrays/_mixins.py\", line 106, in take\n",
      "    axis=axis,\n",
      "  File \"/opt/conda/lib/python3.7/site-packages/pandas/core/algorithms.py\", line 1512, in take\n",
      "    arr, indices, axis=axis, allow_fill=True, fill_value=fill_value\n",
      "  File \"/opt/conda/lib/python3.7/site-packages/pandas/core/array_algos/take.py\", line 108, in take_nd\n",
      "    return _take_nd_ndarray(arr, indexer, axis, fill_value, allow_fill)\n",
      "  File \"/opt/conda/lib/python3.7/site-packages/pandas/core/array_algos/take.py\", line 154, in _take_nd_ndarray\n",
      "    func(arr, indexer, out, fill_value)\n",
      "  File \"/opt/conda/lib/python3.7/site-packages/pandas/core/array_algos/take.py\", line 333, in wrapper\n",
      "    fill_value = fill_wrap(fill_value)\n",
      "KeyboardInterrupt\n",
      "\n",
      "During handling of the above exception, another exception occurred:\n",
      "\n",
      "Traceback (most recent call last):\n",
      "  File \"/opt/conda/lib/python3.7/site-packages/IPython/core/interactiveshell.py\", line 2098, in showtraceback\n",
      "    stb = value._render_traceback_()\n",
      "AttributeError: 'KeyboardInterrupt' object has no attribute '_render_traceback_'\n",
      "\n",
      "During handling of the above exception, another exception occurred:\n",
      "\n",
      "Traceback (most recent call last):\n",
      "  File \"/opt/conda/lib/python3.7/site-packages/IPython/core/interactiveshell.py\", line 3472, in run_ast_nodes\n",
      "    if (await self.run_code(code, result,  async_=asy)):\n",
      "  File \"/opt/conda/lib/python3.7/site-packages/IPython/core/interactiveshell.py\", line 3569, in run_code\n",
      "    self.showtraceback(running_compiled_code=True)\n",
      "  File \"/opt/conda/lib/python3.7/site-packages/IPython/core/interactiveshell.py\", line 2101, in showtraceback\n",
      "    value, tb, tb_offset=tb_offset)\n",
      "  File \"/opt/conda/lib/python3.7/site-packages/IPython/core/ultratb.py\", line 1368, in structured_traceback\n",
      "    self, etype, value, tb, tb_offset, number_of_lines_of_context)\n",
      "  File \"/opt/conda/lib/python3.7/site-packages/IPython/core/ultratb.py\", line 1268, in structured_traceback\n",
      "    self, etype, value, tb, tb_offset, number_of_lines_of_context\n",
      "  File \"/opt/conda/lib/python3.7/site-packages/IPython/core/ultratb.py\", line 1125, in structured_traceback\n",
      "    tb_offset)\n",
      "  File \"/opt/conda/lib/python3.7/site-packages/IPython/core/ultratb.py\", line 1082, in format_exception_as_a_whole\n",
      "    last_unique, recursion_repeat = find_recursion(orig_etype, evalue, records)\n",
      "  File \"/opt/conda/lib/python3.7/site-packages/IPython/core/ultratb.py\", line 382, in find_recursion\n",
      "    return len(records), 0\n",
      "TypeError: object of type 'NoneType' has no len()\n",
      "\n",
      "During handling of the above exception, another exception occurred:\n",
      "\n",
      "Traceback (most recent call last):\n",
      "  File \"/opt/conda/lib/python3.7/site-packages/IPython/core/interactiveshell.py\", line 2098, in showtraceback\n",
      "    stb = value._render_traceback_()\n",
      "AttributeError: 'TypeError' object has no attribute '_render_traceback_'\n",
      "\n",
      "During handling of the above exception, another exception occurred:\n",
      "\n",
      "Traceback (most recent call last):\n",
      "  File \"/opt/conda/lib/python3.7/site-packages/IPython/core/ultratb.py\", line 1101, in get_records\n",
      "    return _fixed_getinnerframes(etb, number_of_lines_of_context, tb_offset)\n",
      "  File \"/opt/conda/lib/python3.7/site-packages/IPython/core/ultratb.py\", line 248, in wrapped\n",
      "    return f(*args, **kwargs)\n",
      "  File \"/opt/conda/lib/python3.7/site-packages/IPython/core/ultratb.py\", line 281, in _fixed_getinnerframes\n",
      "    records = fix_frame_records_filenames(inspect.getinnerframes(etb, context))\n",
      "  File \"/opt/conda/lib/python3.7/inspect.py\", line 1502, in getinnerframes\n",
      "    frameinfo = (tb.tb_frame,) + getframeinfo(tb, context)\n",
      "  File \"/opt/conda/lib/python3.7/inspect.py\", line 1460, in getframeinfo\n",
      "    filename = getsourcefile(frame) or getfile(frame)\n",
      "  File \"/opt/conda/lib/python3.7/inspect.py\", line 696, in getsourcefile\n",
      "    if getattr(getmodule(object, filename), '__loader__', None) is not None:\n",
      "  File \"/opt/conda/lib/python3.7/inspect.py\", line 739, in getmodule\n",
      "    f = getabsfile(module)\n",
      "  File \"/opt/conda/lib/python3.7/inspect.py\", line 708, in getabsfile\n",
      "    _filename = getsourcefile(object) or getfile(object)\n",
      "  File \"/opt/conda/lib/python3.7/inspect.py\", line 693, in getsourcefile\n",
      "    if os.path.exists(filename):\n",
      "  File \"/opt/conda/lib/python3.7/genericpath.py\", line 19, in exists\n",
      "    os.stat(path)\n",
      "KeyboardInterrupt\n"
     ]
    },
    {
     "ename": "TypeError",
     "evalue": "object of type 'NoneType' has no len()",
     "output_type": "error",
     "traceback": [
      "\u001b[0;31m---------------------------------------------------------------------------\u001b[0m",
      "\u001b[0;31mKeyboardInterrupt\u001b[0m                         Traceback (most recent call last)",
      "    \u001b[0;31m[... skipping hidden 1 frame]\u001b[0m\n",
      "\u001b[0;32m/tmp/ipykernel_20257/3063356771.py\u001b[0m in \u001b[0;36m<module>\u001b[0;34m\u001b[0m\n\u001b[1;32m     18\u001b[0m   \u001b[0murl\u001b[0m \u001b[0;34m=\u001b[0m \u001b[0mdf_images\u001b[0m\u001b[0;34m.\u001b[0m\u001b[0mloc\u001b[0m\u001b[0;34m[\u001b[0m\u001b[0;34m[\u001b[0m\u001b[0mi\u001b[0m\u001b[0;34m]\u001b[0m\u001b[0;34m]\u001b[0m\u001b[0;34m[\u001b[0m\u001b[0;34m'url'\u001b[0m\u001b[0;34m]\u001b[0m\u001b[0;34m.\u001b[0m\u001b[0mitem\u001b[0m\u001b[0;34m(\u001b[0m\u001b[0;34m)\u001b[0m\u001b[0;34m\u001b[0m\u001b[0;34m\u001b[0m\u001b[0m\n\u001b[0;32m---> 19\u001b[0;31m   \u001b[0mdf1\u001b[0m \u001b[0;34m=\u001b[0m \u001b[0mdf_images\u001b[0m\u001b[0;34m.\u001b[0m\u001b[0mloc\u001b[0m\u001b[0;34m[\u001b[0m\u001b[0;34m[\u001b[0m\u001b[0mi\u001b[0m\u001b[0;34m]\u001b[0m\u001b[0;34m]\u001b[0m\u001b[0;34m.\u001b[0m\u001b[0mreset_index\u001b[0m\u001b[0;34m(\u001b[0m\u001b[0;34m)\u001b[0m\u001b[0;34m\u001b[0m\u001b[0;34m\u001b[0m\u001b[0m\n\u001b[0m\u001b[1;32m     20\u001b[0m   \u001b[0;31m#aplicar modelo que retornara df2\u001b[0m\u001b[0;34m\u001b[0m\u001b[0;34m\u001b[0m\u001b[0;34m\u001b[0m\u001b[0m\n",
      "\u001b[0;32m/opt/conda/lib/python3.7/site-packages/pandas/core/indexing.py\u001b[0m in \u001b[0;36m__getitem__\u001b[0;34m(self, key)\u001b[0m\n\u001b[1;32m    930\u001b[0m             \u001b[0mmaybe_callable\u001b[0m \u001b[0;34m=\u001b[0m \u001b[0mcom\u001b[0m\u001b[0;34m.\u001b[0m\u001b[0mapply_if_callable\u001b[0m\u001b[0;34m(\u001b[0m\u001b[0mkey\u001b[0m\u001b[0;34m,\u001b[0m \u001b[0mself\u001b[0m\u001b[0;34m.\u001b[0m\u001b[0mobj\u001b[0m\u001b[0;34m)\u001b[0m\u001b[0;34m\u001b[0m\u001b[0;34m\u001b[0m\u001b[0m\n\u001b[0;32m--> 931\u001b[0;31m             \u001b[0;32mreturn\u001b[0m \u001b[0mself\u001b[0m\u001b[0;34m.\u001b[0m\u001b[0m_getitem_axis\u001b[0m\u001b[0;34m(\u001b[0m\u001b[0mmaybe_callable\u001b[0m\u001b[0;34m,\u001b[0m \u001b[0maxis\u001b[0m\u001b[0;34m=\u001b[0m\u001b[0maxis\u001b[0m\u001b[0;34m)\u001b[0m\u001b[0;34m\u001b[0m\u001b[0;34m\u001b[0m\u001b[0m\n\u001b[0m\u001b[1;32m    932\u001b[0m \u001b[0;34m\u001b[0m\u001b[0m\n",
      "\u001b[0;32m/opt/conda/lib/python3.7/site-packages/pandas/core/indexing.py\u001b[0m in \u001b[0;36m_getitem_axis\u001b[0;34m(self, key, axis)\u001b[0m\n\u001b[1;32m   1152\u001b[0m \u001b[0;34m\u001b[0m\u001b[0m\n\u001b[0;32m-> 1153\u001b[0;31m                 \u001b[0;32mreturn\u001b[0m \u001b[0mself\u001b[0m\u001b[0;34m.\u001b[0m\u001b[0m_getitem_iterable\u001b[0m\u001b[0;34m(\u001b[0m\u001b[0mkey\u001b[0m\u001b[0;34m,\u001b[0m \u001b[0maxis\u001b[0m\u001b[0;34m=\u001b[0m\u001b[0maxis\u001b[0m\u001b[0;34m)\u001b[0m\u001b[0;34m\u001b[0m\u001b[0;34m\u001b[0m\u001b[0m\n\u001b[0m\u001b[1;32m   1154\u001b[0m \u001b[0;34m\u001b[0m\u001b[0m\n",
      "\u001b[0;32m/opt/conda/lib/python3.7/site-packages/pandas/core/indexing.py\u001b[0m in \u001b[0;36m_getitem_iterable\u001b[0;34m(self, key, axis)\u001b[0m\n\u001b[1;32m   1094\u001b[0m         return self.obj._reindex_with_indexers(\n\u001b[0;32m-> 1095\u001b[0;31m             \u001b[0;34m{\u001b[0m\u001b[0maxis\u001b[0m\u001b[0;34m:\u001b[0m \u001b[0;34m[\u001b[0m\u001b[0mkeyarr\u001b[0m\u001b[0;34m,\u001b[0m \u001b[0mindexer\u001b[0m\u001b[0;34m]\u001b[0m\u001b[0;34m}\u001b[0m\u001b[0;34m,\u001b[0m \u001b[0mcopy\u001b[0m\u001b[0;34m=\u001b[0m\u001b[0;32mTrue\u001b[0m\u001b[0;34m,\u001b[0m \u001b[0mallow_dups\u001b[0m\u001b[0;34m=\u001b[0m\u001b[0;32mTrue\u001b[0m\u001b[0;34m\u001b[0m\u001b[0;34m\u001b[0m\u001b[0m\n\u001b[0m\u001b[1;32m   1096\u001b[0m         )\n",
      "\u001b[0;32m/opt/conda/lib/python3.7/site-packages/pandas/core/generic.py\u001b[0m in \u001b[0;36m_reindex_with_indexers\u001b[0;34m(self, reindexers, fill_value, copy, allow_dups)\u001b[0m\n\u001b[1;32m   4888\u001b[0m                 \u001b[0mallow_dups\u001b[0m\u001b[0;34m=\u001b[0m\u001b[0mallow_dups\u001b[0m\u001b[0;34m,\u001b[0m\u001b[0;34m\u001b[0m\u001b[0;34m\u001b[0m\u001b[0m\n\u001b[0;32m-> 4889\u001b[0;31m                 \u001b[0mcopy\u001b[0m\u001b[0;34m=\u001b[0m\u001b[0mcopy\u001b[0m\u001b[0;34m,\u001b[0m\u001b[0;34m\u001b[0m\u001b[0;34m\u001b[0m\u001b[0m\n\u001b[0m\u001b[1;32m   4890\u001b[0m             )\n",
      "\u001b[0;32m/opt/conda/lib/python3.7/site-packages/pandas/core/internals/managers.py\u001b[0m in \u001b[0;36mreindex_indexer\u001b[0;34m(self, new_axis, indexer, axis, fill_value, allow_dups, copy, consolidate, only_slice)\u001b[0m\n\u001b[1;32m    687\u001b[0m                 )\n\u001b[0;32m--> 688\u001b[0;31m                 \u001b[0;32mfor\u001b[0m \u001b[0mblk\u001b[0m \u001b[0;32min\u001b[0m \u001b[0mself\u001b[0m\u001b[0;34m.\u001b[0m\u001b[0mblocks\u001b[0m\u001b[0;34m\u001b[0m\u001b[0;34m\u001b[0m\u001b[0m\n\u001b[0m\u001b[1;32m    689\u001b[0m             ]\n",
      "\u001b[0;32m/opt/conda/lib/python3.7/site-packages/pandas/core/internals/managers.py\u001b[0m in \u001b[0;36m<listcomp>\u001b[0;34m(.0)\u001b[0m\n\u001b[1;32m    687\u001b[0m                 )\n\u001b[0;32m--> 688\u001b[0;31m                 \u001b[0;32mfor\u001b[0m \u001b[0mblk\u001b[0m \u001b[0;32min\u001b[0m \u001b[0mself\u001b[0m\u001b[0;34m.\u001b[0m\u001b[0mblocks\u001b[0m\u001b[0;34m\u001b[0m\u001b[0;34m\u001b[0m\u001b[0m\n\u001b[0m\u001b[1;32m    689\u001b[0m             ]\n",
      "\u001b[0;32m/opt/conda/lib/python3.7/site-packages/pandas/core/internals/blocks.py\u001b[0m in \u001b[0;36mtake_nd\u001b[0;34m(self, indexer, axis, new_mgr_locs, fill_value)\u001b[0m\n\u001b[1;32m   1144\u001b[0m         new_values = algos.take_nd(\n\u001b[0;32m-> 1145\u001b[0;31m             \u001b[0mvalues\u001b[0m\u001b[0;34m,\u001b[0m \u001b[0mindexer\u001b[0m\u001b[0;34m,\u001b[0m \u001b[0maxis\u001b[0m\u001b[0;34m=\u001b[0m\u001b[0maxis\u001b[0m\u001b[0;34m,\u001b[0m \u001b[0mallow_fill\u001b[0m\u001b[0;34m=\u001b[0m\u001b[0mallow_fill\u001b[0m\u001b[0;34m,\u001b[0m \u001b[0mfill_value\u001b[0m\u001b[0;34m=\u001b[0m\u001b[0mfill_value\u001b[0m\u001b[0;34m\u001b[0m\u001b[0;34m\u001b[0m\u001b[0m\n\u001b[0m\u001b[1;32m   1146\u001b[0m         )\n",
      "\u001b[0;32m/opt/conda/lib/python3.7/site-packages/pandas/core/array_algos/take.py\u001b[0m in \u001b[0;36mtake_nd\u001b[0;34m(arr, indexer, axis, fill_value, allow_fill)\u001b[0m\n\u001b[1;32m    101\u001b[0m             return arr.take(\n\u001b[0;32m--> 102\u001b[0;31m                 \u001b[0mindexer\u001b[0m\u001b[0;34m,\u001b[0m \u001b[0mfill_value\u001b[0m\u001b[0;34m=\u001b[0m\u001b[0mfill_value\u001b[0m\u001b[0;34m,\u001b[0m \u001b[0mallow_fill\u001b[0m\u001b[0;34m=\u001b[0m\u001b[0mallow_fill\u001b[0m\u001b[0;34m,\u001b[0m \u001b[0maxis\u001b[0m\u001b[0;34m=\u001b[0m\u001b[0maxis\u001b[0m\u001b[0;34m\u001b[0m\u001b[0;34m\u001b[0m\u001b[0m\n\u001b[0m\u001b[1;32m    103\u001b[0m             )\n",
      "\u001b[0;32m/opt/conda/lib/python3.7/site-packages/pandas/core/arrays/_mixins.py\u001b[0m in \u001b[0;36mtake\u001b[0;34m(self, indices, allow_fill, fill_value, axis)\u001b[0m\n\u001b[1;32m    105\u001b[0m             \u001b[0mfill_value\u001b[0m\u001b[0;34m=\u001b[0m\u001b[0mfill_value\u001b[0m\u001b[0;34m,\u001b[0m\u001b[0;34m\u001b[0m\u001b[0;34m\u001b[0m\u001b[0m\n\u001b[0;32m--> 106\u001b[0;31m             \u001b[0maxis\u001b[0m\u001b[0;34m=\u001b[0m\u001b[0maxis\u001b[0m\u001b[0;34m,\u001b[0m\u001b[0;34m\u001b[0m\u001b[0;34m\u001b[0m\u001b[0m\n\u001b[0m\u001b[1;32m    107\u001b[0m         )\n",
      "\u001b[0;32m/opt/conda/lib/python3.7/site-packages/pandas/core/algorithms.py\u001b[0m in \u001b[0;36mtake\u001b[0;34m(arr, indices, axis, allow_fill, fill_value)\u001b[0m\n\u001b[1;32m   1511\u001b[0m         result = take_nd(\n\u001b[0;32m-> 1512\u001b[0;31m             \u001b[0marr\u001b[0m\u001b[0;34m,\u001b[0m \u001b[0mindices\u001b[0m\u001b[0;34m,\u001b[0m \u001b[0maxis\u001b[0m\u001b[0;34m=\u001b[0m\u001b[0maxis\u001b[0m\u001b[0;34m,\u001b[0m \u001b[0mallow_fill\u001b[0m\u001b[0;34m=\u001b[0m\u001b[0;32mTrue\u001b[0m\u001b[0;34m,\u001b[0m \u001b[0mfill_value\u001b[0m\u001b[0;34m=\u001b[0m\u001b[0mfill_value\u001b[0m\u001b[0;34m\u001b[0m\u001b[0;34m\u001b[0m\u001b[0m\n\u001b[0m\u001b[1;32m   1513\u001b[0m         )\n",
      "\u001b[0;32m/opt/conda/lib/python3.7/site-packages/pandas/core/array_algos/take.py\u001b[0m in \u001b[0;36mtake_nd\u001b[0;34m(arr, indexer, axis, fill_value, allow_fill)\u001b[0m\n\u001b[1;32m    107\u001b[0m     \u001b[0marr\u001b[0m \u001b[0;34m=\u001b[0m \u001b[0mnp\u001b[0m\u001b[0;34m.\u001b[0m\u001b[0masarray\u001b[0m\u001b[0;34m(\u001b[0m\u001b[0marr\u001b[0m\u001b[0;34m)\u001b[0m\u001b[0;34m\u001b[0m\u001b[0;34m\u001b[0m\u001b[0m\n\u001b[0;32m--> 108\u001b[0;31m     \u001b[0;32mreturn\u001b[0m \u001b[0m_take_nd_ndarray\u001b[0m\u001b[0;34m(\u001b[0m\u001b[0marr\u001b[0m\u001b[0;34m,\u001b[0m \u001b[0mindexer\u001b[0m\u001b[0;34m,\u001b[0m \u001b[0maxis\u001b[0m\u001b[0;34m,\u001b[0m \u001b[0mfill_value\u001b[0m\u001b[0;34m,\u001b[0m \u001b[0mallow_fill\u001b[0m\u001b[0;34m)\u001b[0m\u001b[0;34m\u001b[0m\u001b[0;34m\u001b[0m\u001b[0m\n\u001b[0m\u001b[1;32m    109\u001b[0m \u001b[0;34m\u001b[0m\u001b[0m\n",
      "\u001b[0;32m/opt/conda/lib/python3.7/site-packages/pandas/core/array_algos/take.py\u001b[0m in \u001b[0;36m_take_nd_ndarray\u001b[0;34m(arr, indexer, axis, fill_value, allow_fill)\u001b[0m\n\u001b[1;32m    153\u001b[0m     )\n\u001b[0;32m--> 154\u001b[0;31m     \u001b[0mfunc\u001b[0m\u001b[0;34m(\u001b[0m\u001b[0marr\u001b[0m\u001b[0;34m,\u001b[0m \u001b[0mindexer\u001b[0m\u001b[0;34m,\u001b[0m \u001b[0mout\u001b[0m\u001b[0;34m,\u001b[0m \u001b[0mfill_value\u001b[0m\u001b[0;34m)\u001b[0m\u001b[0;34m\u001b[0m\u001b[0;34m\u001b[0m\u001b[0m\n\u001b[0m\u001b[1;32m    155\u001b[0m \u001b[0;34m\u001b[0m\u001b[0m\n",
      "\u001b[0;32m/opt/conda/lib/python3.7/site-packages/pandas/core/array_algos/take.py\u001b[0m in \u001b[0;36mwrapper\u001b[0;34m(arr, indexer, out, fill_value)\u001b[0m\n\u001b[1;32m    332\u001b[0m         \u001b[0;32mif\u001b[0m \u001b[0mfill_wrap\u001b[0m \u001b[0;32mis\u001b[0m \u001b[0;32mnot\u001b[0m \u001b[0;32mNone\u001b[0m\u001b[0;34m:\u001b[0m\u001b[0;34m\u001b[0m\u001b[0;34m\u001b[0m\u001b[0m\n\u001b[0;32m--> 333\u001b[0;31m             \u001b[0mfill_value\u001b[0m \u001b[0;34m=\u001b[0m \u001b[0mfill_wrap\u001b[0m\u001b[0;34m(\u001b[0m\u001b[0mfill_value\u001b[0m\u001b[0;34m)\u001b[0m\u001b[0;34m\u001b[0m\u001b[0;34m\u001b[0m\u001b[0m\n\u001b[0m\u001b[1;32m    334\u001b[0m         \u001b[0mf\u001b[0m\u001b[0;34m(\u001b[0m\u001b[0marr\u001b[0m\u001b[0;34m,\u001b[0m \u001b[0mindexer\u001b[0m\u001b[0;34m,\u001b[0m \u001b[0mout\u001b[0m\u001b[0;34m,\u001b[0m \u001b[0mfill_value\u001b[0m\u001b[0;34m=\u001b[0m\u001b[0mfill_value\u001b[0m\u001b[0;34m)\u001b[0m\u001b[0;34m\u001b[0m\u001b[0;34m\u001b[0m\u001b[0m\n",
      "\u001b[0;31mKeyboardInterrupt\u001b[0m: ",
      "\nDuring handling of the above exception, another exception occurred:\n",
      "\u001b[0;31mAttributeError\u001b[0m                            Traceback (most recent call last)",
      "\u001b[0;32m/opt/conda/lib/python3.7/site-packages/IPython/core/interactiveshell.py\u001b[0m in \u001b[0;36mshowtraceback\u001b[0;34m(self, exc_tuple, filename, tb_offset, exception_only, running_compiled_code)\u001b[0m\n\u001b[1;32m   2097\u001b[0m                         \u001b[0;31m# in the engines. This should return a list of strings.\u001b[0m\u001b[0;34m\u001b[0m\u001b[0;34m\u001b[0m\u001b[0;34m\u001b[0m\u001b[0m\n\u001b[0;32m-> 2098\u001b[0;31m                         \u001b[0mstb\u001b[0m \u001b[0;34m=\u001b[0m \u001b[0mvalue\u001b[0m\u001b[0;34m.\u001b[0m\u001b[0m_render_traceback_\u001b[0m\u001b[0;34m(\u001b[0m\u001b[0;34m)\u001b[0m\u001b[0;34m\u001b[0m\u001b[0;34m\u001b[0m\u001b[0m\n\u001b[0m\u001b[1;32m   2099\u001b[0m                     \u001b[0;32mexcept\u001b[0m \u001b[0mException\u001b[0m\u001b[0;34m:\u001b[0m\u001b[0;34m\u001b[0m\u001b[0;34m\u001b[0m\u001b[0m\n",
      "\u001b[0;31mAttributeError\u001b[0m: 'KeyboardInterrupt' object has no attribute '_render_traceback_'",
      "\nDuring handling of the above exception, another exception occurred:\n",
      "\u001b[0;31mTypeError\u001b[0m                                 Traceback (most recent call last)",
      "\u001b[0;32m/opt/conda/lib/python3.7/site-packages/IPython/core/interactiveshell.py\u001b[0m in \u001b[0;36mrun_ast_nodes\u001b[0;34m(self, nodelist, cell_name, interactivity, compiler, result)\u001b[0m\n\u001b[1;32m   3471\u001b[0m                         \u001b[0masy\u001b[0m \u001b[0;34m=\u001b[0m \u001b[0mcompare\u001b[0m\u001b[0;34m(\u001b[0m\u001b[0mcode\u001b[0m\u001b[0;34m)\u001b[0m\u001b[0;34m\u001b[0m\u001b[0;34m\u001b[0m\u001b[0m\n\u001b[0;32m-> 3472\u001b[0;31m                     \u001b[0;32mif\u001b[0m \u001b[0;34m(\u001b[0m\u001b[0;32mawait\u001b[0m \u001b[0mself\u001b[0m\u001b[0;34m.\u001b[0m\u001b[0mrun_code\u001b[0m\u001b[0;34m(\u001b[0m\u001b[0mcode\u001b[0m\u001b[0;34m,\u001b[0m \u001b[0mresult\u001b[0m\u001b[0;34m,\u001b[0m  \u001b[0masync_\u001b[0m\u001b[0;34m=\u001b[0m\u001b[0masy\u001b[0m\u001b[0;34m)\u001b[0m\u001b[0;34m)\u001b[0m\u001b[0;34m:\u001b[0m\u001b[0;34m\u001b[0m\u001b[0;34m\u001b[0m\u001b[0m\n\u001b[0m\u001b[1;32m   3473\u001b[0m                         \u001b[0;32mreturn\u001b[0m \u001b[0;32mTrue\u001b[0m\u001b[0;34m\u001b[0m\u001b[0;34m\u001b[0m\u001b[0m\n",
      "    \u001b[0;31m[... skipping hidden 1 frame]\u001b[0m\n",
      "\u001b[0;32m/opt/conda/lib/python3.7/site-packages/IPython/core/interactiveshell.py\u001b[0m in \u001b[0;36mshowtraceback\u001b[0;34m(self, exc_tuple, filename, tb_offset, exception_only, running_compiled_code)\u001b[0m\n\u001b[1;32m   2100\u001b[0m                         stb = self.InteractiveTB.structured_traceback(etype,\n\u001b[0;32m-> 2101\u001b[0;31m                                             value, tb, tb_offset=tb_offset)\n\u001b[0m\u001b[1;32m   2102\u001b[0m \u001b[0;34m\u001b[0m\u001b[0m\n",
      "\u001b[0;32m/opt/conda/lib/python3.7/site-packages/IPython/core/ultratb.py\u001b[0m in \u001b[0;36mstructured_traceback\u001b[0;34m(self, etype, value, tb, tb_offset, number_of_lines_of_context)\u001b[0m\n\u001b[1;32m   1367\u001b[0m         return FormattedTB.structured_traceback(\n\u001b[0;32m-> 1368\u001b[0;31m             self, etype, value, tb, tb_offset, number_of_lines_of_context)\n\u001b[0m\u001b[1;32m   1369\u001b[0m \u001b[0;34m\u001b[0m\u001b[0m\n",
      "\u001b[0;32m/opt/conda/lib/python3.7/site-packages/IPython/core/ultratb.py\u001b[0m in \u001b[0;36mstructured_traceback\u001b[0;34m(self, etype, value, tb, tb_offset, number_of_lines_of_context)\u001b[0m\n\u001b[1;32m   1267\u001b[0m             return VerboseTB.structured_traceback(\n\u001b[0;32m-> 1268\u001b[0;31m                 \u001b[0mself\u001b[0m\u001b[0;34m,\u001b[0m \u001b[0metype\u001b[0m\u001b[0;34m,\u001b[0m \u001b[0mvalue\u001b[0m\u001b[0;34m,\u001b[0m \u001b[0mtb\u001b[0m\u001b[0;34m,\u001b[0m \u001b[0mtb_offset\u001b[0m\u001b[0;34m,\u001b[0m \u001b[0mnumber_of_lines_of_context\u001b[0m\u001b[0;34m\u001b[0m\u001b[0;34m\u001b[0m\u001b[0m\n\u001b[0m\u001b[1;32m   1269\u001b[0m             )\n",
      "\u001b[0;32m/opt/conda/lib/python3.7/site-packages/IPython/core/ultratb.py\u001b[0m in \u001b[0;36mstructured_traceback\u001b[0;34m(self, etype, evalue, etb, tb_offset, number_of_lines_of_context)\u001b[0m\n\u001b[1;32m   1124\u001b[0m         formatted_exception = self.format_exception_as_a_whole(etype, evalue, etb, number_of_lines_of_context,\n\u001b[0;32m-> 1125\u001b[0;31m                                                                tb_offset)\n\u001b[0m\u001b[1;32m   1126\u001b[0m \u001b[0;34m\u001b[0m\u001b[0m\n",
      "\u001b[0;32m/opt/conda/lib/python3.7/site-packages/IPython/core/ultratb.py\u001b[0m in \u001b[0;36mformat_exception_as_a_whole\u001b[0;34m(self, etype, evalue, etb, number_of_lines_of_context, tb_offset)\u001b[0m\n\u001b[1;32m   1081\u001b[0m \u001b[0;34m\u001b[0m\u001b[0m\n\u001b[0;32m-> 1082\u001b[0;31m         \u001b[0mlast_unique\u001b[0m\u001b[0;34m,\u001b[0m \u001b[0mrecursion_repeat\u001b[0m \u001b[0;34m=\u001b[0m \u001b[0mfind_recursion\u001b[0m\u001b[0;34m(\u001b[0m\u001b[0morig_etype\u001b[0m\u001b[0;34m,\u001b[0m \u001b[0mevalue\u001b[0m\u001b[0;34m,\u001b[0m \u001b[0mrecords\u001b[0m\u001b[0;34m)\u001b[0m\u001b[0;34m\u001b[0m\u001b[0;34m\u001b[0m\u001b[0m\n\u001b[0m\u001b[1;32m   1083\u001b[0m \u001b[0;34m\u001b[0m\u001b[0m\n",
      "\u001b[0;32m/opt/conda/lib/python3.7/site-packages/IPython/core/ultratb.py\u001b[0m in \u001b[0;36mfind_recursion\u001b[0;34m(etype, value, records)\u001b[0m\n\u001b[1;32m    381\u001b[0m     \u001b[0;32mif\u001b[0m \u001b[0;32mnot\u001b[0m \u001b[0mis_recursion_error\u001b[0m\u001b[0;34m(\u001b[0m\u001b[0metype\u001b[0m\u001b[0;34m,\u001b[0m \u001b[0mvalue\u001b[0m\u001b[0;34m,\u001b[0m \u001b[0mrecords\u001b[0m\u001b[0;34m)\u001b[0m\u001b[0;34m:\u001b[0m\u001b[0;34m\u001b[0m\u001b[0;34m\u001b[0m\u001b[0m\n\u001b[0;32m--> 382\u001b[0;31m         \u001b[0;32mreturn\u001b[0m \u001b[0mlen\u001b[0m\u001b[0;34m(\u001b[0m\u001b[0mrecords\u001b[0m\u001b[0;34m)\u001b[0m\u001b[0;34m,\u001b[0m \u001b[0;36m0\u001b[0m\u001b[0;34m\u001b[0m\u001b[0;34m\u001b[0m\u001b[0m\n\u001b[0m\u001b[1;32m    383\u001b[0m \u001b[0;34m\u001b[0m\u001b[0m\n",
      "\u001b[0;31mTypeError\u001b[0m: object of type 'NoneType' has no len()",
      "\nDuring handling of the above exception, another exception occurred:\n",
      "\u001b[0;31mAttributeError\u001b[0m                            Traceback (most recent call last)",
      "\u001b[0;32m/opt/conda/lib/python3.7/site-packages/IPython/core/interactiveshell.py\u001b[0m in \u001b[0;36mshowtraceback\u001b[0;34m(self, exc_tuple, filename, tb_offset, exception_only, running_compiled_code)\u001b[0m\n\u001b[1;32m   2097\u001b[0m                         \u001b[0;31m# in the engines. This should return a list of strings.\u001b[0m\u001b[0;34m\u001b[0m\u001b[0;34m\u001b[0m\u001b[0;34m\u001b[0m\u001b[0m\n\u001b[0;32m-> 2098\u001b[0;31m                         \u001b[0mstb\u001b[0m \u001b[0;34m=\u001b[0m \u001b[0mvalue\u001b[0m\u001b[0;34m.\u001b[0m\u001b[0m_render_traceback_\u001b[0m\u001b[0;34m(\u001b[0m\u001b[0;34m)\u001b[0m\u001b[0;34m\u001b[0m\u001b[0;34m\u001b[0m\u001b[0m\n\u001b[0m\u001b[1;32m   2099\u001b[0m                     \u001b[0;32mexcept\u001b[0m \u001b[0mException\u001b[0m\u001b[0;34m:\u001b[0m\u001b[0;34m\u001b[0m\u001b[0;34m\u001b[0m\u001b[0m\n",
      "\u001b[0;31mAttributeError\u001b[0m: 'TypeError' object has no attribute '_render_traceback_'",
      "\nDuring handling of the above exception, another exception occurred:\n",
      "\u001b[0;31mTypeError\u001b[0m                                 Traceback (most recent call last)",
      "\u001b[0;32m/opt/conda/lib/python3.7/site-packages/IPython/core/async_helpers.py\u001b[0m in \u001b[0;36m_pseudo_sync_runner\u001b[0;34m(coro)\u001b[0m\n\u001b[1;32m     76\u001b[0m     \"\"\"\n\u001b[1;32m     77\u001b[0m     \u001b[0;32mtry\u001b[0m\u001b[0;34m:\u001b[0m\u001b[0;34m\u001b[0m\u001b[0;34m\u001b[0m\u001b[0m\n\u001b[0;32m---> 78\u001b[0;31m         \u001b[0mcoro\u001b[0m\u001b[0;34m.\u001b[0m\u001b[0msend\u001b[0m\u001b[0;34m(\u001b[0m\u001b[0;32mNone\u001b[0m\u001b[0;34m)\u001b[0m\u001b[0;34m\u001b[0m\u001b[0;34m\u001b[0m\u001b[0m\n\u001b[0m\u001b[1;32m     79\u001b[0m     \u001b[0;32mexcept\u001b[0m \u001b[0mStopIteration\u001b[0m \u001b[0;32mas\u001b[0m \u001b[0mexc\u001b[0m\u001b[0;34m:\u001b[0m\u001b[0;34m\u001b[0m\u001b[0;34m\u001b[0m\u001b[0m\n\u001b[1;32m     80\u001b[0m         \u001b[0;32mreturn\u001b[0m \u001b[0mexc\u001b[0m\u001b[0;34m.\u001b[0m\u001b[0mvalue\u001b[0m\u001b[0;34m\u001b[0m\u001b[0;34m\u001b[0m\u001b[0m\n",
      "\u001b[0;32m/opt/conda/lib/python3.7/site-packages/IPython/core/interactiveshell.py\u001b[0m in \u001b[0;36mrun_cell_async\u001b[0;34m(self, raw_cell, store_history, silent, shell_futures, transformed_cell, preprocessing_exc_tuple, cell_id)\u001b[0m\n\u001b[1;32m   3255\u001b[0m \u001b[0;34m\u001b[0m\u001b[0m\n\u001b[1;32m   3256\u001b[0m                 has_raised = await self.run_ast_nodes(code_ast.body, cell_name,\n\u001b[0;32m-> 3257\u001b[0;31m                        interactivity=interactivity, compiler=compiler, result=result)\n\u001b[0m\u001b[1;32m   3258\u001b[0m \u001b[0;34m\u001b[0m\u001b[0m\n\u001b[1;32m   3259\u001b[0m                 \u001b[0mself\u001b[0m\u001b[0;34m.\u001b[0m\u001b[0mlast_execution_succeeded\u001b[0m \u001b[0;34m=\u001b[0m \u001b[0;32mnot\u001b[0m \u001b[0mhas_raised\u001b[0m\u001b[0;34m\u001b[0m\u001b[0;34m\u001b[0m\u001b[0m\n",
      "\u001b[0;32m/opt/conda/lib/python3.7/site-packages/IPython/core/interactiveshell.py\u001b[0m in \u001b[0;36mrun_ast_nodes\u001b[0;34m(self, nodelist, cell_name, interactivity, compiler, result)\u001b[0m\n\u001b[1;32m   3489\u001b[0m             \u001b[0;32mif\u001b[0m \u001b[0mresult\u001b[0m\u001b[0;34m:\u001b[0m\u001b[0;34m\u001b[0m\u001b[0;34m\u001b[0m\u001b[0m\n\u001b[1;32m   3490\u001b[0m                 \u001b[0mresult\u001b[0m\u001b[0;34m.\u001b[0m\u001b[0merror_before_exec\u001b[0m \u001b[0;34m=\u001b[0m \u001b[0msys\u001b[0m\u001b[0;34m.\u001b[0m\u001b[0mexc_info\u001b[0m\u001b[0;34m(\u001b[0m\u001b[0;34m)\u001b[0m\u001b[0;34m[\u001b[0m\u001b[0;36m1\u001b[0m\u001b[0;34m]\u001b[0m\u001b[0;34m\u001b[0m\u001b[0;34m\u001b[0m\u001b[0m\n\u001b[0;32m-> 3491\u001b[0;31m             \u001b[0mself\u001b[0m\u001b[0;34m.\u001b[0m\u001b[0mshowtraceback\u001b[0m\u001b[0;34m(\u001b[0m\u001b[0;34m)\u001b[0m\u001b[0;34m\u001b[0m\u001b[0;34m\u001b[0m\u001b[0m\n\u001b[0m\u001b[1;32m   3492\u001b[0m             \u001b[0;32mreturn\u001b[0m \u001b[0;32mTrue\u001b[0m\u001b[0;34m\u001b[0m\u001b[0;34m\u001b[0m\u001b[0m\n\u001b[1;32m   3493\u001b[0m \u001b[0;34m\u001b[0m\u001b[0m\n",
      "\u001b[0;32m/opt/conda/lib/python3.7/site-packages/IPython/core/interactiveshell.py\u001b[0m in \u001b[0;36mshowtraceback\u001b[0;34m(self, exc_tuple, filename, tb_offset, exception_only, running_compiled_code)\u001b[0m\n\u001b[1;32m   2099\u001b[0m                     \u001b[0;32mexcept\u001b[0m \u001b[0mException\u001b[0m\u001b[0;34m:\u001b[0m\u001b[0;34m\u001b[0m\u001b[0;34m\u001b[0m\u001b[0m\n\u001b[1;32m   2100\u001b[0m                         stb = self.InteractiveTB.structured_traceback(etype,\n\u001b[0;32m-> 2101\u001b[0;31m                                             value, tb, tb_offset=tb_offset)\n\u001b[0m\u001b[1;32m   2102\u001b[0m \u001b[0;34m\u001b[0m\u001b[0m\n\u001b[1;32m   2103\u001b[0m                     \u001b[0mself\u001b[0m\u001b[0;34m.\u001b[0m\u001b[0m_showtraceback\u001b[0m\u001b[0;34m(\u001b[0m\u001b[0metype\u001b[0m\u001b[0;34m,\u001b[0m \u001b[0mvalue\u001b[0m\u001b[0;34m,\u001b[0m \u001b[0mstb\u001b[0m\u001b[0;34m)\u001b[0m\u001b[0;34m\u001b[0m\u001b[0;34m\u001b[0m\u001b[0m\n",
      "\u001b[0;32m/opt/conda/lib/python3.7/site-packages/IPython/core/ultratb.py\u001b[0m in \u001b[0;36mstructured_traceback\u001b[0;34m(self, etype, value, tb, tb_offset, number_of_lines_of_context)\u001b[0m\n\u001b[1;32m   1366\u001b[0m             \u001b[0mself\u001b[0m\u001b[0;34m.\u001b[0m\u001b[0mtb\u001b[0m \u001b[0;34m=\u001b[0m \u001b[0mtb\u001b[0m\u001b[0;34m\u001b[0m\u001b[0;34m\u001b[0m\u001b[0m\n\u001b[1;32m   1367\u001b[0m         return FormattedTB.structured_traceback(\n\u001b[0;32m-> 1368\u001b[0;31m             self, etype, value, tb, tb_offset, number_of_lines_of_context)\n\u001b[0m\u001b[1;32m   1369\u001b[0m \u001b[0;34m\u001b[0m\u001b[0m\n\u001b[1;32m   1370\u001b[0m \u001b[0;34m\u001b[0m\u001b[0m\n",
      "\u001b[0;32m/opt/conda/lib/python3.7/site-packages/IPython/core/ultratb.py\u001b[0m in \u001b[0;36mstructured_traceback\u001b[0;34m(self, etype, value, tb, tb_offset, number_of_lines_of_context)\u001b[0m\n\u001b[1;32m   1266\u001b[0m             \u001b[0;31m# Verbose modes need a full traceback\u001b[0m\u001b[0;34m\u001b[0m\u001b[0;34m\u001b[0m\u001b[0;34m\u001b[0m\u001b[0m\n\u001b[1;32m   1267\u001b[0m             return VerboseTB.structured_traceback(\n\u001b[0;32m-> 1268\u001b[0;31m                 \u001b[0mself\u001b[0m\u001b[0;34m,\u001b[0m \u001b[0metype\u001b[0m\u001b[0;34m,\u001b[0m \u001b[0mvalue\u001b[0m\u001b[0;34m,\u001b[0m \u001b[0mtb\u001b[0m\u001b[0;34m,\u001b[0m \u001b[0mtb_offset\u001b[0m\u001b[0;34m,\u001b[0m \u001b[0mnumber_of_lines_of_context\u001b[0m\u001b[0;34m\u001b[0m\u001b[0;34m\u001b[0m\u001b[0m\n\u001b[0m\u001b[1;32m   1269\u001b[0m             )\n\u001b[1;32m   1270\u001b[0m         \u001b[0;32melif\u001b[0m \u001b[0mmode\u001b[0m \u001b[0;34m==\u001b[0m \u001b[0;34m'Minimal'\u001b[0m\u001b[0;34m:\u001b[0m\u001b[0;34m\u001b[0m\u001b[0;34m\u001b[0m\u001b[0m\n",
      "\u001b[0;32m/opt/conda/lib/python3.7/site-packages/IPython/core/ultratb.py\u001b[0m in \u001b[0;36mstructured_traceback\u001b[0;34m(self, etype, evalue, etb, tb_offset, number_of_lines_of_context)\u001b[0m\n\u001b[1;32m   1141\u001b[0m         \u001b[0;32mwhile\u001b[0m \u001b[0mevalue\u001b[0m\u001b[0;34m:\u001b[0m\u001b[0;34m\u001b[0m\u001b[0;34m\u001b[0m\u001b[0m\n\u001b[1;32m   1142\u001b[0m             formatted_exceptions += self.format_exception_as_a_whole(etype, evalue, etb, lines_of_context,\n\u001b[0;32m-> 1143\u001b[0;31m                                                                      chained_exceptions_tb_offset)\n\u001b[0m\u001b[1;32m   1144\u001b[0m             \u001b[0mexception\u001b[0m \u001b[0;34m=\u001b[0m \u001b[0mself\u001b[0m\u001b[0;34m.\u001b[0m\u001b[0mget_parts_of_chained_exception\u001b[0m\u001b[0;34m(\u001b[0m\u001b[0mevalue\u001b[0m\u001b[0;34m)\u001b[0m\u001b[0;34m\u001b[0m\u001b[0;34m\u001b[0m\u001b[0m\n\u001b[1;32m   1145\u001b[0m \u001b[0;34m\u001b[0m\u001b[0m\n",
      "\u001b[0;32m/opt/conda/lib/python3.7/site-packages/IPython/core/ultratb.py\u001b[0m in \u001b[0;36mformat_exception_as_a_whole\u001b[0;34m(self, etype, evalue, etb, number_of_lines_of_context, tb_offset)\u001b[0m\n\u001b[1;32m   1080\u001b[0m \u001b[0;34m\u001b[0m\u001b[0m\n\u001b[1;32m   1081\u001b[0m \u001b[0;34m\u001b[0m\u001b[0m\n\u001b[0;32m-> 1082\u001b[0;31m         \u001b[0mlast_unique\u001b[0m\u001b[0;34m,\u001b[0m \u001b[0mrecursion_repeat\u001b[0m \u001b[0;34m=\u001b[0m \u001b[0mfind_recursion\u001b[0m\u001b[0;34m(\u001b[0m\u001b[0morig_etype\u001b[0m\u001b[0;34m,\u001b[0m \u001b[0mevalue\u001b[0m\u001b[0;34m,\u001b[0m \u001b[0mrecords\u001b[0m\u001b[0;34m)\u001b[0m\u001b[0;34m\u001b[0m\u001b[0;34m\u001b[0m\u001b[0m\n\u001b[0m\u001b[1;32m   1083\u001b[0m \u001b[0;34m\u001b[0m\u001b[0m\n\u001b[1;32m   1084\u001b[0m         \u001b[0mframes\u001b[0m \u001b[0;34m=\u001b[0m \u001b[0mself\u001b[0m\u001b[0;34m.\u001b[0m\u001b[0mformat_records\u001b[0m\u001b[0;34m(\u001b[0m\u001b[0mrecords\u001b[0m\u001b[0;34m,\u001b[0m \u001b[0mlast_unique\u001b[0m\u001b[0;34m,\u001b[0m \u001b[0mrecursion_repeat\u001b[0m\u001b[0;34m)\u001b[0m\u001b[0;34m\u001b[0m\u001b[0;34m\u001b[0m\u001b[0m\n",
      "\u001b[0;32m/opt/conda/lib/python3.7/site-packages/IPython/core/ultratb.py\u001b[0m in \u001b[0;36mfind_recursion\u001b[0;34m(etype, value, records)\u001b[0m\n\u001b[1;32m    380\u001b[0m     \u001b[0;31m# first frame (from in to out) that looks different.\u001b[0m\u001b[0;34m\u001b[0m\u001b[0;34m\u001b[0m\u001b[0;34m\u001b[0m\u001b[0m\n\u001b[1;32m    381\u001b[0m     \u001b[0;32mif\u001b[0m \u001b[0;32mnot\u001b[0m \u001b[0mis_recursion_error\u001b[0m\u001b[0;34m(\u001b[0m\u001b[0metype\u001b[0m\u001b[0;34m,\u001b[0m \u001b[0mvalue\u001b[0m\u001b[0;34m,\u001b[0m \u001b[0mrecords\u001b[0m\u001b[0;34m)\u001b[0m\u001b[0;34m:\u001b[0m\u001b[0;34m\u001b[0m\u001b[0;34m\u001b[0m\u001b[0m\n\u001b[0;32m--> 382\u001b[0;31m         \u001b[0;32mreturn\u001b[0m \u001b[0mlen\u001b[0m\u001b[0;34m(\u001b[0m\u001b[0mrecords\u001b[0m\u001b[0;34m)\u001b[0m\u001b[0;34m,\u001b[0m \u001b[0;36m0\u001b[0m\u001b[0;34m\u001b[0m\u001b[0;34m\u001b[0m\u001b[0m\n\u001b[0m\u001b[1;32m    383\u001b[0m \u001b[0;34m\u001b[0m\u001b[0m\n\u001b[1;32m    384\u001b[0m     \u001b[0;31m# Select filename, lineno, func_name to track frames with\u001b[0m\u001b[0;34m\u001b[0m\u001b[0;34m\u001b[0m\u001b[0;34m\u001b[0m\u001b[0m\n",
      "\u001b[0;31mTypeError\u001b[0m: object of type 'NoneType' has no len()"
     ]
    },
    {
     "name": "stdout",
     "output_type": "stream",
     "text": [
      "time: 4h 42min 20s (started: 2022-09-29 13:10:53 +00:00)\n"
     ]
    }
   ],
   "source": [
    "import time\n",
    "t_ini = time.time()\n",
    "# Generar tabla \n",
    "df_base = pd.DataFrame(columns = ['SOC', 'url', 'plate_num', 'provider_id', 'provider_verify_digit',\n",
    "                                  'provider_name', 'driver_id',\t'driver_verify_digit',\t\n",
    "                                  'driver_name', 'driver_last_name', 'event_crte_tmst',\n",
    "                                  'dfl_crte_tmst','paquete', 's_paquete', 'etiqueta_producto',\n",
    "                                  's_etiqueta_producto', 'sin_rostro', 's_sin_rostro',\n",
    "                                  'numero_domicilio', 's_numero_domicilio', 'contexto',\n",
    "                                  'ctx_value', 'score', 'enlace'])\n",
    "\n",
    "thres = {'t_prod': 0.5, 't_face': 0.6491, 't_label': 0.3, 't_num': 0.65, 't_ctx_down': 0.2, \n",
    "                        't_ctx_up': 0.65}\n",
    "\n",
    "largo_dataset = len(df_images)\n",
    "print(largo_dataset)\n",
    "for i in range(len(df_images)):\n",
    "  url = df_images.loc[[i]]['url'].item()\n",
    "  df1 = df_images.loc[[i]].reset_index()\n",
    "  #aplicar modelo que retornara df2\n",
    "  df2, _, _ = score(url, ml_model_1, ml_model_2, od_model, thresholds = thres)\n",
    "  #df2, _, _ = score(url, ml_model_1, ml_model_2, od_model, thresholds = thres, device = 'cpu')\n",
    "  df3 = pd.concat((df1,df2), axis =1)\n",
    "  df_base = pd.concat((df_base,df3), ignore_index= True)\n",
    "  # revisión cada 100 imágenes \n",
    "  if i%100==0:\n",
    "    print(i,'fotografías procesadas')      \n",
    "\n",
    "t_fin = time.time()\n",
    "delta_time = t_fin-t_ini\n",
    "print('Se ejecutó exitosamente el modelo')   "
   ]
  },
  {
   "cell_type": "code",
   "execution_count": null,
   "metadata": {},
   "outputs": [],
   "source": [
    "len(df_base['SOC'].unique())"
   ]
  },
  {
   "cell_type": "code",
   "execution_count": null,
   "metadata": {},
   "outputs": [],
   "source": [
    "df_base"
   ]
  },
  {
   "cell_type": "code",
   "execution_count": null,
   "metadata": {},
   "outputs": [],
   "source": [
    "df_base.columns"
   ]
  },
  {
   "cell_type": "code",
   "execution_count": null,
   "metadata": {},
   "outputs": [],
   "source": [
    "df_base_copy1 = df_base.copy()"
   ]
  },
  {
   "cell_type": "code",
   "execution_count": null,
   "metadata": {},
   "outputs": [],
   "source": [
    "# Agrupar por SOC y dejar indice\n",
    "df_base_copy2 = df_base_copy1[['SOC', 'index']].groupby(['SOC'], sort = False).max('score')"
   ]
  },
  {
   "cell_type": "code",
   "execution_count": null,
   "metadata": {},
   "outputs": [],
   "source": [
    "# Agrupar por RUT, normalizar los nombres y dejar indice\n",
    "#.agg(lambda x:x.value_counts().index[0])\n",
    "df_base_copy3 = df_base_copy1[['provider_name', 'provider_id']].groupby(['provider_id'], sort = False)['provider_name'].transform('first').to_frame()\n",
    "df_base_copy3['index'] = df_base_copy3.index"
   ]
  },
  {
   "cell_type": "code",
   "execution_count": null,
   "metadata": {},
   "outputs": [],
   "source": [
    "# \"merge\" del dataset normalizado y el dataset original, con respecto al indice\n",
    "df_base_copy4 = pd.merge(df_base_copy3, df_base_copy1, how='left', on='index')"
   ]
  },
  {
   "cell_type": "code",
   "execution_count": null,
   "metadata": {},
   "outputs": [],
   "source": [
    "# \"merge\" del dataset agrupado por SOC y el dataset anterior, con respecto al indice\n",
    "df_base_final = pd.merge(df_base_copy2, df_base_copy4, how='left', on='index')"
   ]
  },
  {
   "cell_type": "code",
   "execution_count": null,
   "metadata": {},
   "outputs": [],
   "source": [
    "df_base_final.columns"
   ]
  },
  {
   "cell_type": "code",
   "execution_count": null,
   "metadata": {},
   "outputs": [],
   "source": [
    "df_base_final"
   ]
  },
  {
   "cell_type": "code",
   "execution_count": null,
   "metadata": {},
   "outputs": [],
   "source": [
    "df_base_final['dfl_crte_tmst'] = df_base_final['dfl_crte_tmst'].dt.tz_localize(None)\n",
    "df_base_final['event_crte_tmst'] = df_base_final['event_crte_tmst'].dt.tz_localize(None)"
   ]
  },
  {
   "cell_type": "code",
   "execution_count": null,
   "metadata": {},
   "outputs": [],
   "source": [
    "df_base_final.head(5)"
   ]
  },
  {
   "cell_type": "code",
   "execution_count": null,
   "metadata": {},
   "outputs": [],
   "source": [
    "new_df_base_final = df_base_final.assign(len_data = largo_dataset)\n",
    "new_df_base_final = new_df_base_final.assign(execution_time_model = delta_time)"
   ]
  },
  {
   "cell_type": "code",
   "execution_count": null,
   "metadata": {},
   "outputs": [],
   "source": [
    "new_df_base_final.head(5)"
   ]
  },
  {
   "cell_type": "code",
   "execution_count": null,
   "metadata": {},
   "outputs": [],
   "source": [
    "df_copy = new_df_base_final.copy()\n",
    "df_filtrado = df_copy[(df_copy.enlace != 'incorrecto')]\n",
    "df_filtrado=df_filtrado.assign(paquete_em=\"\", etiqueta_em=\"\", domicilio_em=\"\", rostro_em=\"\")"
   ]
  },
  {
   "cell_type": "code",
   "execution_count": null,
   "metadata": {},
   "outputs": [],
   "source": [
    "df_filtrado"
   ]
  },
  {
   "cell_type": "code",
   "execution_count": null,
   "metadata": {},
   "outputs": [],
   "source": [
    "random_sample = df_filtrado.sample(n=200, frac=None, replace=False, weights=None, random_state=None)"
   ]
  },
  {
   "cell_type": "code",
   "execution_count": null,
   "metadata": {},
   "outputs": [],
   "source": [
    "#descargar df_base como excel\n",
    "#se especifica nombre del archivo\n",
    "file_name = '/home/jupyter/Score/resultados_modelo.xlsx'\n",
    "  \n",
    "#guardar excel\n",
    "df_base_final.to_excel(file_name)\n",
    "#print('Archivo excel se exportó correctamente')"
   ]
  },
  {
   "cell_type": "code",
   "execution_count": null,
   "metadata": {},
   "outputs": [],
   "source": [
    "dataset = 'image_recognition'\n",
    "full_table = 'prediction_table_2'\n",
    "random_table = 'random_table'\n",
    "destination_full_table = dataset + '.' + full_table\n",
    "destination_random_table = dataset + '.' + random_table"
   ]
  },
  {
   "cell_type": "code",
   "execution_count": null,
   "metadata": {
    "tags": []
   },
   "outputs": [],
   "source": [
    "#!pip install pandas-gbq"
   ]
  },
  {
   "cell_type": "code",
   "execution_count": null,
   "metadata": {},
   "outputs": [],
   "source": [
    "import pandas_gbq\n",
    "# anexar tabla de predicciones\n",
    "pandas_gbq.to_gbq(new_df_base_final, destination_full_table, project_id='tc-sc-bi-bigdata-corp-tsod-dev', if_exists = 'append')\n",
    "# reemplazar tabla aleatoria\n",
    "pandas_gbq.to_gbq(random_sample, destination_random_table, project_id='tc-sc-bi-bigdata-corp-tsod-dev', if_exists = 'replace')"
   ]
  },
  {
   "cell_type": "code",
   "execution_count": null,
   "metadata": {},
   "outputs": [],
   "source": [
    "# anexar tabla aleatoria para tenerla de respaldo\n",
    "random_table_backup  = 'random_table_backup'\n",
    "destination_random_table_backup = dataset + '.' + random_table_backup\n",
    "pandas_gbq.to_gbq(random_sample, destination_random_table_backup, project_id='tc-sc-bi-bigdata-corp-tsod-dev', if_exists = 'append')"
   ]
  },
  {
   "cell_type": "code",
   "execution_count": null,
   "metadata": {},
   "outputs": [],
   "source": []
  }
 ],
 "metadata": {
  "accelerator": "GPU",
  "colab": {
   "collapsed_sections": [],
   "provenance": []
  },
  "environment": {
   "kernel": "python3",
   "name": "pytorch-gpu.1-11.m94",
   "type": "gcloud",
   "uri": "gcr.io/deeplearning-platform-release/pytorch-gpu.1-11:m94"
  },
  "gpuClass": "standard",
  "kernelspec": {
   "display_name": "Python 3",
   "language": "python",
   "name": "python3"
  },
  "language_info": {
   "codemirror_mode": {
    "name": "ipython",
    "version": 3
   },
   "file_extension": ".py",
   "mimetype": "text/x-python",
   "name": "python",
   "nbconvert_exporter": "python",
   "pygments_lexer": "ipython3",
   "version": "3.7.12"
  },
  "widgets": {
   "application/vnd.jupyter.widget-state+json": {
    "05887b1a958f4535938c3a9208b4ebaf": {
     "model_module": "@jupyter-widgets/controls",
     "model_module_version": "1.5.0",
     "model_name": "HTMLModel",
     "state": {
      "_dom_classes": [],
      "_model_module": "@jupyter-widgets/controls",
      "_model_module_version": "1.5.0",
      "_model_name": "HTMLModel",
      "_view_count": null,
      "_view_module": "@jupyter-widgets/controls",
      "_view_module_version": "1.5.0",
      "_view_name": "HTMLView",
      "description": "",
      "description_tooltip": null,
      "layout": "IPY_MODEL_9597f48902e54c7a9989484bcf6a239d",
      "placeholder": "​",
      "style": "IPY_MODEL_4a4aad02b8d24bffa799e6a5fdd4e006",
      "value": " 340M/340M [00:01&lt;00:00, 147MB/s]"
     }
    },
    "074323727f34416c895035b6d28e3738": {
     "model_module": "@jupyter-widgets/controls",
     "model_module_version": "1.5.0",
     "model_name": "HTMLModel",
     "state": {
      "_dom_classes": [],
      "_model_module": "@jupyter-widgets/controls",
      "_model_module_version": "1.5.0",
      "_model_name": "HTMLModel",
      "_view_count": null,
      "_view_module": "@jupyter-widgets/controls",
      "_view_module_version": "1.5.0",
      "_view_name": "HTMLView",
      "description": "",
      "description_tooltip": null,
      "layout": "IPY_MODEL_a272d658182140b29fe755334af326c0",
      "placeholder": "​",
      "style": "IPY_MODEL_758e0c34b07e4c168617e8857e09b8fa",
      "value": " 160M/160M [00:01&lt;00:00, 90.2MB/s]"
     }
    },
    "1d7e20161e9248e6a41c541517122a17": {
     "model_module": "@jupyter-widgets/controls",
     "model_module_version": "1.5.0",
     "model_name": "ProgressStyleModel",
     "state": {
      "_model_module": "@jupyter-widgets/controls",
      "_model_module_version": "1.5.0",
      "_model_name": "ProgressStyleModel",
      "_view_count": null,
      "_view_module": "@jupyter-widgets/base",
      "_view_module_version": "1.2.0",
      "_view_name": "StyleView",
      "bar_color": null,
      "description_width": ""
     }
    },
    "23c9ac6aff0448a2a69bf53e98c1b64a": {
     "model_module": "@jupyter-widgets/base",
     "model_module_version": "1.2.0",
     "model_name": "LayoutModel",
     "state": {
      "_model_module": "@jupyter-widgets/base",
      "_model_module_version": "1.2.0",
      "_model_name": "LayoutModel",
      "_view_count": null,
      "_view_module": "@jupyter-widgets/base",
      "_view_module_version": "1.2.0",
      "_view_name": "LayoutView",
      "align_content": null,
      "align_items": null,
      "align_self": null,
      "border": null,
      "bottom": null,
      "display": null,
      "flex": null,
      "flex_flow": null,
      "grid_area": null,
      "grid_auto_columns": null,
      "grid_auto_flow": null,
      "grid_auto_rows": null,
      "grid_column": null,
      "grid_gap": null,
      "grid_row": null,
      "grid_template_areas": null,
      "grid_template_columns": null,
      "grid_template_rows": null,
      "height": null,
      "justify_content": null,
      "justify_items": null,
      "left": null,
      "margin": null,
      "max_height": null,
      "max_width": null,
      "min_height": null,
      "min_width": null,
      "object_fit": null,
      "object_position": null,
      "order": null,
      "overflow": null,
      "overflow_x": null,
      "overflow_y": null,
      "padding": null,
      "right": null,
      "top": null,
      "visibility": null,
      "width": null
     }
    },
    "32a0c7587cf74eeb98287fdf4767f938": {
     "model_module": "@jupyter-widgets/controls",
     "model_module_version": "1.5.0",
     "model_name": "HBoxModel",
     "state": {
      "_dom_classes": [],
      "_model_module": "@jupyter-widgets/controls",
      "_model_module_version": "1.5.0",
      "_model_name": "HBoxModel",
      "_view_count": null,
      "_view_module": "@jupyter-widgets/controls",
      "_view_module_version": "1.5.0",
      "_view_name": "HBoxView",
      "box_style": "",
      "children": [
       "IPY_MODEL_e932cf1b4e484520a4dc4dd6672a7f17",
       "IPY_MODEL_e6dd759dedd84fe3afde7fafadbdc5e6",
       "IPY_MODEL_074323727f34416c895035b6d28e3738"
      ],
      "layout": "IPY_MODEL_43204103508c4482921d3f6bd45fe366"
     }
    },
    "3a331d5960ec443eb8064094c6f9a414": {
     "model_module": "@jupyter-widgets/controls",
     "model_module_version": "1.5.0",
     "model_name": "HTMLModel",
     "state": {
      "_dom_classes": [],
      "_model_module": "@jupyter-widgets/controls",
      "_model_module_version": "1.5.0",
      "_model_name": "HTMLModel",
      "_view_count": null,
      "_view_module": "@jupyter-widgets/controls",
      "_view_module_version": "1.5.0",
      "_view_name": "HTMLView",
      "description": "",
      "description_tooltip": null,
      "layout": "IPY_MODEL_7b131ad046e94d0fa9405998f77117c1",
      "placeholder": "​",
      "style": "IPY_MODEL_719e9bde165b4db9816907ef904a8f67",
      "value": "100%"
     }
    },
    "3c468e9910384933988fb43f15ec7987": {
     "model_module": "@jupyter-widgets/controls",
     "model_module_version": "1.5.0",
     "model_name": "DescriptionStyleModel",
     "state": {
      "_model_module": "@jupyter-widgets/controls",
      "_model_module_version": "1.5.0",
      "_model_name": "DescriptionStyleModel",
      "_view_count": null,
      "_view_module": "@jupyter-widgets/base",
      "_view_module_version": "1.2.0",
      "_view_name": "StyleView",
      "description_width": ""
     }
    },
    "4271f826e55c4fee959a8097d9695e36": {
     "model_module": "@jupyter-widgets/base",
     "model_module_version": "1.2.0",
     "model_name": "LayoutModel",
     "state": {
      "_model_module": "@jupyter-widgets/base",
      "_model_module_version": "1.2.0",
      "_model_name": "LayoutModel",
      "_view_count": null,
      "_view_module": "@jupyter-widgets/base",
      "_view_module_version": "1.2.0",
      "_view_name": "LayoutView",
      "align_content": null,
      "align_items": null,
      "align_self": null,
      "border": null,
      "bottom": null,
      "display": null,
      "flex": null,
      "flex_flow": null,
      "grid_area": null,
      "grid_auto_columns": null,
      "grid_auto_flow": null,
      "grid_auto_rows": null,
      "grid_column": null,
      "grid_gap": null,
      "grid_row": null,
      "grid_template_areas": null,
      "grid_template_columns": null,
      "grid_template_rows": null,
      "height": null,
      "justify_content": null,
      "justify_items": null,
      "left": null,
      "margin": null,
      "max_height": null,
      "max_width": null,
      "min_height": null,
      "min_width": null,
      "object_fit": null,
      "object_position": null,
      "order": null,
      "overflow": null,
      "overflow_x": null,
      "overflow_y": null,
      "padding": null,
      "right": null,
      "top": null,
      "visibility": null,
      "width": null
     }
    },
    "43204103508c4482921d3f6bd45fe366": {
     "model_module": "@jupyter-widgets/base",
     "model_module_version": "1.2.0",
     "model_name": "LayoutModel",
     "state": {
      "_model_module": "@jupyter-widgets/base",
      "_model_module_version": "1.2.0",
      "_model_name": "LayoutModel",
      "_view_count": null,
      "_view_module": "@jupyter-widgets/base",
      "_view_module_version": "1.2.0",
      "_view_name": "LayoutView",
      "align_content": null,
      "align_items": null,
      "align_self": null,
      "border": null,
      "bottom": null,
      "display": null,
      "flex": null,
      "flex_flow": null,
      "grid_area": null,
      "grid_auto_columns": null,
      "grid_auto_flow": null,
      "grid_auto_rows": null,
      "grid_column": null,
      "grid_gap": null,
      "grid_row": null,
      "grid_template_areas": null,
      "grid_template_columns": null,
      "grid_template_rows": null,
      "height": null,
      "justify_content": null,
      "justify_items": null,
      "left": null,
      "margin": null,
      "max_height": null,
      "max_width": null,
      "min_height": null,
      "min_width": null,
      "object_fit": null,
      "object_position": null,
      "order": null,
      "overflow": null,
      "overflow_x": null,
      "overflow_y": null,
      "padding": null,
      "right": null,
      "top": null,
      "visibility": null,
      "width": null
     }
    },
    "46b4809efd1946ac911ccc2999bce65d": {
     "model_module": "@jupyter-widgets/controls",
     "model_module_version": "1.5.0",
     "model_name": "ProgressStyleModel",
     "state": {
      "_model_module": "@jupyter-widgets/controls",
      "_model_module_version": "1.5.0",
      "_model_name": "ProgressStyleModel",
      "_view_count": null,
      "_view_module": "@jupyter-widgets/base",
      "_view_module_version": "1.2.0",
      "_view_name": "StyleView",
      "bar_color": null,
      "description_width": ""
     }
    },
    "4a4aad02b8d24bffa799e6a5fdd4e006": {
     "model_module": "@jupyter-widgets/controls",
     "model_module_version": "1.5.0",
     "model_name": "DescriptionStyleModel",
     "state": {
      "_model_module": "@jupyter-widgets/controls",
      "_model_module_version": "1.5.0",
      "_model_name": "DescriptionStyleModel",
      "_view_count": null,
      "_view_module": "@jupyter-widgets/base",
      "_view_module_version": "1.2.0",
      "_view_name": "StyleView",
      "description_width": ""
     }
    },
    "4bb2db3d2e644c26800558b8cdbc87fd": {
     "model_module": "@jupyter-widgets/controls",
     "model_module_version": "1.5.0",
     "model_name": "HBoxModel",
     "state": {
      "_dom_classes": [],
      "_model_module": "@jupyter-widgets/controls",
      "_model_module_version": "1.5.0",
      "_model_name": "HBoxModel",
      "_view_count": null,
      "_view_module": "@jupyter-widgets/controls",
      "_view_module_version": "1.5.0",
      "_view_name": "HBoxView",
      "box_style": "",
      "children": [
       "IPY_MODEL_3a331d5960ec443eb8064094c6f9a414",
       "IPY_MODEL_a9e479cebc604561a5285a26a9b3cf9c",
       "IPY_MODEL_f94af2ae961249f1a2c6888009162afe"
      ],
      "layout": "IPY_MODEL_505388778fc745549e1be6b4478ada1b"
     }
    },
    "505388778fc745549e1be6b4478ada1b": {
     "model_module": "@jupyter-widgets/base",
     "model_module_version": "1.2.0",
     "model_name": "LayoutModel",
     "state": {
      "_model_module": "@jupyter-widgets/base",
      "_model_module_version": "1.2.0",
      "_model_name": "LayoutModel",
      "_view_count": null,
      "_view_module": "@jupyter-widgets/base",
      "_view_module_version": "1.2.0",
      "_view_name": "LayoutView",
      "align_content": null,
      "align_items": null,
      "align_self": null,
      "border": null,
      "bottom": null,
      "display": null,
      "flex": null,
      "flex_flow": null,
      "grid_area": null,
      "grid_auto_columns": null,
      "grid_auto_flow": null,
      "grid_auto_rows": null,
      "grid_column": null,
      "grid_gap": null,
      "grid_row": null,
      "grid_template_areas": null,
      "grid_template_columns": null,
      "grid_template_rows": null,
      "height": null,
      "justify_content": null,
      "justify_items": null,
      "left": null,
      "margin": null,
      "max_height": null,
      "max_width": null,
      "min_height": null,
      "min_width": null,
      "object_fit": null,
      "object_position": null,
      "order": null,
      "overflow": null,
      "overflow_x": null,
      "overflow_y": null,
      "padding": null,
      "right": null,
      "top": null,
      "visibility": null,
      "width": null
     }
    },
    "719e9bde165b4db9816907ef904a8f67": {
     "model_module": "@jupyter-widgets/controls",
     "model_module_version": "1.5.0",
     "model_name": "DescriptionStyleModel",
     "state": {
      "_model_module": "@jupyter-widgets/controls",
      "_model_module_version": "1.5.0",
      "_model_name": "DescriptionStyleModel",
      "_view_count": null,
      "_view_module": "@jupyter-widgets/base",
      "_view_module_version": "1.2.0",
      "_view_name": "StyleView",
      "description_width": ""
     }
    },
    "758e0c34b07e4c168617e8857e09b8fa": {
     "model_module": "@jupyter-widgets/controls",
     "model_module_version": "1.5.0",
     "model_name": "DescriptionStyleModel",
     "state": {
      "_model_module": "@jupyter-widgets/controls",
      "_model_module_version": "1.5.0",
      "_model_name": "DescriptionStyleModel",
      "_view_count": null,
      "_view_module": "@jupyter-widgets/base",
      "_view_module_version": "1.2.0",
      "_view_name": "StyleView",
      "description_width": ""
     }
    },
    "78b8a851199c421694811a3d2b09d77a": {
     "model_module": "@jupyter-widgets/controls",
     "model_module_version": "1.5.0",
     "model_name": "ProgressStyleModel",
     "state": {
      "_model_module": "@jupyter-widgets/controls",
      "_model_module_version": "1.5.0",
      "_model_name": "ProgressStyleModel",
      "_view_count": null,
      "_view_module": "@jupyter-widgets/base",
      "_view_module_version": "1.2.0",
      "_view_name": "StyleView",
      "bar_color": null,
      "description_width": ""
     }
    },
    "7b131ad046e94d0fa9405998f77117c1": {
     "model_module": "@jupyter-widgets/base",
     "model_module_version": "1.2.0",
     "model_name": "LayoutModel",
     "state": {
      "_model_module": "@jupyter-widgets/base",
      "_model_module_version": "1.2.0",
      "_model_name": "LayoutModel",
      "_view_count": null,
      "_view_module": "@jupyter-widgets/base",
      "_view_module_version": "1.2.0",
      "_view_name": "LayoutView",
      "align_content": null,
      "align_items": null,
      "align_self": null,
      "border": null,
      "bottom": null,
      "display": null,
      "flex": null,
      "flex_flow": null,
      "grid_area": null,
      "grid_auto_columns": null,
      "grid_auto_flow": null,
      "grid_auto_rows": null,
      "grid_column": null,
      "grid_gap": null,
      "grid_row": null,
      "grid_template_areas": null,
      "grid_template_columns": null,
      "grid_template_rows": null,
      "height": null,
      "justify_content": null,
      "justify_items": null,
      "left": null,
      "margin": null,
      "max_height": null,
      "max_width": null,
      "min_height": null,
      "min_width": null,
      "object_fit": null,
      "object_position": null,
      "order": null,
      "overflow": null,
      "overflow_x": null,
      "overflow_y": null,
      "padding": null,
      "right": null,
      "top": null,
      "visibility": null,
      "width": null
     }
    },
    "9597f48902e54c7a9989484bcf6a239d": {
     "model_module": "@jupyter-widgets/base",
     "model_module_version": "1.2.0",
     "model_name": "LayoutModel",
     "state": {
      "_model_module": "@jupyter-widgets/base",
      "_model_module_version": "1.2.0",
      "_model_name": "LayoutModel",
      "_view_count": null,
      "_view_module": "@jupyter-widgets/base",
      "_view_module_version": "1.2.0",
      "_view_name": "LayoutView",
      "align_content": null,
      "align_items": null,
      "align_self": null,
      "border": null,
      "bottom": null,
      "display": null,
      "flex": null,
      "flex_flow": null,
      "grid_area": null,
      "grid_auto_columns": null,
      "grid_auto_flow": null,
      "grid_auto_rows": null,
      "grid_column": null,
      "grid_gap": null,
      "grid_row": null,
      "grid_template_areas": null,
      "grid_template_columns": null,
      "grid_template_rows": null,
      "height": null,
      "justify_content": null,
      "justify_items": null,
      "left": null,
      "margin": null,
      "max_height": null,
      "max_width": null,
      "min_height": null,
      "min_width": null,
      "object_fit": null,
      "object_position": null,
      "order": null,
      "overflow": null,
      "overflow_x": null,
      "overflow_y": null,
      "padding": null,
      "right": null,
      "top": null,
      "visibility": null,
      "width": null
     }
    },
    "97e08226970849feaea2b8c4a2c59162": {
     "model_module": "@jupyter-widgets/controls",
     "model_module_version": "1.5.0",
     "model_name": "DescriptionStyleModel",
     "state": {
      "_model_module": "@jupyter-widgets/controls",
      "_model_module_version": "1.5.0",
      "_model_name": "DescriptionStyleModel",
      "_view_count": null,
      "_view_module": "@jupyter-widgets/base",
      "_view_module_version": "1.2.0",
      "_view_name": "StyleView",
      "description_width": ""
     }
    },
    "9fb6091980f34f1fa8b8a6168760a397": {
     "model_module": "@jupyter-widgets/base",
     "model_module_version": "1.2.0",
     "model_name": "LayoutModel",
     "state": {
      "_model_module": "@jupyter-widgets/base",
      "_model_module_version": "1.2.0",
      "_model_name": "LayoutModel",
      "_view_count": null,
      "_view_module": "@jupyter-widgets/base",
      "_view_module_version": "1.2.0",
      "_view_name": "LayoutView",
      "align_content": null,
      "align_items": null,
      "align_self": null,
      "border": null,
      "bottom": null,
      "display": null,
      "flex": null,
      "flex_flow": null,
      "grid_area": null,
      "grid_auto_columns": null,
      "grid_auto_flow": null,
      "grid_auto_rows": null,
      "grid_column": null,
      "grid_gap": null,
      "grid_row": null,
      "grid_template_areas": null,
      "grid_template_columns": null,
      "grid_template_rows": null,
      "height": null,
      "justify_content": null,
      "justify_items": null,
      "left": null,
      "margin": null,
      "max_height": null,
      "max_width": null,
      "min_height": null,
      "min_width": null,
      "object_fit": null,
      "object_position": null,
      "order": null,
      "overflow": null,
      "overflow_x": null,
      "overflow_y": null,
      "padding": null,
      "right": null,
      "top": null,
      "visibility": null,
      "width": null
     }
    },
    "a0c5367310094e45baa5e4f21daa819a": {
     "model_module": "@jupyter-widgets/controls",
     "model_module_version": "1.5.0",
     "model_name": "DescriptionStyleModel",
     "state": {
      "_model_module": "@jupyter-widgets/controls",
      "_model_module_version": "1.5.0",
      "_model_name": "DescriptionStyleModel",
      "_view_count": null,
      "_view_module": "@jupyter-widgets/base",
      "_view_module_version": "1.2.0",
      "_view_name": "StyleView",
      "description_width": ""
     }
    },
    "a23ac5b3ea2d4bd9950f901288642e51": {
     "model_module": "@jupyter-widgets/base",
     "model_module_version": "1.2.0",
     "model_name": "LayoutModel",
     "state": {
      "_model_module": "@jupyter-widgets/base",
      "_model_module_version": "1.2.0",
      "_model_name": "LayoutModel",
      "_view_count": null,
      "_view_module": "@jupyter-widgets/base",
      "_view_module_version": "1.2.0",
      "_view_name": "LayoutView",
      "align_content": null,
      "align_items": null,
      "align_self": null,
      "border": null,
      "bottom": null,
      "display": null,
      "flex": null,
      "flex_flow": null,
      "grid_area": null,
      "grid_auto_columns": null,
      "grid_auto_flow": null,
      "grid_auto_rows": null,
      "grid_column": null,
      "grid_gap": null,
      "grid_row": null,
      "grid_template_areas": null,
      "grid_template_columns": null,
      "grid_template_rows": null,
      "height": null,
      "justify_content": null,
      "justify_items": null,
      "left": null,
      "margin": null,
      "max_height": null,
      "max_width": null,
      "min_height": null,
      "min_width": null,
      "object_fit": null,
      "object_position": null,
      "order": null,
      "overflow": null,
      "overflow_x": null,
      "overflow_y": null,
      "padding": null,
      "right": null,
      "top": null,
      "visibility": null,
      "width": null
     }
    },
    "a272d658182140b29fe755334af326c0": {
     "model_module": "@jupyter-widgets/base",
     "model_module_version": "1.2.0",
     "model_name": "LayoutModel",
     "state": {
      "_model_module": "@jupyter-widgets/base",
      "_model_module_version": "1.2.0",
      "_model_name": "LayoutModel",
      "_view_count": null,
      "_view_module": "@jupyter-widgets/base",
      "_view_module_version": "1.2.0",
      "_view_name": "LayoutView",
      "align_content": null,
      "align_items": null,
      "align_self": null,
      "border": null,
      "bottom": null,
      "display": null,
      "flex": null,
      "flex_flow": null,
      "grid_area": null,
      "grid_auto_columns": null,
      "grid_auto_flow": null,
      "grid_auto_rows": null,
      "grid_column": null,
      "grid_gap": null,
      "grid_row": null,
      "grid_template_areas": null,
      "grid_template_columns": null,
      "grid_template_rows": null,
      "height": null,
      "justify_content": null,
      "justify_items": null,
      "left": null,
      "margin": null,
      "max_height": null,
      "max_width": null,
      "min_height": null,
      "min_width": null,
      "object_fit": null,
      "object_position": null,
      "order": null,
      "overflow": null,
      "overflow_x": null,
      "overflow_y": null,
      "padding": null,
      "right": null,
      "top": null,
      "visibility": null,
      "width": null
     }
    },
    "a4d602abedbf472ba8443b587b7172a5": {
     "model_module": "@jupyter-widgets/controls",
     "model_module_version": "1.5.0",
     "model_name": "HBoxModel",
     "state": {
      "_dom_classes": [],
      "_model_module": "@jupyter-widgets/controls",
      "_model_module_version": "1.5.0",
      "_model_name": "HBoxModel",
      "_view_count": null,
      "_view_module": "@jupyter-widgets/controls",
      "_view_module_version": "1.5.0",
      "_view_name": "HBoxView",
      "box_style": "",
      "children": [
       "IPY_MODEL_e369973d094144a583efe831a749932e",
       "IPY_MODEL_f185edec20214d4f9174944db636ce7b",
       "IPY_MODEL_05887b1a958f4535938c3a9208b4ebaf"
      ],
      "layout": "IPY_MODEL_a23ac5b3ea2d4bd9950f901288642e51"
     }
    },
    "a9e479cebc604561a5285a26a9b3cf9c": {
     "model_module": "@jupyter-widgets/controls",
     "model_module_version": "1.5.0",
     "model_name": "FloatProgressModel",
     "state": {
      "_dom_classes": [],
      "_model_module": "@jupyter-widgets/controls",
      "_model_module_version": "1.5.0",
      "_model_name": "FloatProgressModel",
      "_view_count": null,
      "_view_module": "@jupyter-widgets/controls",
      "_view_module_version": "1.5.0",
      "_view_name": "ProgressView",
      "bar_style": "success",
      "description": "",
      "description_tooltip": null,
      "layout": "IPY_MODEL_9fb6091980f34f1fa8b8a6168760a397",
      "max": 167502836,
      "min": 0,
      "orientation": "horizontal",
      "style": "IPY_MODEL_46b4809efd1946ac911ccc2999bce65d",
      "value": 167502836
     }
    },
    "c084ae1be8e94b6da09dde8e90362301": {
     "model_module": "@jupyter-widgets/base",
     "model_module_version": "1.2.0",
     "model_name": "LayoutModel",
     "state": {
      "_model_module": "@jupyter-widgets/base",
      "_model_module_version": "1.2.0",
      "_model_name": "LayoutModel",
      "_view_count": null,
      "_view_module": "@jupyter-widgets/base",
      "_view_module_version": "1.2.0",
      "_view_name": "LayoutView",
      "align_content": null,
      "align_items": null,
      "align_self": null,
      "border": null,
      "bottom": null,
      "display": null,
      "flex": null,
      "flex_flow": null,
      "grid_area": null,
      "grid_auto_columns": null,
      "grid_auto_flow": null,
      "grid_auto_rows": null,
      "grid_column": null,
      "grid_gap": null,
      "grid_row": null,
      "grid_template_areas": null,
      "grid_template_columns": null,
      "grid_template_rows": null,
      "height": null,
      "justify_content": null,
      "justify_items": null,
      "left": null,
      "margin": null,
      "max_height": null,
      "max_width": null,
      "min_height": null,
      "min_width": null,
      "object_fit": null,
      "object_position": null,
      "order": null,
      "overflow": null,
      "overflow_x": null,
      "overflow_y": null,
      "padding": null,
      "right": null,
      "top": null,
      "visibility": null,
      "width": null
     }
    },
    "d482f72576e946f59c20fea52f2973c3": {
     "model_module": "@jupyter-widgets/base",
     "model_module_version": "1.2.0",
     "model_name": "LayoutModel",
     "state": {
      "_model_module": "@jupyter-widgets/base",
      "_model_module_version": "1.2.0",
      "_model_name": "LayoutModel",
      "_view_count": null,
      "_view_module": "@jupyter-widgets/base",
      "_view_module_version": "1.2.0",
      "_view_name": "LayoutView",
      "align_content": null,
      "align_items": null,
      "align_self": null,
      "border": null,
      "bottom": null,
      "display": null,
      "flex": null,
      "flex_flow": null,
      "grid_area": null,
      "grid_auto_columns": null,
      "grid_auto_flow": null,
      "grid_auto_rows": null,
      "grid_column": null,
      "grid_gap": null,
      "grid_row": null,
      "grid_template_areas": null,
      "grid_template_columns": null,
      "grid_template_rows": null,
      "height": null,
      "justify_content": null,
      "justify_items": null,
      "left": null,
      "margin": null,
      "max_height": null,
      "max_width": null,
      "min_height": null,
      "min_width": null,
      "object_fit": null,
      "object_position": null,
      "order": null,
      "overflow": null,
      "overflow_x": null,
      "overflow_y": null,
      "padding": null,
      "right": null,
      "top": null,
      "visibility": null,
      "width": null
     }
    },
    "e369973d094144a583efe831a749932e": {
     "model_module": "@jupyter-widgets/controls",
     "model_module_version": "1.5.0",
     "model_name": "HTMLModel",
     "state": {
      "_dom_classes": [],
      "_model_module": "@jupyter-widgets/controls",
      "_model_module_version": "1.5.0",
      "_model_name": "HTMLModel",
      "_view_count": null,
      "_view_module": "@jupyter-widgets/controls",
      "_view_module_version": "1.5.0",
      "_view_name": "HTMLView",
      "description": "",
      "description_tooltip": null,
      "layout": "IPY_MODEL_d482f72576e946f59c20fea52f2973c3",
      "placeholder": "​",
      "style": "IPY_MODEL_a0c5367310094e45baa5e4f21daa819a",
      "value": "100%"
     }
    },
    "e6dd759dedd84fe3afde7fafadbdc5e6": {
     "model_module": "@jupyter-widgets/controls",
     "model_module_version": "1.5.0",
     "model_name": "FloatProgressModel",
     "state": {
      "_dom_classes": [],
      "_model_module": "@jupyter-widgets/controls",
      "_model_module_version": "1.5.0",
      "_model_name": "FloatProgressModel",
      "_view_count": null,
      "_view_module": "@jupyter-widgets/controls",
      "_view_module_version": "1.5.0",
      "_view_name": "ProgressView",
      "bar_style": "success",
      "description": "",
      "description_tooltip": null,
      "layout": "IPY_MODEL_23c9ac6aff0448a2a69bf53e98c1b64a",
      "max": 167502836,
      "min": 0,
      "orientation": "horizontal",
      "style": "IPY_MODEL_1d7e20161e9248e6a41c541517122a17",
      "value": 167502836
     }
    },
    "e932cf1b4e484520a4dc4dd6672a7f17": {
     "model_module": "@jupyter-widgets/controls",
     "model_module_version": "1.5.0",
     "model_name": "HTMLModel",
     "state": {
      "_dom_classes": [],
      "_model_module": "@jupyter-widgets/controls",
      "_model_module_version": "1.5.0",
      "_model_name": "HTMLModel",
      "_view_count": null,
      "_view_module": "@jupyter-widgets/controls",
      "_view_module_version": "1.5.0",
      "_view_name": "HTMLView",
      "description": "",
      "description_tooltip": null,
      "layout": "IPY_MODEL_4271f826e55c4fee959a8097d9695e36",
      "placeholder": "​",
      "style": "IPY_MODEL_97e08226970849feaea2b8c4a2c59162",
      "value": "100%"
     }
    },
    "f185edec20214d4f9174944db636ce7b": {
     "model_module": "@jupyter-widgets/controls",
     "model_module_version": "1.5.0",
     "model_name": "FloatProgressModel",
     "state": {
      "_dom_classes": [],
      "_model_module": "@jupyter-widgets/controls",
      "_model_module_version": "1.5.0",
      "_model_name": "FloatProgressModel",
      "_view_count": null,
      "_view_module": "@jupyter-widgets/controls",
      "_view_module_version": "1.5.0",
      "_view_name": "ProgressView",
      "bar_style": "success",
      "description": "",
      "description_tooltip": null,
      "layout": "IPY_MODEL_f3c586b991004e839c47ee46163195e8",
      "max": 356082095,
      "min": 0,
      "orientation": "horizontal",
      "style": "IPY_MODEL_78b8a851199c421694811a3d2b09d77a",
      "value": 356082095
     }
    },
    "f3c586b991004e839c47ee46163195e8": {
     "model_module": "@jupyter-widgets/base",
     "model_module_version": "1.2.0",
     "model_name": "LayoutModel",
     "state": {
      "_model_module": "@jupyter-widgets/base",
      "_model_module_version": "1.2.0",
      "_model_name": "LayoutModel",
      "_view_count": null,
      "_view_module": "@jupyter-widgets/base",
      "_view_module_version": "1.2.0",
      "_view_name": "LayoutView",
      "align_content": null,
      "align_items": null,
      "align_self": null,
      "border": null,
      "bottom": null,
      "display": null,
      "flex": null,
      "flex_flow": null,
      "grid_area": null,
      "grid_auto_columns": null,
      "grid_auto_flow": null,
      "grid_auto_rows": null,
      "grid_column": null,
      "grid_gap": null,
      "grid_row": null,
      "grid_template_areas": null,
      "grid_template_columns": null,
      "grid_template_rows": null,
      "height": null,
      "justify_content": null,
      "justify_items": null,
      "left": null,
      "margin": null,
      "max_height": null,
      "max_width": null,
      "min_height": null,
      "min_width": null,
      "object_fit": null,
      "object_position": null,
      "order": null,
      "overflow": null,
      "overflow_x": null,
      "overflow_y": null,
      "padding": null,
      "right": null,
      "top": null,
      "visibility": null,
      "width": null
     }
    },
    "f94af2ae961249f1a2c6888009162afe": {
     "model_module": "@jupyter-widgets/controls",
     "model_module_version": "1.5.0",
     "model_name": "HTMLModel",
     "state": {
      "_dom_classes": [],
      "_model_module": "@jupyter-widgets/controls",
      "_model_module_version": "1.5.0",
      "_model_name": "HTMLModel",
      "_view_count": null,
      "_view_module": "@jupyter-widgets/controls",
      "_view_module_version": "1.5.0",
      "_view_name": "HTMLView",
      "description": "",
      "description_tooltip": null,
      "layout": "IPY_MODEL_c084ae1be8e94b6da09dde8e90362301",
      "placeholder": "​",
      "style": "IPY_MODEL_3c468e9910384933988fb43f15ec7987",
      "value": " 160M/160M [00:01&lt;00:00, 121MB/s]"
     }
    }
   }
  }
 },
 "nbformat": 4,
 "nbformat_minor": 4
}
