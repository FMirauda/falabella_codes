{
 "cells": [
  {
   "cell_type": "code",
   "execution_count": 149,
   "id": "e58f04fe",
   "metadata": {},
   "outputs": [],
   "source": [
    "import urllib.request\n",
    "import pandas as pd\n",
    "import numpy as np"
   ]
  },
  {
   "cell_type": "code",
   "execution_count": 2,
   "id": "8fd34bc0",
   "metadata": {},
   "outputs": [],
   "source": [
    "data = pd.read_csv('C:\\\\Users\\\\ext_fantmiraudal\\\\Downloads\\\\new_data\\\\data.csv')"
   ]
  },
  {
   "cell_type": "code",
   "execution_count": 3,
   "id": "7ede142d",
   "metadata": {},
   "outputs": [],
   "source": [
    "# Extractor de imagenes desde data\n",
    "i=808\n",
    "for row in data['image'][i:]:\n",
    "    without_image = row.find('[]')\n",
    "    if without_image == -1:\n",
    "        index1 = row.index('url')\n",
    "        index2 = row.index('png')\n",
    "        image_url = row[(index1+7):(index2+3)]\n",
    "        #blabla\n",
    "        index3 = row.index('/cl-images/')\n",
    "        # setting filename and image URL\n",
    "        #filename = 'C:\\\\Users\\\\ext_fantmiraudal\\\\Downloads\\\\new_data\\\\sample_' + str(i) + '.png'\n",
    "        filename = 'C:\\\\Users\\\\ext_fantmiraudal\\\\Downloads\\\\new_data\\\\' + row[(index3+10):(index2+3)]\n",
    "        # calling urlretrieve function to get resource\n",
    "        urllib.request.urlretrieve(image_url, filename)\n",
    "        i+=1\n",
    "    else:\n",
    "        i+=1    "
   ]
  },
  {
   "cell_type": "code",
   "execution_count": 4,
   "id": "54888594",
   "metadata": {},
   "outputs": [
    {
     "data": {
      "text/plain": [
       "0      {\\n  \"image\": [{\\n    \"url\": \"https://prdadess...\n",
       "1      {\\n  \"image\": [{\\n    \"url\": \"https://prdadess...\n",
       "2      {\\n  \"image\": [{\\n    \"url\": \"https://prdadess...\n",
       "3      {\\n  \"image\": [{\\n    \"url\": \"https://prdadess...\n",
       "4      {\\n  \"image\": [{\\n    \"url\": \"https://prdadess...\n",
       "                             ...                        \n",
       "995    {\\n  \"image\": [{\\n    \"url\": \"https://prdadess...\n",
       "996    {\\n  \"image\": [{\\n    \"url\": \"https://prdadess...\n",
       "997    {\\n  \"image\": [{\\n    \"url\": \"https://prdadess...\n",
       "998    {\\n  \"image\": [{\\n    \"url\": \"https://prdadess...\n",
       "999    {\\n  \"image\": [{\\n    \"url\": \"https://prdadess...\n",
       "Name: image, Length: 1000, dtype: object"
      ]
     },
     "execution_count": 4,
     "metadata": {},
     "output_type": "execute_result"
    }
   ],
   "source": [
    "data['image'][0:]"
   ]
  },
  {
   "cell_type": "code",
   "execution_count": null,
   "id": "24bb7dd6",
   "metadata": {},
   "outputs": [],
   "source": [
    "# Prueba de modelo con dataset\n",
    "df_base = pd.DataFrame(columns = ['url', 'Prob. Producto', 'Producto', 'Prob. Sin rostro cliente',\\\n",
    "                                  'Sin rostro cliente', 'Contexto', 'Prob. Etiqueta producto', 'Etiqueta producto',\\\n",
    "\n",
    "                                  'Prob. Numero domicilio', 'Numero domicilio', 'Score'])\n",
    "\n",
    "jason_path_api= \"clave2\\\\tc-sc-bi-bigdata-corp-tsod-dev-739359c1cf2a.json\"\n",
    "jason_path_automl=\"key\\\\tc-sc-bi-bigdata-corp-tsod-dev-82c15beedd2a.json\"\n",
    "i=0\n",
    "for row in data['image'][i:]:\n",
    "    without_image = row.find('[]')\n",
    "    if without_image == -1:\n",
    "        index1 = row.index('url')\n",
    "        index2 = row.index('png')\n",
    "        image_url = row[(index1+7):(index2+3)]\n",
    "        df1 = pd.DataFrame(columns = ['url'])  \n",
    "        #aplicar modelo que retornara df2\n",
    "        df2 = full_model(image_url,jason_path_api, jason_path_automl)\n",
    "        df3 = pd.concat((df1,df2), axis =1)\n",
    "        df_base = pd.concat((df_base,df3), ignore_index= True)\n",
    "        i+=1\n",
    "    else:\n",
    "        i+=1  \n",
    "        \n",
    "#descargar df_base como excel\n",
    "#se especifica nombre del archivo\n",
    "file_name = 'resultados_modelo.xlsx'\n",
    "  \n",
    "#guardar excel\n",
    "df_base.to_excel(file_name)\n",
    "print('Archivo excel se exportó correctamente')"
   ]
  },
  {
   "cell_type": "code",
   "execution_count": 135,
   "id": "838de022",
   "metadata": {},
   "outputs": [],
   "source": [
    "#importar excel resultados_modelo y etiquetado_manual\n",
    "resultados_modelos = 'resultados_modelo.xlsx'\n",
    "etiquetado = 'etiquetado_manual.xlsx'\n",
    "resultados_modelos = pd.read_excel(resultados_modelos)\n",
    "etiquetado = pd.read_excel(etiquetado)"
   ]
  },
  {
   "cell_type": "code",
   "execution_count": 147,
   "id": "03d1aff7",
   "metadata": {},
   "outputs": [
    {
     "data": {
      "text/plain": [
       "0      0\n",
       "1      1\n",
       "2      1\n",
       "3      1\n",
       "4      1\n",
       "      ..\n",
       "871    0\n",
       "872    0\n",
       "873    0\n",
       "874    1\n",
       "875    1\n",
       "Name: Producto, Length: 876, dtype: int64"
      ]
     },
     "execution_count": 147,
     "metadata": {},
     "output_type": "execute_result"
    }
   ],
   "source": [
    "resultados_modelos['Producto']"
   ]
  },
  {
   "cell_type": "code",
   "execution_count": 152,
   "id": "f4bff6ec",
   "metadata": {},
   "outputs": [],
   "source": [
    "#calculo accuracy modelo para cada criterio menos contexto\n",
    "#crear listas vacias\n",
    "aciertos_producto = np.empty(0)\n",
    "aciertos_sin_rostro = np.empty(0)\n",
    "aciertos_etiqueta = np.empty(0)\n",
    "aciertos_domicilio = np.empty(0)\n",
    "#recorrer archivos excel\n",
    "for indice in resultados_modelos.index:\n",
    "    #restar => los 0 son los aciertos\n",
    "    aciertos_producto = np.append(aciertos_producto, resultados_modelos['Producto'][indice]-etiquetado['Producto'][indice]) \n",
    "    aciertos_sin_rostro = np.append(aciertos_sin_rostro,(1-resultados_modelos['Sin rostro cliente'][indice])-etiquetado['Aparece Rostro'][indice]) \n",
    "    aciertos_etiqueta = np.append(aciertos_etiqueta, resultados_modelos['Etiqueta producto'][indice]-etiquetado['Etiqueta producto'][indice]) \n",
    "    aciertos_domicilio = np.append(aciertos_domicilio, resultados_modelos['Numero domicilio'][indice]-etiquetado['Numero domicilio'][indice])"
   ]
  },
  {
   "cell_type": "code",
   "execution_count": 159,
   "id": "9adea6c2",
   "metadata": {},
   "outputs": [
    {
     "name": "stdout",
     "output_type": "stream",
     "text": [
      "acc. producto:  0.5753424657534246\n",
      "acc. sin_rostro:  0.8287671232876712\n",
      "acc. etiqueta:  0.591324200913242\n",
      "acc. domicilio:  0.7442922374429224\n"
     ]
    }
   ],
   "source": [
    "#accuracies\n",
    "acc_producto = np.count_nonzero(aciertos_producto == 0)/np.shape(aciertos_producto)[0]\n",
    "print('acc. producto: ', acc_producto)\n",
    "acc_sin_rostro = np.count_nonzero(aciertos_sin_rostro == 0)/np.shape(aciertos_sin_rostro)[0]\n",
    "print('acc. sin_rostro: ', acc_sin_rostro)\n",
    "acc_etiqueta = np.count_nonzero(aciertos_etiqueta == 0)/np.shape(aciertos_etiqueta)[0]\n",
    "print('acc. etiqueta: ', acc_etiqueta)\n",
    "acc_domicilio = np.count_nonzero(aciertos_domicilio == 0)/np.shape(aciertos_domicilio)[0]\n",
    "print('acc. domicilio: ', acc_domicilio)"
   ]
  }
 ],
 "metadata": {
  "kernelspec": {
   "display_name": "Python 3 (ipykernel)",
   "language": "python",
   "name": "python3"
  },
  "language_info": {
   "codemirror_mode": {
    "name": "ipython",
    "version": 3
   },
   "file_extension": ".py",
   "mimetype": "text/x-python",
   "name": "python",
   "nbconvert_exporter": "python",
   "pygments_lexer": "ipython3",
   "version": "3.9.7"
  }
 },
 "nbformat": 4,
 "nbformat_minor": 5
}
