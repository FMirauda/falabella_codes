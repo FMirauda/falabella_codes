{
 "cells": [
  {
   "cell_type": "code",
   "execution_count": null,
   "metadata": {
    "colab": {
     "base_uri": "https://localhost:8080/"
    },
    "id": "EZrVW4aHINk-",
    "outputId": "cbabaec1-ead7-4b7a-d9ff-5b808b5d5b17"
   },
   "outputs": [],
   "source": [
    "# Install dependencies\n",
    "#!pip install albumentations==0.4.6\n",
    "!pip install albumentations\n",
    "!pip install pycocotools --quiet\n",
    "\n",
    "# Clone TorchVision repo and copy helper files\n",
    "!git clone https://github.com/pytorch/vision.git\n",
    "%cd vision\n",
    "!git checkout v0.3.0\n",
    "%cd ..\n",
    "!cp vision/references/detection/utils.py ./\n",
    "!cp vision/references/detection/transforms.py ./\n",
    "!cp vision/references/detection/coco_eval.py ./\n",
    "!cp vision/references/detection/engine.py ./\n",
    "!cp vision/references/detection/coco_utils.py ./"
   ]
  },
  {
   "cell_type": "code",
   "execution_count": null,
   "metadata": {
    "id": "ArOJhG0vIUzN"
   },
   "outputs": [],
   "source": [
    "# basic python and ML Libraries\n",
    "import os\n",
    "import random\n",
    "import numpy as np\n",
    "import pandas as pd\n",
    "\n",
    "# for ignoring warnings\n",
    "import warnings\n",
    "warnings.filterwarnings('ignore')\n",
    "\n",
    "# We will be reading images using OpenCV\n",
    "import cv2\n",
    "\n",
    "# matplotlib for visualization\n",
    "import matplotlib.pyplot as plt\n",
    "import matplotlib.patches as patches\n",
    "\n",
    "# torchvision libraries\n",
    "import torch\n",
    "import torchvision\n",
    "from torchvision import transforms as torchtrans  \n",
    "from torchvision.models.detection.faster_rcnn import FastRCNNPredictor\n",
    "\n",
    "# helper libraries\n",
    "from engine import train_one_epoch, evaluate\n",
    "import utils\n",
    "import transforms as T\n",
    "\n",
    "# for image augmentations\n",
    "import albumentations as A\n",
    "from albumentations.pytorch.transforms import ToTensorV2\n"
   ]
  },
  {
   "cell_type": "markdown",
   "metadata": {
    "id": "0NgfMacuWzC5",
    "tags": []
   },
   "source": [
    "### Importar json con etiquetas"
   ]
  },
  {
   "cell_type": "code",
   "execution_count": 27,
   "metadata": {
    "id": "Q1CXWuQYQhT1"
   },
   "outputs": [],
   "source": [
    "# importing the module\n",
    "import json\n",
    " \n",
    "# Opening JSON file\n",
    "with open('/home/jupyter/Falabella/dict_bbox_p123_revisada_cf.json') as json_file:\n",
    "    dict_data = json.load(json_file)"
   ]
  },
  {
   "cell_type": "code",
   "execution_count": 28,
   "metadata": {
    "colab": {
     "base_uri": "https://localhost:8080/"
    },
    "id": "6-VmPXJzTx3N",
    "outputId": "6855f8d5-6e61-4421-f40a-435b999c4bcb"
   },
   "outputs": [
    {
     "data": {
      "text/plain": [
       "13135"
      ]
     },
     "execution_count": 28,
     "metadata": {},
     "output_type": "execute_result"
    }
   ],
   "source": [
    "# revisar\n",
    "len(dict_data)"
   ]
  },
  {
   "cell_type": "markdown",
   "metadata": {
    "id": "8Q1nLycIWvBE",
    "tags": []
   },
   "source": [
    "### Definir clase"
   ]
  },
  {
   "cell_type": "code",
   "execution_count": 29,
   "metadata": {
    "id": "65g9x81gJI4D"
   },
   "outputs": [],
   "source": [
    "from skimage import io\n",
    "class PhotosLabelsDataset_od(torch.utils.data.Dataset):\n",
    "    \"\"\"Photos labels dataset.\"\"\"\n",
    "\n",
    "    def __init__(self, dictionary, root_dir, transforms=None):\n",
    "        \"\"\"\n",
    "        Args:\n",
    "            xlsx_file (string): Path to the xlsx file with annotations.\n",
    "            root_dir (string): Directory with all the images.\n",
    "            transform (callable, optional): Boolean that indicates \n",
    "            a transformation or not.\n",
    "        \"\"\"\n",
    "        self.dict_values = list(dictionary.values())\n",
    "        self.root_dir = root_dir\n",
    "        self.transforms = transforms\n",
    "\n",
    "    def __len__(self):\n",
    "        return len(self.dict_values)\n",
    "\n",
    "    def __getitem__(self, idx):\n",
    "\n",
    "        dict_values = self.dict_values\n",
    "        \n",
    "        # obtener nombre fotografía\n",
    "        img_name = dict_values[idx]['image_id']\n",
    "        image_path = os.path.join(self.root_dir, img_name) \n",
    "        # leer imágen\n",
    "        image =io.imread(image_path)\n",
    "        \n",
    "        # obtener 'boxes'\n",
    "        boxes = dict_values[idx]['boxes']\n",
    "        # calcular numero de 'boxes'\n",
    "        num_box = len(boxes)\n",
    "        # obtener formato adecuado para 'boxes'\n",
    "        if num_box>0:\n",
    "          boxes = torch.as_tensor(boxes, dtype=torch.float32)\n",
    "        else:\n",
    "          #negative example, ref: https://github.com/pytorch/vision/issues/2144\n",
    "          boxes = torch.zeros((0, 4), dtype=torch.float32)\n",
    "\n",
    "        # obtener área de las 'boxes'\n",
    "        area = (boxes[:, 3] - boxes[:, 1]) * (boxes[:, 2] - boxes[:, 0])\n",
    "\n",
    "        # suponer que las instancias no forman aglomeraciones\n",
    "        iscrowd = torch.zeros((num_box,), dtype=torch.int64)\n",
    "\n",
    "        # obtener etiquetas para clase 1\n",
    "        labels = torch.ones((num_box,), dtype=torch.int64)\n",
    "        \n",
    "        # rellenar diccionario de etiquetas 'target'\n",
    "        target = {}\n",
    "        target[\"boxes\"] = boxes\n",
    "        target[\"labels\"] = labels\n",
    "        target[\"area\"] = area\n",
    "        target[\"iscrowd\"] = iscrowd\n",
    "        image_id = torch.tensor([idx])\n",
    "        target[\"image_id\"] = image_id\n",
    "        \n",
    "        # si hay transformaciones, entonces se aplican al conjunto de datos\n",
    "        # correspondientes\n",
    "        if self.transforms:\n",
    "          sample = self.transforms(image = image,\n",
    "                                bboxes = target[\"boxes\"],\n",
    "                                labels = labels)\n",
    "          image = sample['image']\n",
    "          if len(sample['bboxes']) == 0 :\n",
    "            target['boxes'] = torch.zeros((0, 4), dtype=torch.float32)\n",
    "\n",
    "          else:\n",
    "            target['boxes'] = torch.Tensor(sample['bboxes'])\n",
    "          \n",
    "          image = image.float().div(255)\n",
    "        \n",
    "        return image, target"
   ]
  },
  {
   "cell_type": "code",
   "execution_count": 30,
   "metadata": {
    "colab": {
     "base_uri": "https://localhost:8080/"
    },
    "id": "JFnGSiyzYBto",
    "outputId": "78ef58ef-489c-4f5e-db13-4321108f763c"
   },
   "outputs": [
    {
     "name": "stdout",
     "output_type": "stream",
     "text": [
      "Length of dataset: 13135 \n",
      "\n",
      "Image shape: (256, 192, 3)\n",
      "Label example: {'boxes': tensor([[ 38.,  33., 186., 150.],\n",
      "        [ 17., 138., 182., 256.]]), 'labels': tensor([1, 1]), 'area': tensor([17316., 19470.]), 'iscrowd': tensor([0, 0]), 'image_id': tensor([325])}\n"
     ]
    }
   ],
   "source": [
    "# Revisar dataset\n",
    "path_fotografias = '/home/jupyter/Falabella/fotografias12y3'\n",
    "dataset = PhotosLabelsDataset_od(dictionary = dict_data, root_dir = path_fotografias, transforms=None)\n",
    "print('Length of dataset:', len(dataset), '\\n')\n",
    "\n",
    "# Obtener tamaño de imágen cualquiera y el label respectivo\n",
    "img, target = dataset[325]\n",
    "print('Image shape:', img.shape)\n",
    "print('Label example:', target)"
   ]
  },
  {
   "cell_type": "code",
   "execution_count": 31,
   "metadata": {
    "id": "yNJQMoJjIroP"
   },
   "outputs": [],
   "source": [
    "# REFERENCIAR\n",
    "# Function to visualize bounding boxes in the image\n",
    "def plot_img_bbox(img, target):\n",
    "  # plot the image and bboxes\n",
    "  # Bounding boxes are defined as follows: x-min y-min x-max y-max\n",
    "  fig, a = plt.subplots(1,1)\n",
    "  fig.set_size_inches(5,5)\n",
    "  \n",
    "  a.imshow(img)\n",
    "  for box in (target['boxes']):\n",
    "    x, y, width, height  = box[0], box[1], box[2]-box[0], box[3]-box[1]\n",
    "    rect = patches.Rectangle(\n",
    "      (x, y),\n",
    "      width, height,\n",
    "      linewidth = 2,\n",
    "      edgecolor = 'r',\n",
    "      facecolor = 'none'\n",
    "    )\n",
    "    # Draw the bounding box on top of the image\n",
    "    a.add_patch(rect)\n",
    "  \n",
    "  plt.show()"
   ]
  },
  {
   "cell_type": "code",
   "execution_count": 32,
   "metadata": {
    "colab": {
     "base_uri": "https://localhost:8080/",
     "height": 358
    },
    "id": "8xxPFNmDXowa",
    "outputId": "9b0a6a20-7ee8-43fc-bea0-16ea7029e987"
   },
   "outputs": [
    {
     "data": {
      "image/png": "[encoded data removed]",
      "text/plain": [
       "<Figure size 360x360 with 1 Axes>"
      ]
     },
     "metadata": {
      "needs_background": "light"
     },
     "output_type": "display_data"
    },
    {
     "name": "stdout",
     "output_type": "stream",
     "text": [
      "{'boxes': tensor([[ 28., 116.,  92., 164.],\n",
      "        [ 97., 111., 141., 170.]]), 'labels': tensor([1, 1]), 'area': tensor([3072., 2596.]), 'iscrowd': tensor([0, 0]), 'image_id': tensor([9])}\n"
     ]
    }
   ],
   "source": [
    "# mostrar imágen con bbox e imprimir target\n",
    "img, target = dataset[9]\n",
    "plot_img_bbox(img, target)\n",
    "print(target)"
   ]
  },
  {
   "cell_type": "markdown",
   "metadata": {
    "tags": []
   },
   "source": [
    "### Separar data en train y val"
   ]
  },
  {
   "cell_type": "code",
   "execution_count": 33,
   "metadata": {
    "colab": {
     "base_uri": "https://localhost:8080/"
    },
    "id": "0Ncor1hWbhVA",
    "outputId": "f0638b8f-1e8b-42ea-c0b8-c2f18b3b7798"
   },
   "outputs": [
    {
     "name": "stdout",
     "output_type": "stream",
     "text": [
      "train:  10508\n",
      "test:  2627\n"
     ]
    }
   ],
   "source": [
    "# separar diccionario en train y test antes de generar el dataset\n",
    "from sklearn.model_selection import train_test_split\n",
    "\n",
    "rs = 0\n",
    "s = pd.Series(dict_data)\n",
    "train_data , test_data  = [i.to_dict() for i in train_test_split(s, train_size=0.8, random_state=rs)]\n",
    "\n",
    "print('train: ', len(train_data))\n",
    "print('test: ', len(test_data))"
   ]
  },
  {
   "cell_type": "code",
   "execution_count": 34,
   "metadata": {
    "id": "FXLjbfkWeIF_"
   },
   "outputs": [],
   "source": [
    "# función para contabilizar elementos de cada clase\n",
    "def labels_quantity(dic):\n",
    "  positive = 0\n",
    "  negative = 0\n",
    "  for i in dic:\n",
    "    if dic[i]['labels']:\n",
    "      positive+=1\n",
    "    else:\n",
    "      negative+=1\n",
    "  return positive, negative"
   ]
  },
  {
   "cell_type": "code",
   "execution_count": 35,
   "metadata": {
    "colab": {
     "base_uri": "https://localhost:8080/"
    },
    "id": "YAArVBTdfswM",
    "outputId": "e581e1d8-9ca7-4bfc-8793-b74412901a1a"
   },
   "outputs": [
    {
     "name": "stdout",
     "output_type": "stream",
     "text": [
      "p_train:  7946   n_train 2562\n",
      "p_test:  1939   n_test 688\n"
     ]
    }
   ],
   "source": [
    "p_train, n_train = labels_quantity(train_data)\n",
    "p_test, n_test = labels_quantity(test_data)\n",
    "\n",
    "print('p_train: ', p_train, ' ', 'n_train', n_train)\n",
    "print('p_test: ', p_test, ' ', 'n_test', n_test)"
   ]
  },
  {
   "cell_type": "markdown",
   "metadata": {
    "tags": []
   },
   "source": [
    "### Transformaciones"
   ]
  },
  {
   "cell_type": "code",
   "execution_count": 36,
   "metadata": {},
   "outputs": [],
   "source": [
    "# Inicializar transformaciones\n",
    "\n",
    "# normalización para conjunto de validación \n",
    "val_transform = A.Compose(\n",
    "        [\n",
    "         # ToTensorV2 converts image to pytorch tensor without div by 255\n",
    "         ToTensorV2(p=1.0)\n",
    "         ],\n",
    "         bbox_params={'format': 'pascal_voc', 'label_fields': ['labels']}\n",
    "         ) \n",
    "\n",
    "# transformaciones para conjunto de train\n",
    "train_transform_0 = A.Compose(\n",
    "        [\n",
    "            A.Resize (480, 480),\n",
    "         A.HorizontalFlip(0.5),\n",
    "         A.VerticalFlip(0.5),\n",
    "         A.RandomBrightnessContrast(p=0.5),\n",
    "         ToTensorV2(p=1.0)\n",
    "         ],\n",
    "         bbox_params={'format': 'pascal_voc', 'label_fields': ['labels']}\n",
    "         )\n",
    "\n",
    "train_transform_1 = A.Compose(\n",
    "        [\n",
    "            A.Resize (480, 480),\n",
    "            A.RandomCrop(width=432, height=432, p=0.5), # recorte de 90%\n",
    "         A.HorizontalFlip(0.5),\n",
    "         A.VerticalFlip(0.5),\n",
    "         A.RandomBrightnessContrast(p=0.5),\n",
    "         ToTensorV2(p=1.0)\n",
    "         ],\n",
    "         bbox_params={'format': 'pascal_voc', 'label_fields': ['labels']}\n",
    "         )"
   ]
  },
  {
   "cell_type": "markdown",
   "metadata": {},
   "source": [
    "### Dataset con primera configuración de transformación"
   ]
  },
  {
   "cell_type": "code",
   "execution_count": 37,
   "metadata": {
    "id": "ncC4TYqBgTRc"
   },
   "outputs": [],
   "source": [
    "train_transform = train_transform_0\n",
    "path_fotografias = '/home/jupyter/Falabella/fotografias12y3'\n",
    "train_set = PhotosLabelsDataset_od(dictionary = train_data, root_dir = path_fotografias, transforms=train_transform)\n",
    "test_set = PhotosLabelsDataset_od(dictionary = test_data, root_dir = path_fotografias, transforms=val_transform)"
   ]
  },
  {
   "cell_type": "markdown",
   "metadata": {
    "tags": []
   },
   "source": [
    "### Dataset con segunda configuración de transformación"
   ]
  },
  {
   "cell_type": "code",
   "execution_count": 38,
   "metadata": {},
   "outputs": [],
   "source": [
    "# dataset con primera configuración de transformación\n",
    "train_transform = train_transform_1\n",
    "path_fotografias = '/home/jupyter/Falabella/fotografias12y3'\n",
    "train_set = PhotosLabelsDataset_od(dictionary = train_data, root_dir = path_fotografias, transforms=train_transform)\n",
    "test_set = PhotosLabelsDataset_od(dictionary = test_data, root_dir = path_fotografias, transforms=val_transform)"
   ]
  },
  {
   "cell_type": "markdown",
   "metadata": {
    "tags": []
   },
   "source": [
    "### Generar batches de train y val"
   ]
  },
  {
   "cell_type": "code",
   "execution_count": 39,
   "metadata": {
    "id": "7k96R3GTJQzc"
   },
   "outputs": [],
   "source": [
    "trainloader = torch.utils.data.DataLoader(train_set, batch_size=10,\n",
    "                        shuffle=True, num_workers=4, \n",
    "                         collate_fn=utils.collate_fn,)\n",
    "testloader = torch.utils.data.DataLoader(test_set, batch_size=10,\n",
    "                        shuffle=False, num_workers=4, \n",
    "                        collate_fn=utils.collate_fn,)"
   ]
  },
  {
   "cell_type": "markdown",
   "metadata": {
    "tags": []
   },
   "source": [
    "### Función para cargar modelo"
   ]
  },
  {
   "cell_type": "code",
   "execution_count": 40,
   "metadata": {
    "id": "SccDr_SGJViU"
   },
   "outputs": [],
   "source": [
    "# REFERENCIAR!\n",
    "# función de ayuda para cargar modelo\n",
    "def get_object_detection_model(num_classes):\n",
    "  # load a model pre-trained on COCO\n",
    "  model = torchvision.models.detection.fasterrcnn_resnet50_fpn(pretrained=True)\n",
    "  # get number of input features for the classifier\n",
    "  in_features = model.roi_heads.box_predictor.cls_score.in_features\n",
    "  # replace the pre-trained head with a new one\n",
    "  model.roi_heads.box_predictor = FastRCNNPredictor(in_features, num_classes) \n",
    "  return model"
   ]
  },
  {
   "cell_type": "markdown",
   "metadata": {
    "id": "diGKKiKoNl4t",
    "tags": []
   },
   "source": [
    "### Funciones \"eval_forward\" y \"evaluate_loss\" para calcular perdidas\n",
    "Obtenido de https://stackoverflow.com/questions/71288513/how-can-i-determine-validation-loss-for-faster-rcnn-pytorch"
   ]
  },
  {
   "cell_type": "code",
   "execution_count": 41,
   "metadata": {
    "id": "xautwoO1NkYw"
   },
   "outputs": [],
   "source": [
    "from typing import Tuple, List, Dict, Optional\n",
    "import torch\n",
    "from torch import Tensor\n",
    "from collections import OrderedDict\n",
    "from torchvision.models.detection.roi_heads import fastrcnn_loss\n",
    "from torchvision.models.detection.rpn import concat_box_prediction_layers\n",
    "def eval_forward(model, images, targets):\n",
    "    # type: (List[Tensor], Optional[List[Dict[str, Tensor]]]) -> Tuple[Dict[str, Tensor], List[Dict[str, Tensor]]]\n",
    "    \"\"\"\n",
    "    Args:\n",
    "        images (list[Tensor]): images to be processed\n",
    "        targets (list[Dict[str, Tensor]]): ground-truth boxes present in the image (optional)\n",
    "    Returns:\n",
    "        result (list[BoxList] or dict[Tensor]): the output from the model.\n",
    "            It returns list[BoxList] contains additional fields\n",
    "            like `scores`, `labels` and `mask` (for Mask R-CNN models).\n",
    "    \"\"\"\n",
    "    model.eval()\n",
    "\n",
    "    original_image_sizes: List[Tuple[int, int]] = []\n",
    "    for img in images:\n",
    "        val = img.shape[-2:]\n",
    "        assert len(val) == 2\n",
    "        original_image_sizes.append((val[0], val[1]))\n",
    "\n",
    "    images, targets = model.transform(images, targets)\n",
    "\n",
    "    # Check for degenerate boxes\n",
    "    # TODO: Move this to a function\n",
    "    if targets is not None:\n",
    "        for target_idx, target in enumerate(targets):\n",
    "            boxes = target[\"boxes\"]\n",
    "            degenerate_boxes = boxes[:, 2:] <= boxes[:, :2]\n",
    "            if degenerate_boxes.any():\n",
    "                # print the first degenerate box\n",
    "                bb_idx = torch.where(degenerate_boxes.any(dim=1))[0][0]\n",
    "                degen_bb: List[float] = boxes[bb_idx].tolist()\n",
    "                raise ValueError(\n",
    "                    \"All bounding boxes should have positive height and width.\"\n",
    "                    f\" Found invalid box {degen_bb} for target at index {target_idx}.\"\n",
    "                )\n",
    "\n",
    "    features = model.backbone(images.tensors)\n",
    "    if isinstance(features, torch.Tensor):\n",
    "        features = OrderedDict([(\"0\", features)])\n",
    "    model.rpn.training=True\n",
    "    #model.roi_heads.training=True\n",
    "\n",
    "\n",
    "    #####proposals, proposal_losses = model.rpn(images, features, targets)\n",
    "    features_rpn = list(features.values())\n",
    "    objectness, pred_bbox_deltas = model.rpn.head(features_rpn)\n",
    "    anchors = model.rpn.anchor_generator(images, features_rpn)\n",
    "\n",
    "    num_images = len(anchors)\n",
    "    num_anchors_per_level_shape_tensors = [o[0].shape for o in objectness]\n",
    "    num_anchors_per_level = [s[0] * s[1] * s[2] for s in num_anchors_per_level_shape_tensors]\n",
    "    objectness, pred_bbox_deltas = concat_box_prediction_layers(objectness, pred_bbox_deltas)\n",
    "    # apply pred_bbox_deltas to anchors to obtain the decoded proposals\n",
    "    # note that we detach the deltas because Faster R-CNN do not backprop through\n",
    "    # the proposals\n",
    "    proposals = model.rpn.box_coder.decode(pred_bbox_deltas.detach(), anchors)\n",
    "    proposals = proposals.view(num_images, -1, 4)\n",
    "    proposals, scores = model.rpn.filter_proposals(proposals, objectness, images.image_sizes, num_anchors_per_level)\n",
    "\n",
    "    proposal_losses = {}\n",
    "    assert targets is not None\n",
    "    labels, matched_gt_boxes = model.rpn.assign_targets_to_anchors(anchors, targets)\n",
    "    regression_targets = model.rpn.box_coder.encode(matched_gt_boxes, anchors)\n",
    "    loss_objectness, loss_rpn_box_reg = model.rpn.compute_loss(\n",
    "        objectness, pred_bbox_deltas, labels, regression_targets\n",
    "    )\n",
    "    proposal_losses = {\n",
    "        \"loss_objectness\": loss_objectness,\n",
    "        \"loss_rpn_box_reg\": loss_rpn_box_reg,\n",
    "    }\n",
    "\n",
    "    #####detections, detector_losses = model.roi_heads(features, proposals, images.image_sizes, targets)\n",
    "    image_shapes = images.image_sizes\n",
    "    proposals, matched_idxs, labels, regression_targets = model.roi_heads.select_training_samples(proposals, targets)\n",
    "    box_features = model.roi_heads.box_roi_pool(features, proposals, image_shapes)\n",
    "    box_features = model.roi_heads.box_head(box_features)\n",
    "    class_logits, box_regression = model.roi_heads.box_predictor(box_features)\n",
    "\n",
    "    result: List[Dict[str, torch.Tensor]] = []\n",
    "    detector_losses = {}\n",
    "    loss_classifier, loss_box_reg = fastrcnn_loss(class_logits, box_regression, labels, regression_targets)\n",
    "    detector_losses = {\"loss_classifier\": loss_classifier, \"loss_box_reg\": loss_box_reg}\n",
    "    boxes, scores, labels = model.roi_heads.postprocess_detections(class_logits, box_regression, proposals, image_shapes)\n",
    "    num_images = len(boxes)\n",
    "    for i in range(num_images):\n",
    "        result.append(\n",
    "            {\n",
    "                \"boxes\": boxes[i],\n",
    "                \"labels\": labels[i],\n",
    "                \"scores\": scores[i],\n",
    "            }\n",
    "        )\n",
    "    detections = result\n",
    "    detections = model.transform.postprocess(detections, images.image_sizes, original_image_sizes)  # type: ignore[operator]\n",
    "    model.rpn.training=False\n",
    "    model.roi_heads.training=False\n",
    "    losses = {}\n",
    "    losses.update(detector_losses)\n",
    "    losses.update(proposal_losses)\n",
    "    return losses, detections"
   ]
  },
  {
   "cell_type": "code",
   "execution_count": 42,
   "metadata": {
    "id": "ErTrsqKrOBb_"
   },
   "outputs": [],
   "source": [
    "#I determine validation loss by looking at the losses dictionary, \n",
    "#sum all of these losses, and at the end average them by the length of the dataloader\n",
    "def evaluate_loss(model, data_loader, device):\n",
    "    val_loss = 0\n",
    "    with torch.no_grad():\n",
    "      for images, targets in data_loader:\n",
    "          images = list(image.to(device) for image in images)\n",
    "          targets = [{k: v.to(device) for k, v in t.items()} for t in targets]\n",
    "          losses_dict, detections = eval_forward(model, images, targets)\n",
    "         \n",
    "          losses = sum(loss for loss in losses_dict.values())\n",
    "\n",
    "          val_loss += losses\n",
    "          \n",
    "    validation_loss = val_loss/ len(data_loader)    \n",
    "    return validation_loss"
   ]
  },
  {
   "cell_type": "markdown",
   "metadata": {
    "id": "9-JA1FGvNvDx",
    "tags": []
   },
   "source": [
    "## Entrenamiento"
   ]
  },
  {
   "cell_type": "markdown",
   "metadata": {
    "tags": []
   },
   "source": [
    "### Función de entrenamiento con early stop"
   ]
  },
  {
   "cell_type": "code",
   "execution_count": 44,
   "metadata": {},
   "outputs": [],
   "source": [
    "def train_early_stop(name, num_epochs, epochs_limit, model, optimizer, \\\n",
    "                     trainloader, testloader, device, model_path, \\\n",
    "                     print_freq = 100):\n",
    "    \"\"\"\n",
    "    Args:\n",
    "        name (str): nombre del modelo\n",
    "        num_epochs (int): numero de épocas de entrenamiento\n",
    "        epochs_limit (int): límite de épocas para detener early stopping\n",
    "        model: modelo\n",
    "        optimizer: optimizador\n",
    "        trinloader: batches de entrenamiento\n",
    "        tesloader: batches de validación\n",
    "        device (str): dispositivo en el cual entrenar\n",
    "        model_path (str): ubicación en donde se guardarán parámetros del modelo\n",
    "        print_freq: numero de batches para imprimir info.\n",
    "          \n",
    "    Returns:\n",
    "       model_dict (dict): toda la info. del modelo entrenado    \n",
    "    \"\"\"\n",
    "    # mover modelo al dispositivo \n",
    "    model.to(device)\n",
    "    # inicializar pérdida de validación inicial\n",
    "    validation_loss_ini = 1000\n",
    "    # inicializar listas para almacenar pérdidas (train y val)\n",
    "    train_losses = []\n",
    "    val_losses = []\n",
    "    # inicializar variable epochs\n",
    "    epochs = 0\n",
    "    # inicializar diccionario evaluation_dic\n",
    "    evaluation_dic = {}\n",
    "    for epoch in range(num_epochs):\n",
    "        # entrenamiento por epoca\n",
    "        train_one_epoch(model, optimizer, trainloader, device, epoch, print_freq)\n",
    "        # actualizar learning rate\n",
    "        lr_scheduler.step()\n",
    "    \n",
    "        # función para calcular pérdidas de entrenamiento y validación\n",
    "        training_loss = evaluate_loss(model, trainloader, device=device)\n",
    "        # guardar pérdida de entrenamiento en lista\n",
    "        train_losses.append(training_loss)\n",
    "        print('training_loss:', training_loss)\n",
    "    \n",
    "        validation_loss  = evaluate_loss(model, testloader, device=device)\n",
    "        # guardar perdida de validación en lista\n",
    "        val_losses.append(validation_loss)\n",
    "        print('validation_loss:', validation_loss) \n",
    "    \n",
    "        # Early stopping\n",
    "        \n",
    "        # si pérdida de validación es menor a la mínima pérdida de validación\n",
    "        # obtenida hasta el momento, se guarda el modelo\n",
    "        if validation_loss < validation_loss_ini:\n",
    "          # se guarda el modelo\n",
    "          torch.save({\n",
    "              'train_losses': train_losses,\n",
    "              'val_losses': val_losses,\n",
    "                'epoch': epoch,\n",
    "                'model_state_dict': model.state_dict(),\n",
    "                'optimizer_state_dict': optimizer.state_dict(),\n",
    "                'validation loss': validation_loss,\n",
    "                }, model_path)\n",
    "          # se actualiza validation_loss\n",
    "          validation_loss_ini = validation_loss\n",
    "          # se actualiza variable epochs\n",
    "          epochs = 0\n",
    "        \n",
    "        # si pérdida de validación es mayor o igual a la mínima pérdida de validación\n",
    "        # obtenida hasta el momento y además, las epocas son menor al límite de epocas\n",
    "        # propuesto, entonces se actualiza variable epochs\n",
    "        elif validation_loss >= validation_loss_ini and epochs < epochs_limit:\n",
    "          # se actualiza variable epochs  \n",
    "          epochs += 1\n",
    "    \n",
    "        else:\n",
    "          # se termina entrenamiento\n",
    "          break\n",
    "        \n",
    "        # evaluar métricas en el test \n",
    "        evaluation = evaluate(model, testloader, device=device)\n",
    "        key = 'epoch_' + str(epoch)\n",
    "        evaluation_dic[key] = evaluation\n",
    "        \n",
    "    # actualizar diccionario con todas las pérdidas (train y val) \n",
    "    model_dict = torch.load(model_path)\n",
    "    model_dict['name'] = name\n",
    "    model_dict['train_losses'] = train_losses\n",
    "    model_dict['val_losses'] = val_losses\n",
    "    model_dict['evaluation_dic'] = evaluation_dic\n",
    "    \n",
    "    torch.save(model_dict, model_path)\n",
    "    \n",
    "    print('Finished Training')\n",
    "    \n",
    "    return model_dict"
   ]
  },
  {
   "cell_type": "markdown",
   "metadata": {
    "tags": []
   },
   "source": [
    "### Función de entrenamiento con todo el dataset"
   ]
  },
  {
   "cell_type": "code",
   "execution_count": 45,
   "metadata": {},
   "outputs": [],
   "source": [
    "def train_all_set(name, num_epochs, model, optimizer, \\\n",
    "                     dataloader, device, model_path, \\\n",
    "                  print_freq = 100):\n",
    "    \"\"\"\n",
    "    Args:\n",
    "        name (str): nombre del modelo\n",
    "        num_epochs (int): numero de épocas de entrenamiento\n",
    "        model: modelo\n",
    "        optimizer: optimizador\n",
    "        trinloader: batches de entrenamiento\n",
    "        tesloader: batches de validación\n",
    "        device (str): dispositivo en el cual entrenar\n",
    "        model_path (str): ubicación en donde se guardarán parámetros del modelo\n",
    "        print_freq: numero de batches para imprimir info.\n",
    "          \n",
    "    Returns:\n",
    "       model_dict (dict): toda la info. del modelo entrenado    \n",
    "    \"\"\"\n",
    "    # mover modelo al dispositivo \n",
    "    model.to(device)\n",
    "    for epoch in range(num_epochs):\n",
    "        # entrenamiento por epoca\n",
    "        train_one_epoch(model, optimizer, dataloader, device, epoch, print_freq)\n",
    "        # actualizar learning rate\n",
    "        lr_scheduler.step()\n",
    "    \n",
    "    # se guarda el modelo\n",
    "    torch.save({'model_state_dict': model.state_dict(),\n",
    "                'optimizer_state_dict': optimizer.state_dict(),\n",
    "                }, model_path)\n",
    "    \n",
    "    # cargar modelo\n",
    "    model_dict = torch.load(model_path)\n",
    "    model_dict['name'] = name\n",
    "    \n",
    "    torch.save(model_dict, model_path)\n",
    "    \n",
    "    print('Finished Training')\n",
    "    \n",
    "    return model_dict"
   ]
  },
  {
   "cell_type": "markdown",
   "metadata": {
    "tags": []
   },
   "source": [
    "### Entrenar modelo con early stopping"
   ]
  },
  {
   "cell_type": "code",
   "execution_count": 46,
   "metadata": {
    "id": "jzUD_RzDJV-r"
   },
   "outputs": [],
   "source": [
    "# entrenar en gpu si es posible\n",
    "device = torch.device('cuda') if torch.cuda.is_available() else torch.device('cpu')\n",
    "\n",
    "# definir numero de clases\n",
    "num_classes = 2 # one class (class 0) is dedicated to the \"background\"\n",
    "\n",
    "# obtener modelo mediante función de ayuda\n",
    "model = get_object_detection_model(num_classes)\n",
    "\n",
    "# optimizador\n",
    "params = [p for p in model.parameters() if p.requires_grad]\n",
    "optimizer = torch.optim.SGD(params, lr=0.005, momentum=0.9, weight_decay=0.0005)\n",
    "\n",
    "# se define un learning rate scheduler que decrementa el learning rate por \n",
    "# 10x cada 3 epocas -> ej: 0.005 si epoca < 3, 0.0005 si 3 <= epoca < 6, etc\n",
    "lr_scheduler = torch.optim.lr_scheduler.StepLR(\n",
    "  optimizer,\n",
    "  step_size=3,\n",
    "  gamma=0.1\n",
    ")"
   ]
  },
  {
   "cell_type": "code",
   "execution_count": null,
   "metadata": {},
   "outputs": [
    {
     "name": "stdout",
     "output_type": "stream",
     "text": [
      "Epoch: [0]  [   0/1051]  eta: 0:42:29  lr: 0.000010  loss: 0.7590 (0.7590)  loss_classifier: 0.6468 (0.6468)  loss_box_reg: 0.0971 (0.0971)  loss_objectness: 0.0108 (0.0108)  loss_rpn_box_reg: 0.0043 (0.0043)  time: 2.4256  data: 0.5423  max mem: 10315\n",
      "Epoch: [0]  [ 100/1051]  eta: 0:31:12  lr: 0.000509  loss: 0.1813 (0.3015)  loss_classifier: 0.0642 (0.1698)  loss_box_reg: 0.1092 (0.1160)  loss_objectness: 0.0056 (0.0104)  loss_rpn_box_reg: 0.0043 (0.0053)  time: 2.0359  data: 0.0217  max mem: 10315\n",
      "Epoch: [0]  [ 200/1051]  eta: 0:28:44  lr: 0.001009  loss: 0.1575 (0.2415)  loss_classifier: 0.0500 (0.1130)  loss_box_reg: 0.0946 (0.1093)  loss_objectness: 0.0042 (0.0139)  loss_rpn_box_reg: 0.0043 (0.0053)  time: 2.0935  data: 0.0203  max mem: 10315\n",
      "Epoch: [0]  [ 300/1051]  eta: 0:25:38  lr: 0.001508  loss: 0.0865 (0.1995)  loss_classifier: 0.0297 (0.0889)  loss_box_reg: 0.0506 (0.0937)  loss_objectness: 0.0028 (0.0120)  loss_rpn_box_reg: 0.0035 (0.0049)  time: 2.1002  data: 0.0225  max mem: 10315\n",
      "Epoch: [0]  [ 400/1051]  eta: 0:22:21  lr: 0.002008  loss: 0.0654 (0.1750)  loss_classifier: 0.0308 (0.0755)  loss_box_reg: 0.0299 (0.0821)  loss_objectness: 0.0027 (0.0125)  loss_rpn_box_reg: 0.0026 (0.0048)  time: 2.0925  data: 0.0191  max mem: 10315\n",
      "Epoch: [0]  [ 500/1051]  eta: 0:18:58  lr: 0.002507  loss: 0.0714 (0.1575)  loss_classifier: 0.0256 (0.0671)  loss_box_reg: 0.0389 (0.0745)  loss_objectness: 0.0034 (0.0114)  loss_rpn_box_reg: 0.0024 (0.0045)  time: 2.0855  data: 0.0200  max mem: 10315\n",
      "Epoch: [0]  [ 600/1051]  eta: 0:15:33  lr: 0.003007  loss: 0.0735 (0.1455)  loss_classifier: 0.0276 (0.0611)  loss_box_reg: 0.0376 (0.0690)  loss_objectness: 0.0030 (0.0110)  loss_rpn_box_reg: 0.0024 (0.0045)  time: 2.0965  data: 0.0207  max mem: 10315\n",
      "Epoch: [0]  [ 700/1051]  eta: 0:12:08  lr: 0.003506  loss: 0.0628 (0.1353)  loss_classifier: 0.0243 (0.0565)  loss_box_reg: 0.0328 (0.0644)  loss_objectness: 0.0020 (0.0101)  loss_rpn_box_reg: 0.0027 (0.0043)  time: 2.0956  data: 0.0198  max mem: 10315\n",
      "Epoch: [0]  [ 800/1051]  eta: 0:08:41  lr: 0.004006  loss: 0.0544 (0.1288)  loss_classifier: 0.0207 (0.0529)  loss_box_reg: 0.0275 (0.0609)  loss_objectness: 0.0038 (0.0105)  loss_rpn_box_reg: 0.0030 (0.0046)  time: 2.0958  data: 0.0216  max mem: 10315\n",
      "Epoch: [0]  [ 900/1051]  eta: 0:05:13  lr: 0.004505  loss: 0.0666 (0.1224)  loss_classifier: 0.0255 (0.0500)  loss_box_reg: 0.0353 (0.0581)  loss_objectness: 0.0030 (0.0099)  loss_rpn_box_reg: 0.0023 (0.0044)  time: 2.0990  data: 0.0204  max mem: 10315\n",
      "Epoch: [0]  [1000/1051]  eta: 0:01:46  lr: 0.005000  loss: 0.0669 (0.1173)  loss_classifier: 0.0246 (0.0477)  loss_box_reg: 0.0328 (0.0559)  loss_objectness: 0.0026 (0.0094)  loss_rpn_box_reg: 0.0027 (0.0043)  time: 2.0944  data: 0.0194  max mem: 10315\n",
      "Epoch: [0]  [1050/1051]  eta: 0:00:02  lr: 0.005000  loss: 0.0517 (0.1149)  loss_classifier: 0.0212 (0.0466)  loss_box_reg: 0.0236 (0.0549)  loss_objectness: 0.0020 (0.0091)  loss_rpn_box_reg: 0.0023 (0.0042)  time: 2.0742  data: 0.0196  max mem: 10315\n",
      "Epoch: [0] Total time: 0:36:27 (2.0817 s / it)\n",
      "training_loss: tensor(0.0720, device='cuda:0')\n",
      "validation_loss: tensor(0.0772, device='cuda:0')\n",
      "creating index...\n",
      "index created!\n",
      "Test:  [  0/263]  eta: 0:08:03  model_time: 1.4710 (1.4710)  evaluator_time: 0.0067 (0.0067)  time: 1.8368  data: 0.3542  max mem: 10315\n",
      "Test:  [100/263]  eta: 0:04:35  model_time: 1.8492 (1.6615)  evaluator_time: 0.0055 (0.0055)  time: 1.7273  data: 0.0174  max mem: 10315\n",
      "Test:  [200/263]  eta: 0:01:47  model_time: 1.8560 (1.6782)  evaluator_time: 0.0052 (0.0055)  time: 1.7883  data: 0.0186  max mem: 10315\n",
      "Test:  [262/263]  eta: 0:00:01  model_time: 1.4915 (1.6873)  evaluator_time: 0.0050 (0.0055)  time: 1.6773  data: 0.0162  max mem: 10315\n",
      "Test: Total time: 0:07:31 (1.7160 s / it)\n",
      "Averaged stats: model_time: 1.4915 (1.6873)  evaluator_time: 0.0050 (0.0055)\n",
      "Accumulating evaluation results...\n",
      "DONE (t=0.26s).\n",
      "IoU metric: bbox\n",
      " Average Precision  (AP) @[ IoU=0.50:0.95 | area=   all | maxDets=100 ] = 0.666\n",
      " Average Precision  (AP) @[ IoU=0.50      | area=   all | maxDets=100 ] = 0.893\n",
      " Average Precision  (AP) @[ IoU=0.75      | area=   all | maxDets=100 ] = 0.770\n",
      " Average Precision  (AP) @[ IoU=0.50:0.95 | area= small | maxDets=100 ] = 0.071\n",
      " Average Precision  (AP) @[ IoU=0.50:0.95 | area=medium | maxDets=100 ] = 0.555\n",
      " Average Precision  (AP) @[ IoU=0.50:0.95 | area= large | maxDets=100 ] = 0.740\n",
      " Average Recall     (AR) @[ IoU=0.50:0.95 | area=   all | maxDets=  1 ] = 0.653\n",
      " Average Recall     (AR) @[ IoU=0.50:0.95 | area=   all | maxDets= 10 ] = 0.744\n",
      " Average Recall     (AR) @[ IoU=0.50:0.95 | area=   all | maxDets=100 ] = 0.745\n",
      " Average Recall     (AR) @[ IoU=0.50:0.95 | area= small | maxDets=100 ] = 0.313\n",
      " Average Recall     (AR) @[ IoU=0.50:0.95 | area=medium | maxDets=100 ] = 0.678\n",
      " Average Recall     (AR) @[ IoU=0.50:0.95 | area= large | maxDets=100 ] = 0.801\n",
      "Epoch: [1]  [   0/1051]  eta: 0:46:04  lr: 0.005000  loss: 0.0596 (0.0596)  loss_classifier: 0.0211 (0.0211)  loss_box_reg: 0.0340 (0.0340)  loss_objectness: 0.0018 (0.0018)  loss_rpn_box_reg: 0.0027 (0.0027)  time: 2.6304  data: 0.5540  max mem: 10315\n",
      "Epoch: [1]  [ 100/1051]  eta: 0:33:17  lr: 0.005000  loss: 0.0629 (0.0632)  loss_classifier: 0.0227 (0.0245)  loss_box_reg: 0.0326 (0.0323)  loss_objectness: 0.0018 (0.0038)  loss_rpn_box_reg: 0.0021 (0.0027)  time: 2.0931  data: 0.0213  max mem: 10315\n",
      "Epoch: [1]  [ 200/1051]  eta: 0:29:43  lr: 0.005000  loss: 0.0603 (0.0633)  loss_classifier: 0.0209 (0.0235)  loss_box_reg: 0.0319 (0.0327)  loss_objectness: 0.0020 (0.0042)  loss_rpn_box_reg: 0.0019 (0.0029)  time: 2.0922  data: 0.0214  max mem: 10315\n",
      "Epoch: [1]  [ 300/1051]  eta: 0:26:12  lr: 0.005000  loss: 0.0587 (0.0680)  loss_classifier: 0.0214 (0.0246)  loss_box_reg: 0.0315 (0.0340)  loss_objectness: 0.0038 (0.0054)  loss_rpn_box_reg: 0.0025 (0.0040)  time: 2.0938  data: 0.0188  max mem: 10315\n",
      "Epoch: [1]  [ 400/1051]  eta: 0:22:40  lr: 0.005000  loss: 0.0489 (0.0680)  loss_classifier: 0.0188 (0.0244)  loss_box_reg: 0.0253 (0.0333)  loss_objectness: 0.0023 (0.0064)  loss_rpn_box_reg: 0.0023 (0.0040)  time: 2.0841  data: 0.0208  max mem: 10315\n",
      "Epoch: [1]  [ 500/1051]  eta: 0:19:11  lr: 0.005000  loss: 0.0513 (0.0675)  loss_classifier: 0.0197 (0.0244)  loss_box_reg: 0.0255 (0.0329)  loss_objectness: 0.0028 (0.0064)  loss_rpn_box_reg: 0.0020 (0.0038)  time: 2.0823  data: 0.0186  max mem: 10315\n",
      "Epoch: [1]  [ 600/1051]  eta: 0:15:41  lr: 0.005000  loss: 0.0478 (0.0684)  loss_classifier: 0.0172 (0.0245)  loss_box_reg: 0.0262 (0.0332)  loss_objectness: 0.0020 (0.0068)  loss_rpn_box_reg: 0.0023 (0.0040)  time: 2.0799  data: 0.0216  max mem: 10315\n",
      "Epoch: [1]  [ 700/1051]  eta: 0:12:12  lr: 0.005000  loss: 0.0416 (0.0673)  loss_classifier: 0.0145 (0.0243)  loss_box_reg: 0.0243 (0.0330)  loss_objectness: 0.0011 (0.0063)  loss_rpn_box_reg: 0.0017 (0.0038)  time: 2.0848  data: 0.0199  max mem: 10315\n",
      "Epoch: [1]  [ 800/1051]  eta: 0:08:44  lr: 0.005000  loss: 0.0552 (0.0666)  loss_classifier: 0.0218 (0.0242)  loss_box_reg: 0.0335 (0.0328)  loss_objectness: 0.0025 (0.0059)  loss_rpn_box_reg: 0.0024 (0.0037)  time: 2.0931  data: 0.0203  max mem: 10315\n",
      "Epoch: [1]  [ 900/1051]  eta: 0:05:15  lr: 0.005000  loss: 0.0657 (0.0665)  loss_classifier: 0.0242 (0.0242)  loss_box_reg: 0.0342 (0.0327)  loss_objectness: 0.0025 (0.0060)  loss_rpn_box_reg: 0.0026 (0.0036)  time: 2.1007  data: 0.0237  max mem: 10315\n",
      "Epoch: [1]  [1000/1051]  eta: 0:01:46  lr: 0.005000  loss: 0.0495 (0.0658)  loss_classifier: 0.0173 (0.0241)  loss_box_reg: 0.0257 (0.0324)  loss_objectness: 0.0039 (0.0057)  loss_rpn_box_reg: 0.0019 (0.0035)  time: 2.0958  data: 0.0202  max mem: 10315\n",
      "Epoch: [1]  [1050/1051]  eta: 0:00:02  lr: 0.005000  loss: 0.0525 (0.0656)  loss_classifier: 0.0209 (0.0240)  loss_box_reg: 0.0275 (0.0324)  loss_objectness: 0.0024 (0.0056)  loss_rpn_box_reg: 0.0025 (0.0035)  time: 2.0708  data: 0.0191  max mem: 10315\n",
      "Epoch: [1] Total time: 0:36:35 (2.0887 s / it)\n",
      "training_loss: tensor(0.0611, device='cuda:0')\n",
      "validation_loss: tensor(0.0727, device='cuda:0')\n",
      "creating index...\n",
      "index created!\n",
      "Test:  [  0/263]  eta: 0:07:55  model_time: 1.4592 (1.4592)  evaluator_time: 0.0094 (0.0094)  time: 1.8073  data: 0.3337  max mem: 10315\n",
      "Test:  [100/263]  eta: 0:04:36  model_time: 1.8514 (1.6679)  evaluator_time: 0.0052 (0.0054)  time: 1.7266  data: 0.0178  max mem: 10315\n",
      "Test:  [200/263]  eta: 0:01:47  model_time: 1.8542 (1.6810)  evaluator_time: 0.0051 (0.0054)  time: 1.7912  data: 0.0174  max mem: 10315\n",
      "Test:  [262/263]  eta: 0:00:01  model_time: 1.4980 (1.6889)  evaluator_time: 0.0050 (0.0053)  time: 1.6758  data: 0.0179  max mem: 10315\n",
      "Test: Total time: 0:07:31 (1.7166 s / it)\n",
      "Averaged stats: model_time: 1.4980 (1.6889)  evaluator_time: 0.0050 (0.0053)\n",
      "Accumulating evaluation results...\n",
      "DONE (t=0.26s).\n",
      "IoU metric: bbox\n",
      " Average Precision  (AP) @[ IoU=0.50:0.95 | area=   all | maxDets=100 ] = 0.686\n",
      " Average Precision  (AP) @[ IoU=0.50      | area=   all | maxDets=100 ] = 0.901\n",
      " Average Precision  (AP) @[ IoU=0.75      | area=   all | maxDets=100 ] = 0.787\n",
      " Average Precision  (AP) @[ IoU=0.50:0.95 | area= small | maxDets=100 ] = 0.135\n",
      " Average Precision  (AP) @[ IoU=0.50:0.95 | area=medium | maxDets=100 ] = 0.575\n",
      " Average Precision  (AP) @[ IoU=0.50:0.95 | area= large | maxDets=100 ] = 0.758\n",
      " Average Recall     (AR) @[ IoU=0.50:0.95 | area=   all | maxDets=  1 ] = 0.667\n",
      " Average Recall     (AR) @[ IoU=0.50:0.95 | area=   all | maxDets= 10 ] = 0.762\n",
      " Average Recall     (AR) @[ IoU=0.50:0.95 | area=   all | maxDets=100 ] = 0.763\n",
      " Average Recall     (AR) @[ IoU=0.50:0.95 | area= small | maxDets=100 ] = 0.375\n",
      " Average Recall     (AR) @[ IoU=0.50:0.95 | area=medium | maxDets=100 ] = 0.701\n",
      " Average Recall     (AR) @[ IoU=0.50:0.95 | area= large | maxDets=100 ] = 0.815\n",
      "Epoch: [2]  [   0/1051]  eta: 0:45:18  lr: 0.005000  loss: 0.0802 (0.0802)  loss_classifier: 0.0291 (0.0291)  loss_box_reg: 0.0446 (0.0446)  loss_objectness: 0.0041 (0.0041)  loss_rpn_box_reg: 0.0024 (0.0024)  time: 2.5866  data: 0.5055  max mem: 10315\n",
      "Epoch: [2]  [ 100/1051]  eta: 0:33:16  lr: 0.005000  loss: 0.0541 (0.0668)  loss_classifier: 0.0211 (0.0230)  loss_box_reg: 0.0305 (0.0320)  loss_objectness: 0.0025 (0.0061)  loss_rpn_box_reg: 0.0026 (0.0058)  time: 2.0979  data: 0.0205  max mem: 10315\n",
      "Epoch: [2]  [ 200/1051]  eta: 0:29:42  lr: 0.005000  loss: 0.0491 (0.0612)  loss_classifier: 0.0218 (0.0219)  loss_box_reg: 0.0251 (0.0305)  loss_objectness: 0.0022 (0.0046)  loss_rpn_box_reg: 0.0022 (0.0043)  time: 2.0901  data: 0.0183  max mem: 10315\n",
      "Epoch: [2]  [ 300/1051]  eta: 0:26:12  lr: 0.005000  loss: 0.0459 (0.0583)  loss_classifier: 0.0181 (0.0213)  loss_box_reg: 0.0237 (0.0294)  loss_objectness: 0.0021 (0.0039)  loss_rpn_box_reg: 0.0023 (0.0037)  time: 2.0961  data: 0.0213  max mem: 10315\n",
      "Epoch: [2]  [ 400/1051]  eta: 0:22:42  lr: 0.005000  loss: 0.0668 (0.0582)  loss_classifier: 0.0221 (0.0213)  loss_box_reg: 0.0351 (0.0295)  loss_objectness: 0.0024 (0.0038)  loss_rpn_box_reg: 0.0024 (0.0035)  time: 2.0866  data: 0.0195  max mem: 10315\n",
      "Epoch: [2]  [ 500/1051]  eta: 0:19:13  lr: 0.005000  loss: 0.0434 (0.0589)  loss_classifier: 0.0150 (0.0214)  loss_box_reg: 0.0214 (0.0294)  loss_objectness: 0.0034 (0.0045)  loss_rpn_box_reg: 0.0020 (0.0036)  time: 2.0995  data: 0.0213  max mem: 10315\n",
      "Epoch: [2]  [ 600/1051]  eta: 0:15:43  lr: 0.005000  loss: 0.0765 (0.0590)  loss_classifier: 0.0286 (0.0215)  loss_box_reg: 0.0401 (0.0297)  loss_objectness: 0.0026 (0.0044)  loss_rpn_box_reg: 0.0033 (0.0035)  time: 2.0918  data: 0.0210  max mem: 10315\n",
      "Epoch: [2]  [ 700/1051]  eta: 0:12:14  lr: 0.005000  loss: 0.0509 (0.0597)  loss_classifier: 0.0208 (0.0216)  loss_box_reg: 0.0256 (0.0297)  loss_objectness: 0.0027 (0.0048)  loss_rpn_box_reg: 0.0023 (0.0036)  time: 2.0852  data: 0.0203  max mem: 10315\n",
      "Epoch: [2]  [ 800/1051]  eta: 0:08:44  lr: 0.005000  loss: 0.0405 (0.0585)  loss_classifier: 0.0159 (0.0212)  loss_box_reg: 0.0210 (0.0293)  loss_objectness: 0.0017 (0.0046)  loss_rpn_box_reg: 0.0024 (0.0034)  time: 2.0923  data: 0.0220  max mem: 10315\n",
      "Epoch: [2]  [ 900/1051]  eta: 0:05:15  lr: 0.005000  loss: 0.0441 (0.0586)  loss_classifier: 0.0166 (0.0212)  loss_box_reg: 0.0205 (0.0292)  loss_objectness: 0.0034 (0.0047)  loss_rpn_box_reg: 0.0023 (0.0034)  time: 2.0895  data: 0.0197  max mem: 10315\n",
      "Epoch: [2]  [1000/1051]  eta: 0:01:46  lr: 0.005000  loss: 0.0370 (0.0584)  loss_classifier: 0.0144 (0.0212)  loss_box_reg: 0.0204 (0.0293)  loss_objectness: 0.0009 (0.0045)  loss_rpn_box_reg: 0.0020 (0.0033)  time: 2.0893  data: 0.0201  max mem: 10315\n",
      "Epoch: [2]  [1050/1051]  eta: 0:00:02  lr: 0.005000  loss: 0.0443 (0.0581)  loss_classifier: 0.0155 (0.0211)  loss_box_reg: 0.0270 (0.0293)  loss_objectness: 0.0018 (0.0044)  loss_rpn_box_reg: 0.0019 (0.0033)  time: 2.0737  data: 0.0190  max mem: 10315\n",
      "Epoch: [2] Total time: 0:36:37 (2.0911 s / it)\n",
      "training_loss: tensor(0.0515, device='cuda:0')\n"
     ]
    }
   ],
   "source": [
    "# Entrenar modelo\n",
    "num_epochs = 100\n",
    "epochs_limit = 5\n",
    "model_path = '/home/jupyter/Falabella/model_cf_12y3_2.pth'\n",
    "name = 'model_cf_12y3_2'\n",
    "\n",
    "model_dict = train_early_stop(name, num_epochs, epochs_limit, model, \\\n",
    "                 optimizer, trainloader, testloader, device, model_path, \\\n",
    "                 print_freq = 100)"
   ]
  },
  {
   "cell_type": "markdown",
   "metadata": {
    "tags": []
   },
   "source": [
    "### Graficar curva de pérdidas"
   ]
  },
  {
   "cell_type": "code",
   "execution_count": null,
   "metadata": {
    "tags": []
   },
   "outputs": [],
   "source": [
    "import matplotlib.pyplot as plt\n",
    "import matplotlib as mpl\n",
    "\n",
    "train_losses = model_dict['train_losses']\n",
    "val_losses = model_dict['val_losses']\n",
    "\n",
    "# training and validation loss\n",
    "mpl.style.use('seaborn')\n",
    "plt.plot(list(range(len(train_losses))), train_losses, 'teal', label='Training loss')\n",
    "plt.plot(list(range(len(val_losses))), val_losses, 'orange', label='validation loss')\n",
    "plt.title('Training and Validation loss')\n",
    "plt.xlabel('Epochs')\n",
    "plt.ylabel('Loss')\n",
    "plt.legend()\n",
    "plt.show()"
   ]
  },
  {
   "cell_type": "markdown",
   "metadata": {
    "tags": []
   },
   "source": [
    "### Entrenamiento con todo el dataset"
   ]
  },
  {
   "cell_type": "code",
   "execution_count": null,
   "metadata": {
    "colab": {
     "base_uri": "https://localhost:8080/",
     "height": 1000,
     "referenced_widgets": [
      "7d1c6cc87f234810b37ab4ea0c2120d6",
      "7774df6a12f547f8bd9f446161041392",
      "8c6a709acfdd4092a9ae3bb186a4e044",
      "dfbf10ebbb9a4be6a0e33035c98df9a8",
      "bf42e6d127dd4346b7b6f4b5ba97d998",
      "e1992555f2ca48a18ffa49a8c5f2f38a",
      "6a1588abc4c7467e99d5bc3d6c5b924f",
      "b6edb722ec7240988c917f7fcb609a1a",
      "1a28955fcbbd46029540f275da425156",
      "5e732fd176f047d28ca83611fd3891b4",
      "dc7fff976f2445fe8e4c471fcd51eea4"
     ]
    },
    "id": "f9kDUevnEwYD",
    "outputId": "4281465b-0e93-4ed1-cf37-9e2974d9a445",
    "tags": []
   },
   "outputs": [],
   "source": [
    "# cargar modelo ya entrenado\n",
    "num_classes = 2\n",
    "model = get_object_detection_model(num_classes)\n",
    "model_dict = torch.load(model_path)\n",
    "model.load_state_dict(model_dict['model_state_dict'])"
   ]
  },
  {
   "cell_type": "code",
   "execution_count": null,
   "metadata": {
    "colab": {
     "base_uri": "https://localhost:8080/"
    },
    "id": "lk1DlG9xGjvo",
    "outputId": "d59dedd8-cb5b-4bbe-fde1-582d8503c7ac"
   },
   "outputs": [],
   "source": [
    "# obtener epoca óptima\n",
    "optimal_epoch = model_dict['epoch']\n",
    "print(optimal_epoch)"
   ]
  },
  {
   "cell_type": "code",
   "execution_count": null,
   "metadata": {},
   "outputs": [],
   "source": [
    "# generar dataset\n",
    "# FIJARSE QUE TRANSFORMACIÓN SEA LA MISMA CON LA CUAL SE REALIZÓ \n",
    "# EL EARLY STOPPING\n",
    "dataset = PhotosLabelsDataset_od(dictionary = dict_data, root_dir = path_fotografias, transforms=train_transform)"
   ]
  },
  {
   "cell_type": "code",
   "execution_count": null,
   "metadata": {},
   "outputs": [],
   "source": [
    "# comprobar largo dataset\n",
    "len(dataset)"
   ]
  },
  {
   "cell_type": "code",
   "execution_count": null,
   "metadata": {},
   "outputs": [],
   "source": [
    "# generar baches\n",
    "dataloader = torch.utils.data.DataLoader(dataset, batch_size=10,\n",
    "                        shuffle=True, num_workers=4, \n",
    "                        collate_fn=utils.collate_fn,)"
   ]
  },
  {
   "cell_type": "markdown",
   "metadata": {
    "tags": []
   },
   "source": [
    "#### Re-inicializar el modelo con mismos parámetros que para early stopping"
   ]
  },
  {
   "cell_type": "code",
   "execution_count": null,
   "metadata": {},
   "outputs": [],
   "source": [
    "# entrenar en gpu si es posible\n",
    "device = torch.device('cuda') if torch.cuda.is_available() else torch.device('cpu')\n",
    "\n",
    "# definir numero de clases\n",
    "num_classes = 2 # one class (class 0) is dedicated to the \"background\"\n",
    "\n",
    "# obtener modelo mediante función de ayuda\n",
    "model = get_object_detection_model(num_classes)\n",
    "\n",
    "# optimizador\n",
    "params = [p for p in model.parameters() if p.requires_grad]\n",
    "optimizer = torch.optim.SGD(params, lr=0.005, momentum=0.9, weight_decay=0.0005)\n",
    "\n",
    "# se define un learning rate scheduler que decrementa el learning rate por \n",
    "# 10x cada 3 epocas -> ej: 0.005 si epoca < 3, 0.0005 si 3 <= epoca < 6, etc\n",
    "lr_scheduler = torch.optim.lr_scheduler.StepLR(\n",
    "  optimizer,\n",
    "  step_size=3,\n",
    "  gamma=0.1\n",
    ")"
   ]
  },
  {
   "cell_type": "code",
   "execution_count": null,
   "metadata": {},
   "outputs": [],
   "source": [
    "# Entrenar modelo\n",
    "\n",
    "num_epochs = 100\n",
    "epochs_limit = 5\n",
    "model_path = '/home/jupyter/Falabella/model_cf_12y3_2_full.pth'\n",
    "name = 'model_cf_12y3_2_full'\n",
    "\n",
    "model_dict = train_all_set(name, num_epochs, model, optimizer, \\\n",
    "                     dataloader, device, model_path, \\\n",
    "                  print_freq = 100):"
   ]
  },
  {
   "cell_type": "code",
   "execution_count": null,
   "metadata": {
    "jupyter": {
     "source_hidden": true
    },
    "tags": []
   },
   "outputs": [],
   "source": [
    "# training for 5 epochs\n",
    "num_epochs = optimal_epoch\n",
    "#PATH = './model_sf.pth'\n",
    "PATH = '/home/jupyter/Falabella/model_cf_12y3_1.pth'\n",
    "\n",
    "for epoch in range(num_epochs):\n",
    "    # training for one epoch\n",
    "    train_one_epoch(model, optimizer, dataloader, device, epoch, print_freq=10)\n",
    "    # update the learning rate\n",
    "    lr_scheduler.step()\n",
    "    \n",
    "# se guarda el modelo\n",
    "torch.save({'model_state_dict': model.state_dict(),\n",
    "            'optimizer_state_dict': optimizer.state_dict(),\n",
    "            }, PATH)"
   ]
  },
  {
   "cell_type": "markdown",
   "metadata": {
    "tags": []
   },
   "source": [
    "## Evaluación modelo"
   ]
  },
  {
   "cell_type": "markdown",
   "metadata": {
    "id": "A3vocvzqIQ-G",
    "tags": []
   },
   "source": [
    "### Revisión del modelo en algunas imágenes de test"
   ]
  },
  {
   "cell_type": "markdown",
   "metadata": {
    "tags": []
   },
   "source": [
    "#### Función para dibujar true_bbox y predicted_bbox"
   ]
  },
  {
   "cell_type": "code",
   "execution_count": null,
   "metadata": {
    "id": "JDJH1jytH8-Z"
   },
   "outputs": [],
   "source": [
    "# Function to visualize bounding boxes in the image\n",
    "def plot_img_bbox(img, target, axs, i, j, device, prediction = None):\n",
    "  axs[i,j].imshow(img.to(device))\n",
    "  \n",
    "  if prediction:\n",
    "    boxes = target['boxes'].to(device)\n",
    "    indice = 0\n",
    "    for score in target['scores']:\n",
    "      if score >= 0.5:\n",
    "        box = boxes[indice]\n",
    "        x, y, width, height  = box[0], box[1], box[2]-box[0], box[3]-box[1]\n",
    "        rect = patches.Rectangle(\n",
    "          (x, y),\n",
    "          width, height,\n",
    "          linewidth = 2,\n",
    "          edgecolor = 'b',\n",
    "          facecolor = 'none'\n",
    "        )\n",
    "        # Draw the bounding box on top of the image\n",
    "        axs[i,j].add_patch(rect) \n",
    "      indice+=1      \n",
    "  \n",
    "  else:\n",
    "    for box in (target['boxes'].to(device)):\n",
    "      x, y, width, height  = box[0], box[1], box[2]-box[0], box[3]-box[1]\n",
    "      rect = patches.Rectangle(\n",
    "        (x, y),\n",
    "        width, height,\n",
    "        linewidth = 2,\n",
    "        edgecolor = 'r',\n",
    "        facecolor = 'none'\n",
    "      )\n",
    "      # Draw the bounding box on top of the image\n",
    "      axs[i,j].add_patch(rect)"
   ]
  },
  {
   "cell_type": "markdown",
   "metadata": {
    "tags": []
   },
   "source": [
    "#### Imágenes"
   ]
  },
  {
   "cell_type": "code",
   "execution_count": null,
   "metadata": {
    "colab": {
     "base_uri": "https://localhost:8080/",
     "height": 1000
    },
    "id": "jPqFIANLxelg",
    "outputId": "e0b02041-3554-4125-ac47-b20222f8bdbb",
    "tags": []
   },
   "outputs": [],
   "source": [
    "# Visualización de algunas imagenes \n",
    "w, h = 6, 6\n",
    "fig, axs = plt.subplots(h, w, figsize=(4*w,4*h))\n",
    "idx=0\n",
    "for i in range(h):\n",
    "  for j in range(w):\n",
    "    img, label = test_set[idx]\n",
    "    idx+=1\n",
    "    plot_img_bbox(img.permute(1,2,0), label, axs, i, j, 'cpu')"
   ]
  },
  {
   "cell_type": "code",
   "execution_count": null,
   "metadata": {
    "colab": {
     "base_uri": "https://localhost:8080/",
     "height": 1000
    },
    "id": "k_t-JUQizrWv",
    "outputId": "4c08f5fd-2a4c-4ad2-9a14-cceacde44ecb",
    "tags": []
   },
   "outputs": [],
   "source": [
    "# Visualización de predicciones\n",
    "w, h = 6, 6\n",
    "fig, axs = plt.subplots(h, w, figsize=(4*w,4*h))\n",
    "idx=0\n",
    "device = 'cuda'\n",
    "model.to(device)\n",
    "model.eval()              # turn the model to evaluate mode\n",
    "with torch.no_grad():     # does not calculate gradient\n",
    "  for i in range(h):\n",
    "    for j in range(w):\n",
    "      img, _ = test_set[idx]\n",
    "      prediction = model([img.to(device)])\n",
    "      idx+=1\n",
    "      plot_img_bbox(img.permute(1,2,0), prediction[0], axs, i, j, 'cpu', True)"
   ]
  },
  {
   "cell_type": "markdown",
   "metadata": {
    "id": "U-8Lq3XRdLJC",
    "tags": []
   },
   "source": [
    "### Prueba con 1000_test"
   ]
  },
  {
   "cell_type": "code",
   "execution_count": null,
   "metadata": {
    "id": "s1ODrQfOdSre"
   },
   "outputs": [],
   "source": [
    "# función para calcular accuracy 1:1, obtener true_labels, predicciones\n",
    "# y scores\n",
    "import os\n",
    "from skimage import io, transform\n",
    "\n",
    "def od_acc_1000_test(model, path_images, path_xlsx, device = 'cuda'):\n",
    "  acc = 0\n",
    "  df = pd.read_excel(path_xlsx)\n",
    "  model.to(device)\n",
    "  model.eval()              # turn the model to evaluate mode\n",
    "  count = 0\n",
    "  #y_test = []\n",
    "  y_true = []\n",
    "  y_pred = []\n",
    "  y_score = []\n",
    "  aciertos = 0\n",
    "  with torch.no_grad():\n",
    "    for img_name in os.listdir(path_images):\n",
    "      full_img_name = os.path.join(path_images, img_name)\n",
    "      image =io.imread(full_img_name)\n",
    "      t_img = transform.resize(image, (480, 480))\n",
    "      t_img = torch.Tensor(t_img).permute(2,0,1).to(device)\n",
    "      prediction = model([t_img])\n",
    "      if prediction[0]['labels'].shape[0] > 0 and max(prediction[0]['scores']).item() >= 0.5:\n",
    "      #if prediction[0]['labels'].shape[0] > 0: \n",
    "        pred_class = 1\n",
    "      else:\n",
    "        pred_class = 0\n",
    "      y_pred.append(pred_class)\n",
    "      indice = int(img_name.split('.')[0])\n",
    "      true_class = df.loc[indice]['Producto']\n",
    "      #y_test.append(true_class)\n",
    "      y_true.append(true_class)\n",
    "      if prediction[0]['labels'].shape[0] > 0:\n",
    "        y_score.append(max(prediction[0]['scores']).item())\n",
    "      else:\n",
    "        y_score.append(0)\n",
    "      if pred_class == true_class:\n",
    "        aciertos += 1\n",
    "      else:\n",
    "        pass\n",
    "      count+=1\n",
    "    acc = aciertos/count\n",
    "\n",
    "    return acc, y_true, y_pred, y_score"
   ]
  },
  {
   "cell_type": "code",
   "execution_count": null,
   "metadata": {
    "id": "NAmcOcR2gZbb",
    "tags": []
   },
   "outputs": [],
   "source": [
    "path_images = '/home/jupyter/Falabella/test_1000_imagenes/imagenes'\n",
    "path_xlsx= '/home/jupyter/Falabella/test_1000_imagenes/etiquetado ML_revisada.xlsx'\n",
    "od_acc, y_true_list, y_pred_list, y_score_list= od_acc_1000_test(model, path_images, path_xlsx, device = 'cuda')"
   ]
  },
  {
   "cell_type": "code",
   "execution_count": null,
   "metadata": {},
   "outputs": [],
   "source": [
    "from sklearn.metrics import roc_curve, roc_auc_score\n",
    "# Calculamos la curva ROC para etiqueta\n",
    "fpr, tpr, _ = roc_curve(y_true_list , y_score_list)\n",
    "#plt.plot(ns_fpr, ns_tpr, linestyle='--', label='Sin entrenar')\n",
    "auc = roc_auc_score(y_true_list, y_score_list)\n",
    "label = 'auc:' + str(round(auc,2))\n",
    "plt.plot(fpr, tpr, marker='.', label = label, color = 'green')\n",
    "# Etiquetas de los ejes\n",
    "plt.title('Paquete')\n",
    "plt.xlabel('Tasa de Falsos Positivos')\n",
    "plt.ylabel('Tasa de Verdaderos Positivos')\n",
    "plt.legend(loc = 'lower right' )\n",
    "plt.show()"
   ]
  },
  {
   "cell_type": "code",
   "execution_count": null,
   "metadata": {},
   "outputs": [],
   "source": [
    "from sklearn.metrics import confusion_matrix\n",
    "import seaborn as sns\n",
    "\n",
    "#Generate the confusion matrix\n",
    "#y_test = np.array(y_test_list)\n",
    "y_true = np.array(y_true_list)\n",
    "y_pred = np.array(y_pred_list)\n",
    "#cf_matrix = confusion_matrix(y_test, y_pred)\n",
    "cf_matrix = confusion_matrix(y_true, y_pred)\n",
    "print(cf_matrix)\n",
    "accuracy = (cf_matrix[0][0]+cf_matrix[1][1])/(cf_matrix[0][0] + cf_matrix[0][1] + cf_matrix[1][0]+cf_matrix[1][1])\n",
    "recall = cf_matrix[1][1]/(cf_matrix[1][1]+cf_matrix[0][1])\n",
    "precision = cf_matrix[1][1]/(cf_matrix[1][1]+cf_matrix[1][0])\n",
    "F1 = 2*recall*precision/(recall + precision)\n",
    "print('accuracy:', accuracy, 'recall:', recall, 'precision:', precision, 'F1:', F1)\n",
    "\n",
    "ax = sns.heatmap(cf_matrix/np.sum(cf_matrix), annot=True, \n",
    "            fmt='.2%', cmap='Blues')\n",
    "\n",
    "ax.set_title('Seaborn Confusion Matrix with labels\\n\\n');\n",
    "ax.set_xlabel('\\nPredicted Values')\n",
    "ax.set_ylabel('Actual Values ');\n",
    "\n",
    "## Ticket labels - List must be in alphabetical order\n",
    "ax.xaxis.set_ticklabels(['Nada','Producto'])\n",
    "ax.yaxis.set_ticklabels(['Nada','Producto'])\n",
    "\n",
    "## Display the visualization of the Confusion Matrix.\n",
    "plt.show()"
   ]
  },
  {
   "cell_type": "code",
   "execution_count": null,
   "metadata": {},
   "outputs": [],
   "source": [
    "from sklearn.metrics import confusion_matrix\n",
    "import seaborn as sns\n",
    "\n",
    "#Generate the confusion matrix\n",
    "#y_test = np.array(y_test_list)\n",
    "y_true = np.array(y_true_list)\n",
    "y_pred = np.array(y_pred_list)\n",
    "#cf_matrix = confusion_matrix(y_test, y_pred)\n",
    "cf_matrix = confusion_matrix(y_true, y_pred)\n",
    "print(cf_matrix)\n",
    "accuracy = (cf_matrix[0][0]+cf_matrix[1][1])/(cf_matrix[0][0] + cf_matrix[0][1] + cf_matrix[1][0]+cf_matrix[1][1])\n",
    "recall = cf_matrix[1][1]/(cf_matrix[1][1]+cf_matrix[0][1])\n",
    "precision = cf_matrix[1][1]/(cf_matrix[1][1]+cf_matrix[1][0])\n",
    "F1 = 2*recall*precision/(recall + precision)\n",
    "print('accuracy:', accuracy, 'recall:', recall, 'precision:', precision, 'F1:', F1)\n",
    "\n",
    "ax = sns.heatmap(cf_matrix/np.sum(cf_matrix), annot=True, \n",
    "            fmt='.2%', cmap='Blues')\n",
    "\n",
    "ax.set_title('Seaborn Confusion Matrix with labels\\n\\n');\n",
    "ax.set_xlabel('\\nPredicted Values')\n",
    "ax.set_ylabel('Actual Values ');\n",
    "\n",
    "## Ticket labels - List must be in alphabetical order\n",
    "ax.xaxis.set_ticklabels(['Nada','Producto'])\n",
    "ax.yaxis.set_ticklabels(['Nada','Producto'])\n",
    "\n",
    "## Display the visualization of the Confusion Matrix.\n",
    "plt.show()"
   ]
  }
 ],
 "metadata": {
  "accelerator": "GPU",
  "colab": {
   "collapsed_sections": [
    "vxHCv7QqbTFI"
   ],
   "name": "Object Detection Baseline 2.ipynb",
   "provenance": []
  },
  "environment": {
   "kernel": "python3",
   "name": "pytorch-gpu.1-11.m94",
   "type": "gcloud",
   "uri": "gcr.io/deeplearning-platform-release/pytorch-gpu.1-11:m94"
  },
  "gpuClass": "standard",
  "kernelspec": {
   "display_name": "Python 3",
   "language": "python",
   "name": "python3"
  },
  "language_info": {
   "codemirror_mode": {
    "name": "ipython",
    "version": 3
   },
   "file_extension": ".py",
   "mimetype": "text/x-python",
   "name": "python",
   "nbconvert_exporter": "python",
   "pygments_lexer": "ipython3",
   "version": "3.7.12"
  },
  "widgets": {
   "application/vnd.jupyter.widget-state+json": {
    "1a28955fcbbd46029540f275da425156": {
     "model_module": "@jupyter-widgets/controls",
     "model_module_version": "1.5.0",
     "model_name": "ProgressStyleModel",
     "state": {
      "_model_module": "@jupyter-widgets/controls",
      "_model_module_version": "1.5.0",
      "_model_name": "ProgressStyleModel",
      "_view_count": null,
      "_view_module": "@jupyter-widgets/base",
      "_view_module_version": "1.2.0",
      "_view_name": "StyleView",
      "bar_color": null,
      "description_width": ""
     }
    },
    "5e732fd176f047d28ca83611fd3891b4": {
     "model_module": "@jupyter-widgets/base",
     "model_module_version": "1.2.0",
     "model_name": "LayoutModel",
     "state": {
      "_model_module": "@jupyter-widgets/base",
      "_model_module_version": "1.2.0",
      "_model_name": "LayoutModel",
      "_view_count": null,
      "_view_module": "@jupyter-widgets/base",
      "_view_module_version": "1.2.0",
      "_view_name": "LayoutView",
      "align_content": null,
      "align_items": null,
      "align_self": null,
      "border": null,
      "bottom": null,
      "display": null,
      "flex": null,
      "flex_flow": null,
      "grid_area": null,
      "grid_auto_columns": null,
      "grid_auto_flow": null,
      "grid_auto_rows": null,
      "grid_column": null,
      "grid_gap": null,
      "grid_row": null,
      "grid_template_areas": null,
      "grid_template_columns": null,
      "grid_template_rows": null,
      "height": null,
      "justify_content": null,
      "justify_items": null,
      "left": null,
      "margin": null,
      "max_height": null,
      "max_width": null,
      "min_height": null,
      "min_width": null,
      "object_fit": null,
      "object_position": null,
      "order": null,
      "overflow": null,
      "overflow_x": null,
      "overflow_y": null,
      "padding": null,
      "right": null,
      "top": null,
      "visibility": null,
      "width": null
     }
    },
    "6a1588abc4c7467e99d5bc3d6c5b924f": {
     "model_module": "@jupyter-widgets/controls",
     "model_module_version": "1.5.0",
     "model_name": "DescriptionStyleModel",
     "state": {
      "_model_module": "@jupyter-widgets/controls",
      "_model_module_version": "1.5.0",
      "_model_name": "DescriptionStyleModel",
      "_view_count": null,
      "_view_module": "@jupyter-widgets/base",
      "_view_module_version": "1.2.0",
      "_view_name": "StyleView",
      "description_width": ""
     }
    },
    "7774df6a12f547f8bd9f446161041392": {
     "model_module": "@jupyter-widgets/controls",
     "model_module_version": "1.5.0",
     "model_name": "HTMLModel",
     "state": {
      "_dom_classes": [],
      "_model_module": "@jupyter-widgets/controls",
      "_model_module_version": "1.5.0",
      "_model_name": "HTMLModel",
      "_view_count": null,
      "_view_module": "@jupyter-widgets/controls",
      "_view_module_version": "1.5.0",
      "_view_name": "HTMLView",
      "description": "",
      "description_tooltip": null,
      "layout": "IPY_MODEL_e1992555f2ca48a18ffa49a8c5f2f38a",
      "placeholder": "​",
      "style": "IPY_MODEL_6a1588abc4c7467e99d5bc3d6c5b924f",
      "value": "100%"
     }
    },
    "7d1c6cc87f234810b37ab4ea0c2120d6": {
     "model_module": "@jupyter-widgets/controls",
     "model_module_version": "1.5.0",
     "model_name": "HBoxModel",
     "state": {
      "_dom_classes": [],
      "_model_module": "@jupyter-widgets/controls",
      "_model_module_version": "1.5.0",
      "_model_name": "HBoxModel",
      "_view_count": null,
      "_view_module": "@jupyter-widgets/controls",
      "_view_module_version": "1.5.0",
      "_view_name": "HBoxView",
      "box_style": "",
      "children": [
       "IPY_MODEL_7774df6a12f547f8bd9f446161041392",
       "IPY_MODEL_8c6a709acfdd4092a9ae3bb186a4e044",
       "IPY_MODEL_dfbf10ebbb9a4be6a0e33035c98df9a8"
      ],
      "layout": "IPY_MODEL_bf42e6d127dd4346b7b6f4b5ba97d998"
     }
    },
    "8c6a709acfdd4092a9ae3bb186a4e044": {
     "model_module": "@jupyter-widgets/controls",
     "model_module_version": "1.5.0",
     "model_name": "FloatProgressModel",
     "state": {
      "_dom_classes": [],
      "_model_module": "@jupyter-widgets/controls",
      "_model_module_version": "1.5.0",
      "_model_name": "FloatProgressModel",
      "_view_count": null,
      "_view_module": "@jupyter-widgets/controls",
      "_view_module_version": "1.5.0",
      "_view_name": "ProgressView",
      "bar_style": "success",
      "description": "",
      "description_tooltip": null,
      "layout": "IPY_MODEL_b6edb722ec7240988c917f7fcb609a1a",
      "max": 167502836,
      "min": 0,
      "orientation": "horizontal",
      "style": "IPY_MODEL_1a28955fcbbd46029540f275da425156",
      "value": 167502836
     }
    },
    "b6edb722ec7240988c917f7fcb609a1a": {
     "model_module": "@jupyter-widgets/base",
     "model_module_version": "1.2.0",
     "model_name": "LayoutModel",
     "state": {
      "_model_module": "@jupyter-widgets/base",
      "_model_module_version": "1.2.0",
      "_model_name": "LayoutModel",
      "_view_count": null,
      "_view_module": "@jupyter-widgets/base",
      "_view_module_version": "1.2.0",
      "_view_name": "LayoutView",
      "align_content": null,
      "align_items": null,
      "align_self": null,
      "border": null,
      "bottom": null,
      "display": null,
      "flex": null,
      "flex_flow": null,
      "grid_area": null,
      "grid_auto_columns": null,
      "grid_auto_flow": null,
      "grid_auto_rows": null,
      "grid_column": null,
      "grid_gap": null,
      "grid_row": null,
      "grid_template_areas": null,
      "grid_template_columns": null,
      "grid_template_rows": null,
      "height": null,
      "justify_content": null,
      "justify_items": null,
      "left": null,
      "margin": null,
      "max_height": null,
      "max_width": null,
      "min_height": null,
      "min_width": null,
      "object_fit": null,
      "object_position": null,
      "order": null,
      "overflow": null,
      "overflow_x": null,
      "overflow_y": null,
      "padding": null,
      "right": null,
      "top": null,
      "visibility": null,
      "width": null
     }
    },
    "bf42e6d127dd4346b7b6f4b5ba97d998": {
     "model_module": "@jupyter-widgets/base",
     "model_module_version": "1.2.0",
     "model_name": "LayoutModel",
     "state": {
      "_model_module": "@jupyter-widgets/base",
      "_model_module_version": "1.2.0",
      "_model_name": "LayoutModel",
      "_view_count": null,
      "_view_module": "@jupyter-widgets/base",
      "_view_module_version": "1.2.0",
      "_view_name": "LayoutView",
      "align_content": null,
      "align_items": null,
      "align_self": null,
      "border": null,
      "bottom": null,
      "display": null,
      "flex": null,
      "flex_flow": null,
      "grid_area": null,
      "grid_auto_columns": null,
      "grid_auto_flow": null,
      "grid_auto_rows": null,
      "grid_column": null,
      "grid_gap": null,
      "grid_row": null,
      "grid_template_areas": null,
      "grid_template_columns": null,
      "grid_template_rows": null,
      "height": null,
      "justify_content": null,
      "justify_items": null,
      "left": null,
      "margin": null,
      "max_height": null,
      "max_width": null,
      "min_height": null,
      "min_width": null,
      "object_fit": null,
      "object_position": null,
      "order": null,
      "overflow": null,
      "overflow_x": null,
      "overflow_y": null,
      "padding": null,
      "right": null,
      "top": null,
      "visibility": null,
      "width": null
     }
    },
    "dc7fff976f2445fe8e4c471fcd51eea4": {
     "model_module": "@jupyter-widgets/controls",
     "model_module_version": "1.5.0",
     "model_name": "DescriptionStyleModel",
     "state": {
      "_model_module": "@jupyter-widgets/controls",
      "_model_module_version": "1.5.0",
      "_model_name": "DescriptionStyleModel",
      "_view_count": null,
      "_view_module": "@jupyter-widgets/base",
      "_view_module_version": "1.2.0",
      "_view_name": "StyleView",
      "description_width": ""
     }
    },
    "dfbf10ebbb9a4be6a0e33035c98df9a8": {
     "model_module": "@jupyter-widgets/controls",
     "model_module_version": "1.5.0",
     "model_name": "HTMLModel",
     "state": {
      "_dom_classes": [],
      "_model_module": "@jupyter-widgets/controls",
      "_model_module_version": "1.5.0",
      "_model_name": "HTMLModel",
      "_view_count": null,
      "_view_module": "@jupyter-widgets/controls",
      "_view_module_version": "1.5.0",
      "_view_name": "HTMLView",
      "description": "",
      "description_tooltip": null,
      "layout": "IPY_MODEL_5e732fd176f047d28ca83611fd3891b4",
      "placeholder": "​",
      "style": "IPY_MODEL_dc7fff976f2445fe8e4c471fcd51eea4",
      "value": " 160M/160M [00:00&lt;00:00, 225MB/s]"
     }
    },
    "e1992555f2ca48a18ffa49a8c5f2f38a": {
     "model_module": "@jupyter-widgets/base",
     "model_module_version": "1.2.0",
     "model_name": "LayoutModel",
     "state": {
      "_model_module": "@jupyter-widgets/base",
      "_model_module_version": "1.2.0",
      "_model_name": "LayoutModel",
      "_view_count": null,
      "_view_module": "@jupyter-widgets/base",
      "_view_module_version": "1.2.0",
      "_view_name": "LayoutView",
      "align_content": null,
      "align_items": null,
      "align_self": null,
      "border": null,
      "bottom": null,
      "display": null,
      "flex": null,
      "flex_flow": null,
      "grid_area": null,
      "grid_auto_columns": null,
      "grid_auto_flow": null,
      "grid_auto_rows": null,
      "grid_column": null,
      "grid_gap": null,
      "grid_row": null,
      "grid_template_areas": null,
      "grid_template_columns": null,
      "grid_template_rows": null,
      "height": null,
      "justify_content": null,
      "justify_items": null,
      "left": null,
      "margin": null,
      "max_height": null,
      "max_width": null,
      "min_height": null,
      "min_width": null,
      "object_fit": null,
      "object_position": null,
      "order": null,
      "overflow": null,
      "overflow_x": null,
      "overflow_y": null,
      "padding": null,
      "right": null,
      "top": null,
      "visibility": null,
      "width": null
     }
    }
   }
  }
 },
 "nbformat": 4,
 "nbformat_minor": 4
}
