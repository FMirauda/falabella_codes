{
 "cells": [
  {
   "cell_type": "code",
   "execution_count": 1,
   "id": "14d81270-3af4-4dee-8364-de49d8974577",
   "metadata": {
    "tags": []
   },
   "outputs": [],
   "source": [
    "# !pip3 install google-cloud-aiplatform --upgrade\n",
    "# !pip3 install kfp google-cloud-pipeline-components==0.1.1 --upgrade"
   ]
  },
  {
   "cell_type": "code",
   "execution_count": 2,
   "id": "24bb55d9-eda8-412e-a0d8-90df3e09e4a3",
   "metadata": {},
   "outputs": [],
   "source": [
    "# Importaciones \n",
    "from typing import NamedTuple\n",
    "from kfp.v2 import dsl\n",
    "import kfp\n",
    "from kfp.v2.dsl import (Artifact,\n",
    "                        Dataset,\n",
    "                        Input,\n",
    "                        Model,\n",
    "                        Output,\n",
    "                        Metrics,\n",
    "                        ClassificationMetrics,\n",
    "                        component, \n",
    "                        OutputPath, \n",
    "                        InputPath)\n",
    "\n",
    "from kfp.v2 import compiler\n",
    "from google.cloud import bigquery\n",
    "from google.cloud import aiplatform\n",
    "from google.cloud.aiplatform import pipeline_jobs\n",
    "from google_cloud_pipeline_components import aiplatform as gcc_aip"
   ]
  },
  {
   "cell_type": "markdown",
   "id": "f6b49e55-5619-4d49-8c1a-d7f0ecc2c388",
   "metadata": {},
   "source": [
    "## Constantes"
   ]
  },
  {
   "cell_type": "code",
   "execution_count": 3,
   "id": "e793d1c9-1363-4897-86d4-e12ca5e9e828",
   "metadata": {},
   "outputs": [],
   "source": [
    "PROJECT_ID = \"tc-sc-bi-bigdata-corp-tsod-dev\" \n",
    "BUCKET = \"gs://test_pod_images\"\n",
    "REGION = \"us-west1\"\n",
    "\n",
    "# Pipeline root\n",
    "PIPELINE_ROOT = f\"{BUCKET}/PIPELINES/\""
   ]
  },
  {
   "cell_type": "markdown",
   "id": "8bd750ae-f278-417d-82e7-6ad958a52f5e",
   "metadata": {},
   "source": [
    "# Get data Component"
   ]
  },
  {
   "cell_type": "code",
   "execution_count": 4,
   "id": "1d5e8ca2-b236-438a-807e-6eda63f45622",
   "metadata": {},
   "outputs": [],
   "source": [
    "@component(\n",
    "    packages_to_install=[\n",
    "        \"datetime\",\n",
    "        \"numpy\",\n",
    "        \"pandas\",\n",
    "        \"multiprocessing\",\n",
    "        \"opencv-python\"\n",
    "    ],\n",
    "    base_image=\"python:3.9\",\n",
    "    output_component_file=\"get_data.yaml\"\n",
    ")\n",
    "def get_data_parallel(query: str):\n",
    "    import datetime\n",
    "    import numpy as np\n",
    "    import pandas as pd\n",
    "    import cv2\n",
    "    import urllib\n",
    "    import urllib.request\n",
    "    from multiprocessing import cpu_count\n",
    "    from multiprocessing.pool import ThreadPool\n",
    "\n",
    "    from google.cloud import bigquery\n",
    "    from google.cloud import storage\n",
    "\n",
    "    date = datetime.datetime.now()    \n",
    "    client = bigquery.Client()\n",
    "\n",
    "    def get_data(url):\n",
    "        try:\n",
    "            url_str = url.split('/')[-1]\n",
    "            url_open = urllib.request.urlopen(url)\n",
    "            image_cv = np.asarray(bytearray(url_open.read()), dtype=\"uint8\")\n",
    "            image = cv2.imdecode(image_cv, cv2.IMREAD_COLOR)\n",
    "            image = cv2.cvtColor(image, cv2.COLOR_BGR2RGB)\n",
    "            img_str = cv2.imencode('.png', image)[1].tostring()\n",
    "\n",
    "            storage_client = storage.Client()\n",
    "            bucket = storage_client.bucket('pod_images')\n",
    "            blob = bucket.blob(f'{date.year}{date.month}0{date.day}/{url_str}')\n",
    "            blob.upload_from_string(img_str)\n",
    "        except:\n",
    "            pass\n",
    "        \n",
    "    df_images = client.query(query).to_dataframe()\n",
    "    urls = df_images.drop_duplicates(['url']).loc[:,'url'].iloc[:30]\n",
    "    \n",
    "    cpus = cpu_count()\n",
    "    results = ThreadPool(cpus-1).imap_unordered(get_data, urls)\n",
    "    # lista_base = [result for result in results]"
   ]
  },
  {
   "cell_type": "markdown",
   "id": "63c9851e-c219-4319-9c4d-ff949155d54e",
   "metadata": {},
   "source": [
    "# Build Pipeline"
   ]
  },
  {
   "cell_type": "code",
   "execution_count": 5,
   "id": "3162c604-b8ed-4f3d-8a2d-9e3030619249",
   "metadata": {},
   "outputs": [],
   "source": [
    "@kfp.dsl.pipeline(\n",
    "    pipeline_root=PIPELINE_ROOT,\n",
    "    name=\"get-data\",  # Your own naming for the pipeline.\n",
    ")\n",
    "def pipeline(\n",
    "      query : str\n",
    "    ):\n",
    "    # get name component\n",
    "    get_data_parallel_task = get_data_parallel(query)"
   ]
  },
  {
   "cell_type": "code",
   "execution_count": 6,
   "id": "1cd390a1-782c-40aa-bbce-41b525cffc9c",
   "metadata": {},
   "outputs": [
    {
     "name": "stderr",
     "output_type": "stream",
     "text": [
      "/opt/conda/lib/python3.7/site-packages/kfp/v2/compiler/compiler.py:1293: FutureWarning: APIs imported from the v1 namespace (e.g. kfp.dsl, kfp.components, etc) will not be supported by the v2 compiler since v2.0.0\n",
      "  category=FutureWarning,\n"
     ]
    }
   ],
   "source": [
    "compiler.Compiler().compile(\n",
    "    pipeline_func=pipeline, package_path=\"get-data.json\"\n",
    ")"
   ]
  },
  {
   "cell_type": "code",
   "execution_count": 7,
   "id": "bd375bc8-43ca-49a3-87b1-d88308ff5162",
   "metadata": {},
   "outputs": [
    {
     "name": "stdout",
     "output_type": "stream",
     "text": [
      "Creating PipelineJob\n",
      "PipelineJob created. Resource name: projects/1003479373544/locations/us-west1/pipelineJobs/get-data-20221103180613\n",
      "To use this PipelineJob in another session:\n",
      "pipeline_job = aiplatform.PipelineJob.get('projects/1003479373544/locations/us-west1/pipelineJobs/get-data-20221103180613')\n",
      "View Pipeline Job:\n",
      "https://console.cloud.google.com/vertex-ai/locations/us-west1/pipelines/runs/get-data-20221103180613?project=1003479373544\n"
     ]
    }
   ],
   "source": [
    "sql = \"\"\"\n",
    "SELECT DISTINCT transport_ord_id as SOC, i.url as url, shipment.plate_num as plate_num, \n",
    "provider.doc_id as provider_id, \n",
    "provider.doc_verify_digit as provider_verify_digit,\n",
    "provider.name as provider_name, driver.doc_id as driver_id, \n",
    "driver.doc_verify_digit as driver_verify_digit,\n",
    "driver.name as driver_name, driver.last_name as driver_last_name,\n",
    "DATETIME(event_crte_tmst, 'America/Santiago') as event_crte_tmst, dfl_crte_tmst\n",
    "FROM \n",
    "`tc-sc-bi-bigdata-corp-tsod-dev.image_recognition.btd_scha_fal_trmg_api_transport_order_temp`,\n",
    "unnest(image) as i\n",
    " \n",
    "WHERE\n",
    "  i.url is not null\n",
    "  and provider.name is not null\n",
    "  and provider.doc_id is not null\n",
    "  and DATE(event_crte_tmst, 'America/Santiago') = current_date() - 2\n",
    "\n",
    "\"\"\"\n",
    "\n",
    "job = aiplatform.PipelineJob(display_name = \"get_data\",\n",
    "                             template_path = \"get-data.json\",\n",
    "                             pipeline_root = PIPELINE_ROOT,\n",
    "                             parameter_values = {\"query\":sql},\n",
    "                             enable_caching = True,\n",
    "                             project = PROJECT_ID,\n",
    "                             location = REGION)\n",
    "\n",
    "job.submit()"
   ]
  },
  {
   "cell_type": "code",
   "execution_count": null,
   "id": "fe7581bd-2a43-4418-a700-d16464f4535d",
   "metadata": {},
   "outputs": [],
   "source": []
  },
  {
   "cell_type": "code",
   "execution_count": null,
   "id": "f8a312fb-122f-4ea3-991b-3ed70919ea06",
   "metadata": {},
   "outputs": [],
   "source": []
  }
 ],
 "metadata": {
  "environment": {
   "kernel": "python3",
   "name": "common-cpu.m99",
   "type": "gcloud",
   "uri": "gcr.io/deeplearning-platform-release/base-cpu:m99"
  },
  "kernelspec": {
   "display_name": "Python 3",
   "language": "python",
   "name": "python3"
  },
  "language_info": {
   "codemirror_mode": {
    "name": "ipython",
    "version": 3
   },
   "file_extension": ".py",
   "mimetype": "text/x-python",
   "name": "python",
   "nbconvert_exporter": "python",
   "pygments_lexer": "ipython3",
   "version": "3.7.12"
  }
 },
 "nbformat": 4,
 "nbformat_minor": 5
}
